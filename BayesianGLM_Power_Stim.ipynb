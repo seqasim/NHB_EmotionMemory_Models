{
 "cells": [
  {
   "cell_type": "markdown",
   "id": "89921b81-06ad-4757-8349-56998e1d31b1",
   "metadata": {},
   "source": [
    "This will be my notebook for conducting Bayesian mixed-effects logistic regression for power.\n",
    "\n",
    "I made separate notebooks for this bc it takes forever."
   ]
  },
  {
   "cell_type": "code",
   "execution_count": 1,
   "id": "f89f70c3-f2ac-49d9-93d0-6b592fea3dc6",
   "metadata": {},
   "outputs": [
    {
     "ename": "KeyboardInterrupt",
     "evalue": "",
     "output_type": "error",
     "traceback": [
      "\u001b[0;31m---------------------------------------------------------------------------\u001b[0m",
      "\u001b[0;31mKeyboardInterrupt\u001b[0m                         Traceback (most recent call last)",
      "    \u001b[0;31m[... skipping hidden 1 frame]\u001b[0m\n",
      "Input \u001b[0;32mIn [1]\u001b[0m, in \u001b[0;36m<cell line: 1>\u001b[0;34m()\u001b[0m\n\u001b[0;32m----> 1\u001b[0m \u001b[38;5;28;01mimport\u001b[39;00m \u001b[38;5;21;01marviz\u001b[39;00m \u001b[38;5;28;01mas\u001b[39;00m \u001b[38;5;21;01maz\u001b[39;00m\n\u001b[1;32m      2\u001b[0m \u001b[38;5;28;01mimport\u001b[39;00m \u001b[38;5;21;01mbambi\u001b[39;00m \u001b[38;5;28;01mas\u001b[39;00m \u001b[38;5;21;01mbmb\u001b[39;00m\n",
      "File \u001b[0;32m~/miniconda3/envs/bambi_env/lib/python3.10/site-packages/arviz/__init__.py:9\u001b[0m, in \u001b[0;36m<module>\u001b[0;34m\u001b[0m\n\u001b[1;32m      8\u001b[0m \u001b[38;5;28;01mfrom\u001b[39;00m \u001b[38;5;21;01mmatplotlib\u001b[39;00m\u001b[38;5;21;01m.\u001b[39;00m\u001b[38;5;21;01mcolors\u001b[39;00m \u001b[38;5;28;01mimport\u001b[39;00m LinearSegmentedColormap\n\u001b[0;32m----> 9\u001b[0m \u001b[38;5;28;01mfrom\u001b[39;00m \u001b[38;5;21;01mmatplotlib\u001b[39;00m\u001b[38;5;21;01m.\u001b[39;00m\u001b[38;5;21;01mpyplot\u001b[39;00m \u001b[38;5;28;01mimport\u001b[39;00m register_cmap, style\n\u001b[1;32m     12\u001b[0m \u001b[38;5;28;01mclass\u001b[39;00m \u001b[38;5;21;01mLogger\u001b[39;00m(logging\u001b[38;5;241m.\u001b[39mLogger):\n",
      "File \u001b[0;32m~/miniconda3/envs/bambi_env/lib/python3.10/site-packages/matplotlib/pyplot.py:49\u001b[0m, in \u001b[0;36m<module>\u001b[0;34m\u001b[0m\n\u001b[1;32m     48\u001b[0m \u001b[38;5;28;01mimport\u001b[39;00m \u001b[38;5;21;01mmatplotlib\u001b[39;00m\n\u001b[0;32m---> 49\u001b[0m \u001b[38;5;28;01mimport\u001b[39;00m \u001b[38;5;21;01mmatplotlib\u001b[39;00m\u001b[38;5;21;01m.\u001b[39;00m\u001b[38;5;21;01mcolorbar\u001b[39;00m\n\u001b[1;32m     50\u001b[0m \u001b[38;5;28;01mimport\u001b[39;00m \u001b[38;5;21;01mmatplotlib\u001b[39;00m\u001b[38;5;21;01m.\u001b[39;00m\u001b[38;5;21;01mimage\u001b[39;00m\n",
      "File \u001b[0;32m~/miniconda3/envs/bambi_env/lib/python3.10/site-packages/matplotlib/colorbar.py:21\u001b[0m, in \u001b[0;36m<module>\u001b[0;34m\u001b[0m\n\u001b[1;32m     20\u001b[0m \u001b[38;5;28;01mimport\u001b[39;00m \u001b[38;5;21;01mmatplotlib\u001b[39;00m \u001b[38;5;28;01mas\u001b[39;00m \u001b[38;5;21;01mmpl\u001b[39;00m\n\u001b[0;32m---> 21\u001b[0m \u001b[38;5;28;01mfrom\u001b[39;00m \u001b[38;5;21;01mmatplotlib\u001b[39;00m \u001b[38;5;28;01mimport\u001b[39;00m _api, collections, cm, colors, contour, ticker\n\u001b[1;32m     22\u001b[0m \u001b[38;5;28;01mimport\u001b[39;00m \u001b[38;5;21;01mmatplotlib\u001b[39;00m\u001b[38;5;21;01m.\u001b[39;00m\u001b[38;5;21;01martist\u001b[39;00m \u001b[38;5;28;01mas\u001b[39;00m \u001b[38;5;21;01mmartist\u001b[39;00m\n",
      "File \u001b[0;32m~/miniconda3/envs/bambi_env/lib/python3.10/site-packages/matplotlib/contour.py:20\u001b[0m, in \u001b[0;36m<module>\u001b[0;34m\u001b[0m\n\u001b[1;32m     19\u001b[0m \u001b[38;5;28;01mimport\u001b[39;00m \u001b[38;5;21;01mmatplotlib\u001b[39;00m\u001b[38;5;21;01m.\u001b[39;00m\u001b[38;5;21;01mfont_manager\u001b[39;00m \u001b[38;5;28;01mas\u001b[39;00m \u001b[38;5;21;01mfont_manager\u001b[39;00m\n\u001b[0;32m---> 20\u001b[0m \u001b[38;5;28;01mimport\u001b[39;00m \u001b[38;5;21;01mmatplotlib\u001b[39;00m\u001b[38;5;21;01m.\u001b[39;00m\u001b[38;5;21;01mtext\u001b[39;00m \u001b[38;5;28;01mas\u001b[39;00m \u001b[38;5;21;01mtext\u001b[39;00m\n\u001b[1;32m     21\u001b[0m \u001b[38;5;28;01mimport\u001b[39;00m \u001b[38;5;21;01mmatplotlib\u001b[39;00m\u001b[38;5;21;01m.\u001b[39;00m\u001b[38;5;21;01mcbook\u001b[39;00m \u001b[38;5;28;01mas\u001b[39;00m \u001b[38;5;21;01mcbook\u001b[39;00m\n",
      "File \u001b[0;32m~/miniconda3/envs/bambi_env/lib/python3.10/site-packages/matplotlib/text.py:1597\u001b[0m, in \u001b[0;36m<module>\u001b[0;34m\u001b[0m\n\u001b[1;32m   1594\u001b[0m         \u001b[38;5;28;01mreturn\u001b[39;00m \u001b[38;5;28mself\u001b[39m\u001b[38;5;241m.\u001b[39m_draggable\n\u001b[0;32m-> 1597\u001b[0m \u001b[38;5;28;01mclass\u001b[39;00m \u001b[38;5;21;01mAnnotation\u001b[39;00m(Text, _AnnotationBase):\n\u001b[1;32m   1598\u001b[0m     \u001b[38;5;124;03m\"\"\"\u001b[39;00m\n\u001b[1;32m   1599\u001b[0m \u001b[38;5;124;03m    An `.Annotation` is a `.Text` that can refer to a specific position *xy*.\u001b[39;00m\n\u001b[1;32m   1600\u001b[0m \u001b[38;5;124;03m    Optionally an arrow pointing from the text to *xy* can be drawn.\u001b[39;00m\n\u001b[0;32m   (...)\u001b[0m\n\u001b[1;32m   1609\u001b[0m \u001b[38;5;124;03m        A `.FancyArrowPatch` to point from *xytext* to *xy*.\u001b[39;00m\n\u001b[1;32m   1610\u001b[0m \u001b[38;5;124;03m    \"\"\"\u001b[39;00m\n",
      "File \u001b[0;32m~/miniconda3/envs/bambi_env/lib/python3.10/site-packages/matplotlib/artist.py:119\u001b[0m, in \u001b[0;36mArtist.__init_subclass__\u001b[0;34m(cls)\u001b[0m\n\u001b[1;32m    118\u001b[0m \u001b[38;5;28mcls\u001b[39m\u001b[38;5;241m.\u001b[39mset\u001b[38;5;241m.\u001b[39m\u001b[38;5;18m__qualname__\u001b[39m \u001b[38;5;241m=\u001b[39m \u001b[38;5;124mf\u001b[39m\u001b[38;5;124m\"\u001b[39m\u001b[38;5;132;01m{\u001b[39;00m\u001b[38;5;28mcls\u001b[39m\u001b[38;5;241m.\u001b[39m\u001b[38;5;18m__qualname__\u001b[39m\u001b[38;5;132;01m}\u001b[39;00m\u001b[38;5;124m.set\u001b[39m\u001b[38;5;124m\"\u001b[39m\n\u001b[0;32m--> 119\u001b[0m \u001b[38;5;28;43mcls\u001b[39;49m\u001b[38;5;241;43m.\u001b[39;49m\u001b[43m_update_set_signature_and_docstring\u001b[49m\u001b[43m(\u001b[49m\u001b[43m)\u001b[49m\n",
      "File \u001b[0;32m~/miniconda3/envs/bambi_env/lib/python3.10/site-packages/matplotlib/artist.py:140\u001b[0m, in \u001b[0;36mArtist._update_set_signature_and_docstring\u001b[0;34m(cls)\u001b[0m\n\u001b[1;32m    130\u001b[0m \u001b[38;5;124;03m\"\"\"\u001b[39;00m\n\u001b[1;32m    131\u001b[0m \u001b[38;5;124;03mUpdate the signature of the set function to list all properties\u001b[39;00m\n\u001b[1;32m    132\u001b[0m \u001b[38;5;124;03mas keyword arguments.\u001b[39;00m\n\u001b[0;32m   (...)\u001b[0m\n\u001b[1;32m    135\u001b[0m \u001b[38;5;124;03mare still accepted as keyword arguments.\u001b[39;00m\n\u001b[1;32m    136\u001b[0m \u001b[38;5;124;03m\"\"\"\u001b[39;00m\n\u001b[1;32m    137\u001b[0m \u001b[38;5;28mcls\u001b[39m\u001b[38;5;241m.\u001b[39mset\u001b[38;5;241m.\u001b[39m__signature__ \u001b[38;5;241m=\u001b[39m Signature(\n\u001b[1;32m    138\u001b[0m     [Parameter(\u001b[38;5;124m\"\u001b[39m\u001b[38;5;124mself\u001b[39m\u001b[38;5;124m\"\u001b[39m, Parameter\u001b[38;5;241m.\u001b[39mPOSITIONAL_OR_KEYWORD),\n\u001b[1;32m    139\u001b[0m      \u001b[38;5;241m*\u001b[39m[Parameter(prop, Parameter\u001b[38;5;241m.\u001b[39mKEYWORD_ONLY, default\u001b[38;5;241m=\u001b[39m_UNSET)\n\u001b[0;32m--> 140\u001b[0m        \u001b[38;5;28;01mfor\u001b[39;00m prop \u001b[38;5;129;01min\u001b[39;00m \u001b[43mArtistInspector\u001b[49m\u001b[43m(\u001b[49m\u001b[38;5;28;43mcls\u001b[39;49m\u001b[43m)\u001b[49m\u001b[38;5;241;43m.\u001b[39;49m\u001b[43mget_setters\u001b[49m\u001b[43m(\u001b[49m\u001b[43m)\u001b[49m\n\u001b[1;32m    141\u001b[0m        \u001b[38;5;28;01mif\u001b[39;00m prop \u001b[38;5;129;01mnot\u001b[39;00m \u001b[38;5;129;01min\u001b[39;00m Artist\u001b[38;5;241m.\u001b[39m_PROPERTIES_EXCLUDED_FROM_SET]])\n\u001b[1;32m    142\u001b[0m \u001b[38;5;28mcls\u001b[39m\u001b[38;5;241m.\u001b[39mset\u001b[38;5;241m.\u001b[39m_autogenerated_signature \u001b[38;5;241m=\u001b[39m \u001b[38;5;28;01mTrue\u001b[39;00m\n",
      "File \u001b[0;32m~/miniconda3/envs/bambi_env/lib/python3.10/site-packages/matplotlib/artist.py:1431\u001b[0m, in \u001b[0;36mArtistInspector.get_setters\u001b[0;34m(self)\u001b[0m\n\u001b[1;32m   1430\u001b[0m \u001b[38;5;28;01mfor\u001b[39;00m name \u001b[38;5;129;01min\u001b[39;00m \u001b[38;5;28mdir\u001b[39m(\u001b[38;5;28mself\u001b[39m\u001b[38;5;241m.\u001b[39mo):\n\u001b[0;32m-> 1431\u001b[0m     \u001b[38;5;28;01mif\u001b[39;00m \u001b[38;5;129;01mnot\u001b[39;00m \u001b[43mname\u001b[49m\u001b[38;5;241;43m.\u001b[39;49m\u001b[43mstartswith\u001b[49m\u001b[43m(\u001b[49m\u001b[38;5;124;43m'\u001b[39;49m\u001b[38;5;124;43mset_\u001b[39;49m\u001b[38;5;124;43m'\u001b[39;49m\u001b[43m)\u001b[49m:\n\u001b[1;32m   1432\u001b[0m         \u001b[38;5;28;01mcontinue\u001b[39;00m\n",
      "\u001b[0;31mKeyboardInterrupt\u001b[0m: ",
      "\nDuring handling of the above exception, another exception occurred:\n",
      "\u001b[0;31mKeyError\u001b[0m                                  Traceback (most recent call last)",
      "File \u001b[0;32m~/miniconda3/envs/bambi_env/lib/python3.10/site-packages/executing/executing.py:317\u001b[0m, in \u001b[0;36mSource.executing\u001b[0;34m(cls, frame_or_tb)\u001b[0m\n\u001b[1;32m    316\u001b[0m \u001b[38;5;28;01mtry\u001b[39;00m:\n\u001b[0;32m--> 317\u001b[0m     args \u001b[38;5;241m=\u001b[39m \u001b[43mexecuting_cache\u001b[49m\u001b[43m[\u001b[49m\u001b[43mkey\u001b[49m\u001b[43m]\u001b[49m\n\u001b[1;32m    318\u001b[0m \u001b[38;5;28;01mexcept\u001b[39;00m \u001b[38;5;167;01mKeyError\u001b[39;00m:\n",
      "\u001b[0;31mKeyError\u001b[0m: (<code object <module> at 0x2b581cf73940, file \"/home1/salman.qasim/miniconda3/envs/bambi_env/lib/python3.10/site-packages/arviz/__init__.py\", line 1>, 47657443080512, 40)",
      "\nDuring handling of the above exception, another exception occurred:\n",
      "\u001b[0;31mKeyboardInterrupt\u001b[0m                         Traceback (most recent call last)",
      "File \u001b[0;32m~/miniconda3/envs/bambi_env/lib/python3.10/site-packages/IPython/core/interactiveshell.py:1982\u001b[0m, in \u001b[0;36mInteractiveShell.showtraceback\u001b[0;34m(self, exc_tuple, filename, tb_offset, exception_only, running_compiled_code)\u001b[0m\n\u001b[1;32m   1981\u001b[0m     \u001b[38;5;28;01melse\u001b[39;00m:\n\u001b[0;32m-> 1982\u001b[0m         stb \u001b[38;5;241m=\u001b[39m \u001b[38;5;28;43mself\u001b[39;49m\u001b[38;5;241;43m.\u001b[39;49m\u001b[43mInteractiveTB\u001b[49m\u001b[38;5;241;43m.\u001b[39;49m\u001b[43mstructured_traceback\u001b[49m\u001b[43m(\u001b[49m\n\u001b[1;32m   1983\u001b[0m \u001b[43m            \u001b[49m\u001b[43metype\u001b[49m\u001b[43m,\u001b[49m\u001b[43m \u001b[49m\u001b[43mvalue\u001b[49m\u001b[43m,\u001b[49m\u001b[43m \u001b[49m\u001b[43mtb\u001b[49m\u001b[43m,\u001b[49m\u001b[43m \u001b[49m\u001b[43mtb_offset\u001b[49m\u001b[38;5;241;43m=\u001b[39;49m\u001b[43mtb_offset\u001b[49m\n\u001b[1;32m   1984\u001b[0m \u001b[43m        \u001b[49m\u001b[43m)\u001b[49m\n\u001b[1;32m   1986\u001b[0m \u001b[38;5;28;01mexcept\u001b[39;00m \u001b[38;5;167;01mException\u001b[39;00m:\n",
      "File \u001b[0;32m~/miniconda3/envs/bambi_env/lib/python3.10/site-packages/IPython/core/ultratb.py:1118\u001b[0m, in \u001b[0;36mAutoFormattedTB.structured_traceback\u001b[0;34m(self, etype, value, tb, tb_offset, number_of_lines_of_context)\u001b[0m\n\u001b[1;32m   1117\u001b[0m     \u001b[38;5;28mself\u001b[39m\u001b[38;5;241m.\u001b[39mtb \u001b[38;5;241m=\u001b[39m tb\n\u001b[0;32m-> 1118\u001b[0m \u001b[38;5;28;01mreturn\u001b[39;00m \u001b[43mFormattedTB\u001b[49m\u001b[38;5;241;43m.\u001b[39;49m\u001b[43mstructured_traceback\u001b[49m\u001b[43m(\u001b[49m\n\u001b[1;32m   1119\u001b[0m \u001b[43m    \u001b[49m\u001b[38;5;28;43mself\u001b[39;49m\u001b[43m,\u001b[49m\u001b[43m \u001b[49m\u001b[43metype\u001b[49m\u001b[43m,\u001b[49m\u001b[43m \u001b[49m\u001b[43mvalue\u001b[49m\u001b[43m,\u001b[49m\u001b[43m \u001b[49m\u001b[43mtb\u001b[49m\u001b[43m,\u001b[49m\u001b[43m \u001b[49m\u001b[43mtb_offset\u001b[49m\u001b[43m,\u001b[49m\u001b[43m \u001b[49m\u001b[43mnumber_of_lines_of_context\u001b[49m\u001b[43m)\u001b[49m\n",
      "File \u001b[0;32m~/miniconda3/envs/bambi_env/lib/python3.10/site-packages/IPython/core/ultratb.py:1012\u001b[0m, in \u001b[0;36mFormattedTB.structured_traceback\u001b[0;34m(self, etype, value, tb, tb_offset, number_of_lines_of_context)\u001b[0m\n\u001b[1;32m   1010\u001b[0m \u001b[38;5;28;01mif\u001b[39;00m mode \u001b[38;5;129;01min\u001b[39;00m \u001b[38;5;28mself\u001b[39m\u001b[38;5;241m.\u001b[39mverbose_modes:\n\u001b[1;32m   1011\u001b[0m     \u001b[38;5;66;03m# Verbose modes need a full traceback\u001b[39;00m\n\u001b[0;32m-> 1012\u001b[0m     \u001b[38;5;28;01mreturn\u001b[39;00m \u001b[43mVerboseTB\u001b[49m\u001b[38;5;241;43m.\u001b[39;49m\u001b[43mstructured_traceback\u001b[49m\u001b[43m(\u001b[49m\n\u001b[1;32m   1013\u001b[0m \u001b[43m        \u001b[49m\u001b[38;5;28;43mself\u001b[39;49m\u001b[43m,\u001b[49m\u001b[43m \u001b[49m\u001b[43metype\u001b[49m\u001b[43m,\u001b[49m\u001b[43m \u001b[49m\u001b[43mvalue\u001b[49m\u001b[43m,\u001b[49m\u001b[43m \u001b[49m\u001b[43mtb\u001b[49m\u001b[43m,\u001b[49m\u001b[43m \u001b[49m\u001b[43mtb_offset\u001b[49m\u001b[43m,\u001b[49m\u001b[43m \u001b[49m\u001b[43mnumber_of_lines_of_context\u001b[49m\n\u001b[1;32m   1014\u001b[0m \u001b[43m    \u001b[49m\u001b[43m)\u001b[49m\n\u001b[1;32m   1015\u001b[0m \u001b[38;5;28;01melif\u001b[39;00m mode \u001b[38;5;241m==\u001b[39m \u001b[38;5;124m'\u001b[39m\u001b[38;5;124mMinimal\u001b[39m\u001b[38;5;124m'\u001b[39m:\n",
      "File \u001b[0;32m~/miniconda3/envs/bambi_env/lib/python3.10/site-packages/IPython/core/ultratb.py:865\u001b[0m, in \u001b[0;36mVerboseTB.structured_traceback\u001b[0;34m(self, etype, evalue, etb, tb_offset, number_of_lines_of_context)\u001b[0m\n\u001b[1;32m    864\u001b[0m \u001b[38;5;124;03m\"\"\"Return a nice text document describing the traceback.\"\"\"\u001b[39;00m\n\u001b[0;32m--> 865\u001b[0m formatted_exception \u001b[38;5;241m=\u001b[39m \u001b[38;5;28;43mself\u001b[39;49m\u001b[38;5;241;43m.\u001b[39;49m\u001b[43mformat_exception_as_a_whole\u001b[49m\u001b[43m(\u001b[49m\u001b[43metype\u001b[49m\u001b[43m,\u001b[49m\u001b[43m \u001b[49m\u001b[43mevalue\u001b[49m\u001b[43m,\u001b[49m\u001b[43m \u001b[49m\u001b[43metb\u001b[49m\u001b[43m,\u001b[49m\u001b[43m \u001b[49m\u001b[43mnumber_of_lines_of_context\u001b[49m\u001b[43m,\u001b[49m\n\u001b[1;32m    866\u001b[0m \u001b[43m                                                       \u001b[49m\u001b[43mtb_offset\u001b[49m\u001b[43m)\u001b[49m\n\u001b[1;32m    868\u001b[0m colors \u001b[38;5;241m=\u001b[39m \u001b[38;5;28mself\u001b[39m\u001b[38;5;241m.\u001b[39mColors  \u001b[38;5;66;03m# just a shorthand + quicker name lookup\u001b[39;00m\n",
      "File \u001b[0;32m~/miniconda3/envs/bambi_env/lib/python3.10/site-packages/IPython/core/ultratb.py:799\u001b[0m, in \u001b[0;36mVerboseTB.format_exception_as_a_whole\u001b[0;34m(self, etype, evalue, etb, number_of_lines_of_context, tb_offset)\u001b[0m\n\u001b[1;32m    797\u001b[0m head \u001b[38;5;241m=\u001b[39m \u001b[38;5;28mself\u001b[39m\u001b[38;5;241m.\u001b[39mprepare_header(etype, \u001b[38;5;28mself\u001b[39m\u001b[38;5;241m.\u001b[39mlong_header)\n\u001b[1;32m    798\u001b[0m records \u001b[38;5;241m=\u001b[39m (\n\u001b[0;32m--> 799\u001b[0m     \u001b[38;5;28;43mself\u001b[39;49m\u001b[38;5;241;43m.\u001b[39;49m\u001b[43mget_records\u001b[49m\u001b[43m(\u001b[49m\u001b[43metb\u001b[49m\u001b[43m,\u001b[49m\u001b[43m \u001b[49m\u001b[43mnumber_of_lines_of_context\u001b[49m\u001b[43m,\u001b[49m\u001b[43m \u001b[49m\u001b[43mtb_offset\u001b[49m\u001b[43m)\u001b[49m \u001b[38;5;28;01mif\u001b[39;00m etb \u001b[38;5;28;01melse\u001b[39;00m []\n\u001b[1;32m    800\u001b[0m )\n\u001b[1;32m    802\u001b[0m frames \u001b[38;5;241m=\u001b[39m []\n",
      "File \u001b[0;32m~/miniconda3/envs/bambi_env/lib/python3.10/site-packages/IPython/core/ultratb.py:854\u001b[0m, in \u001b[0;36mVerboseTB.get_records\u001b[0;34m(self, etb, number_of_lines_of_context, tb_offset)\u001b[0m\n\u001b[1;32m    849\u001b[0m options \u001b[38;5;241m=\u001b[39m stack_data\u001b[38;5;241m.\u001b[39mOptions(\n\u001b[1;32m    850\u001b[0m     before\u001b[38;5;241m=\u001b[39mbefore,\n\u001b[1;32m    851\u001b[0m     after\u001b[38;5;241m=\u001b[39mafter,\n\u001b[1;32m    852\u001b[0m     pygments_formatter\u001b[38;5;241m=\u001b[39mformatter,\n\u001b[1;32m    853\u001b[0m )\n\u001b[0;32m--> 854\u001b[0m \u001b[38;5;28;01mreturn\u001b[39;00m \u001b[38;5;28;43mlist\u001b[39;49m\u001b[43m(\u001b[49m\u001b[43mstack_data\u001b[49m\u001b[38;5;241;43m.\u001b[39;49m\u001b[43mFrameInfo\u001b[49m\u001b[38;5;241;43m.\u001b[39;49m\u001b[43mstack_data\u001b[49m\u001b[43m(\u001b[49m\u001b[43metb\u001b[49m\u001b[43m,\u001b[49m\u001b[43m \u001b[49m\u001b[43moptions\u001b[49m\u001b[38;5;241;43m=\u001b[39;49m\u001b[43moptions\u001b[49m\u001b[43m)\u001b[49m\u001b[43m)\u001b[49m[tb_offset:]\n",
      "File \u001b[0;32m~/miniconda3/envs/bambi_env/lib/python3.10/site-packages/stack_data/core.py:565\u001b[0m, in \u001b[0;36mFrameInfo.stack_data\u001b[0;34m(cls, frame_or_tb, options, collapse_repeated_frames)\u001b[0m\n\u001b[1;32m    563\u001b[0m     \u001b[38;5;28;01mreturn\u001b[39;00m frame\u001b[38;5;241m.\u001b[39mf_code, lineno\n\u001b[0;32m--> 565\u001b[0m \u001b[38;5;28;01myield from\u001b[39;00m collapse_repeated(\n\u001b[1;32m    566\u001b[0m     stack,\n\u001b[1;32m    567\u001b[0m     mapper\u001b[38;5;241m=\u001b[39mmapper,\n\u001b[1;32m    568\u001b[0m     collapser\u001b[38;5;241m=\u001b[39mRepeatedFrames,\n\u001b[1;32m    569\u001b[0m     key\u001b[38;5;241m=\u001b[39m_frame_key,\n\u001b[1;32m    570\u001b[0m )\n",
      "File \u001b[0;32m~/miniconda3/envs/bambi_env/lib/python3.10/site-packages/stack_data/utils.py:84\u001b[0m, in \u001b[0;36mcollapse_repeated\u001b[0;34m(lst, collapser, mapper, key)\u001b[0m\n\u001b[1;32m     83\u001b[0m \u001b[38;5;28;01mif\u001b[39;00m is_highlighted:\n\u001b[0;32m---> 84\u001b[0m     \u001b[38;5;28;01myield from\u001b[39;00m \u001b[38;5;28mmap\u001b[39m(mapper, original_group)\n\u001b[1;32m     85\u001b[0m \u001b[38;5;28;01melse\u001b[39;00m:\n",
      "File \u001b[0;32m~/miniconda3/envs/bambi_env/lib/python3.10/site-packages/stack_data/core.py:555\u001b[0m, in \u001b[0;36mFrameInfo.stack_data.<locals>.mapper\u001b[0;34m(f)\u001b[0m\n\u001b[1;32m    554\u001b[0m \u001b[38;5;28;01mdef\u001b[39;00m \u001b[38;5;21mmapper\u001b[39m(f):\n\u001b[0;32m--> 555\u001b[0m     \u001b[38;5;28;01mreturn\u001b[39;00m \u001b[38;5;28;43mcls\u001b[39;49m\u001b[43m(\u001b[49m\u001b[43mf\u001b[49m\u001b[43m,\u001b[49m\u001b[43m \u001b[49m\u001b[43moptions\u001b[49m\u001b[43m)\u001b[49m\n",
      "File \u001b[0;32m~/miniconda3/envs/bambi_env/lib/python3.10/site-packages/stack_data/core.py:520\u001b[0m, in \u001b[0;36mFrameInfo.__init__\u001b[0;34m(self, frame_or_tb, options)\u001b[0m\n\u001b[1;32m    515\u001b[0m \u001b[38;5;28;01mdef\u001b[39;00m \u001b[38;5;21m__init__\u001b[39m(\n\u001b[1;32m    516\u001b[0m         \u001b[38;5;28mself\u001b[39m,\n\u001b[1;32m    517\u001b[0m         frame_or_tb: Union[FrameType, TracebackType],\n\u001b[1;32m    518\u001b[0m         options: Optional[Options] \u001b[38;5;241m=\u001b[39m \u001b[38;5;28;01mNone\u001b[39;00m,\n\u001b[1;32m    519\u001b[0m ):\n\u001b[0;32m--> 520\u001b[0m     \u001b[38;5;28mself\u001b[39m\u001b[38;5;241m.\u001b[39mexecuting \u001b[38;5;241m=\u001b[39m \u001b[43mSource\u001b[49m\u001b[38;5;241;43m.\u001b[39;49m\u001b[43mexecuting\u001b[49m\u001b[43m(\u001b[49m\u001b[43mframe_or_tb\u001b[49m\u001b[43m)\u001b[49m\n\u001b[1;32m    521\u001b[0m     frame, \u001b[38;5;28mself\u001b[39m\u001b[38;5;241m.\u001b[39mlineno \u001b[38;5;241m=\u001b[39m frame_and_lineno(frame_or_tb)\n",
      "File \u001b[0;32m~/miniconda3/envs/bambi_env/lib/python3.10/site-packages/executing/executing.py:369\u001b[0m, in \u001b[0;36mSource.executing\u001b[0;34m(cls, frame_or_tb)\u001b[0m\n\u001b[1;32m    367\u001b[0m     \u001b[38;5;28;01mreturn\u001b[39;00m source, node, stmts, decorator\n\u001b[0;32m--> 369\u001b[0m args \u001b[38;5;241m=\u001b[39m find(source\u001b[38;5;241m=\u001b[39m\u001b[38;5;28;43mcls\u001b[39;49m\u001b[38;5;241;43m.\u001b[39;49m\u001b[43mfor_frame\u001b[49m\u001b[43m(\u001b[49m\u001b[43mframe\u001b[49m\u001b[43m)\u001b[49m, retry_cache\u001b[38;5;241m=\u001b[39m\u001b[38;5;28;01mTrue\u001b[39;00m)\n\u001b[1;32m    370\u001b[0m executing_cache[key] \u001b[38;5;241m=\u001b[39m args\n",
      "File \u001b[0;32m~/miniconda3/envs/bambi_env/lib/python3.10/site-packages/executing/executing.py:252\u001b[0m, in \u001b[0;36mSource.for_frame\u001b[0;34m(cls, frame, use_cache)\u001b[0m\n\u001b[1;32m    249\u001b[0m \u001b[38;5;124;03m\"\"\"\u001b[39;00m\n\u001b[1;32m    250\u001b[0m \u001b[38;5;124;03mReturns the `Source` object corresponding to the file the frame is executing in.\u001b[39;00m\n\u001b[1;32m    251\u001b[0m \u001b[38;5;124;03m\"\"\"\u001b[39;00m\n\u001b[0;32m--> 252\u001b[0m \u001b[38;5;28;01mreturn\u001b[39;00m \u001b[38;5;28;43mcls\u001b[39;49m\u001b[38;5;241;43m.\u001b[39;49m\u001b[43mfor_filename\u001b[49m\u001b[43m(\u001b[49m\u001b[43mframe\u001b[49m\u001b[38;5;241;43m.\u001b[39;49m\u001b[43mf_code\u001b[49m\u001b[38;5;241;43m.\u001b[39;49m\u001b[43mco_filename\u001b[49m\u001b[43m,\u001b[49m\u001b[43m \u001b[49m\u001b[43mframe\u001b[49m\u001b[38;5;241;43m.\u001b[39;49m\u001b[43mf_globals\u001b[49m\u001b[43m \u001b[49m\u001b[38;5;129;43;01mor\u001b[39;49;00m\u001b[43m \u001b[49m\u001b[43m{\u001b[49m\u001b[43m}\u001b[49m\u001b[43m,\u001b[49m\u001b[43m \u001b[49m\u001b[43muse_cache\u001b[49m\u001b[43m)\u001b[49m\n",
      "File \u001b[0;32m~/miniconda3/envs/bambi_env/lib/python3.10/site-packages/executing/executing.py:270\u001b[0m, in \u001b[0;36mSource.for_filename\u001b[0;34m(cls, filename, module_globals, use_cache)\u001b[0m\n\u001b[1;32m    269\u001b[0m lines \u001b[38;5;241m=\u001b[39m \u001b[38;5;28mtuple\u001b[39m(linecache\u001b[38;5;241m.\u001b[39mgetlines(filename, module_globals))\n\u001b[0;32m--> 270\u001b[0m result \u001b[38;5;241m=\u001b[39m source_cache[filename] \u001b[38;5;241m=\u001b[39m \u001b[38;5;28;43mcls\u001b[39;49m\u001b[38;5;241;43m.\u001b[39;49m\u001b[43m_for_filename_and_lines\u001b[49m\u001b[43m(\u001b[49m\u001b[43mfilename\u001b[49m\u001b[43m,\u001b[49m\u001b[43m \u001b[49m\u001b[43mlines\u001b[49m\u001b[43m)\u001b[49m\n\u001b[1;32m    271\u001b[0m \u001b[38;5;28;01mreturn\u001b[39;00m result\n",
      "File \u001b[0;32m~/miniconda3/envs/bambi_env/lib/python3.10/site-packages/executing/executing.py:281\u001b[0m, in \u001b[0;36mSource._for_filename_and_lines\u001b[0;34m(cls, filename, lines)\u001b[0m\n\u001b[1;32m    279\u001b[0m     \u001b[38;5;28;01mpass\u001b[39;00m\n\u001b[0;32m--> 281\u001b[0m result \u001b[38;5;241m=\u001b[39m source_cache[(filename, lines)] \u001b[38;5;241m=\u001b[39m \u001b[38;5;28;43mcls\u001b[39;49m\u001b[43m(\u001b[49m\u001b[43mfilename\u001b[49m\u001b[43m,\u001b[49m\u001b[43m \u001b[49m\u001b[43mlines\u001b[49m\u001b[43m)\u001b[49m\n\u001b[1;32m    282\u001b[0m \u001b[38;5;28;01mreturn\u001b[39;00m result\n",
      "File \u001b[0;32m~/miniconda3/envs/bambi_env/lib/python3.10/site-packages/stack_data/core.py:81\u001b[0m, in \u001b[0;36mSource.__init__\u001b[0;34m(self, *args, **kwargs)\u001b[0m\n\u001b[1;32m     80\u001b[0m \u001b[38;5;28;01mif\u001b[39;00m \u001b[38;5;28mself\u001b[39m\u001b[38;5;241m.\u001b[39mtree:\n\u001b[0;32m---> 81\u001b[0m     \u001b[38;5;28;43mself\u001b[39;49m\u001b[38;5;241;43m.\u001b[39;49m\u001b[43masttokens\u001b[49m\u001b[43m(\u001b[49m\u001b[43m)\u001b[49m\n",
      "File \u001b[0;32m~/miniconda3/envs/bambi_env/lib/python3.10/site-packages/executing/executing.py:413\u001b[0m, in \u001b[0;36mSource.asttokens\u001b[0;34m(self)\u001b[0m\n\u001b[1;32m    412\u001b[0m \u001b[38;5;28;01mfrom\u001b[39;00m \u001b[38;5;21;01masttokens\u001b[39;00m \u001b[38;5;28;01mimport\u001b[39;00m ASTTokens  \u001b[38;5;66;03m# must be installed separately\u001b[39;00m\n\u001b[0;32m--> 413\u001b[0m \u001b[38;5;28;01mreturn\u001b[39;00m \u001b[43mASTTokens\u001b[49m\u001b[43m(\u001b[49m\n\u001b[1;32m    414\u001b[0m \u001b[43m    \u001b[49m\u001b[38;5;28;43mself\u001b[39;49m\u001b[38;5;241;43m.\u001b[39;49m\u001b[43mtext\u001b[49m\u001b[43m,\u001b[49m\n\u001b[1;32m    415\u001b[0m \u001b[43m    \u001b[49m\u001b[43mtree\u001b[49m\u001b[38;5;241;43m=\u001b[39;49m\u001b[38;5;28;43mself\u001b[39;49m\u001b[38;5;241;43m.\u001b[39;49m\u001b[43mtree\u001b[49m\u001b[43m,\u001b[49m\n\u001b[1;32m    416\u001b[0m \u001b[43m    \u001b[49m\u001b[43mfilename\u001b[49m\u001b[38;5;241;43m=\u001b[39;49m\u001b[38;5;28;43mself\u001b[39;49m\u001b[38;5;241;43m.\u001b[39;49m\u001b[43mfilename\u001b[49m\u001b[43m,\u001b[49m\n\u001b[1;32m    417\u001b[0m \u001b[43m\u001b[49m\u001b[43m)\u001b[49m\n",
      "File \u001b[0;32m~/miniconda3/envs/bambi_env/lib/python3.10/site-packages/asttokens/asttokens.py:59\u001b[0m, in \u001b[0;36mASTTokens.__init__\u001b[0;34m(self, source_text, parse, tree, filename)\u001b[0m\n\u001b[1;32m     58\u001b[0m \u001b[38;5;66;03m# Tokenize the code.\u001b[39;00m\n\u001b[0;32m---> 59\u001b[0m \u001b[38;5;28mself\u001b[39m\u001b[38;5;241m.\u001b[39m_tokens \u001b[38;5;241m=\u001b[39m \u001b[38;5;28;43mlist\u001b[39;49m\u001b[43m(\u001b[49m\u001b[38;5;28;43mself\u001b[39;49m\u001b[38;5;241;43m.\u001b[39;49m\u001b[43m_generate_tokens\u001b[49m\u001b[43m(\u001b[49m\u001b[43msource_text\u001b[49m\u001b[43m)\u001b[49m\u001b[43m)\u001b[49m\n\u001b[1;32m     61\u001b[0m \u001b[38;5;66;03m# Extract the start positions of all tokens, so that we can quickly map positions to tokens.\u001b[39;00m\n",
      "File \u001b[0;32m~/miniconda3/envs/bambi_env/lib/python3.10/site-packages/asttokens/asttokens.py:88\u001b[0m, in \u001b[0;36mASTTokens._generate_tokens\u001b[0;34m(self, text)\u001b[0m\n\u001b[1;32m     86\u001b[0m tok_type, tok_str, start, end, line \u001b[38;5;241m=\u001b[39m tok\n\u001b[1;32m     87\u001b[0m \u001b[38;5;28;01myield\u001b[39;00m Token(tok_type, tok_str, start, end, line, index,\n\u001b[0;32m---> 88\u001b[0m             \u001b[38;5;28;43mself\u001b[39;49m\u001b[38;5;241;43m.\u001b[39;49m\u001b[43m_line_numbers\u001b[49m\u001b[38;5;241;43m.\u001b[39;49m\u001b[43mline_to_offset\u001b[49m\u001b[43m(\u001b[49m\u001b[43mstart\u001b[49m\u001b[43m[\u001b[49m\u001b[38;5;241;43m0\u001b[39;49m\u001b[43m]\u001b[49m\u001b[43m,\u001b[49m\u001b[43m \u001b[49m\u001b[43mstart\u001b[49m\u001b[43m[\u001b[49m\u001b[38;5;241;43m1\u001b[39;49m\u001b[43m]\u001b[49m\u001b[43m)\u001b[49m,\n\u001b[1;32m     89\u001b[0m             \u001b[38;5;28mself\u001b[39m\u001b[38;5;241m.\u001b[39m_line_numbers\u001b[38;5;241m.\u001b[39mline_to_offset(end[\u001b[38;5;241m0\u001b[39m], end[\u001b[38;5;241m1\u001b[39m]))\n",
      "File \u001b[0;32m~/miniconda3/envs/bambi_env/lib/python3.10/site-packages/asttokens/line_numbers.py:60\u001b[0m, in \u001b[0;36mLineNumbers.line_to_offset\u001b[0;34m(self, line, column)\u001b[0m\n\u001b[1;32m     59\u001b[0m \u001b[38;5;28;01melse\u001b[39;00m:\n\u001b[0;32m---> 60\u001b[0m   \u001b[38;5;28;01mreturn\u001b[39;00m \u001b[38;5;28mmin\u001b[39m(\u001b[38;5;28mself\u001b[39m\u001b[38;5;241m.\u001b[39m_line_offsets[line] \u001b[38;5;241m+\u001b[39m \u001b[38;5;28;43mmax\u001b[39;49m\u001b[43m(\u001b[49m\u001b[38;5;241;43m0\u001b[39;49m\u001b[43m,\u001b[49m\u001b[43m \u001b[49m\u001b[43mcolumn\u001b[49m\u001b[43m)\u001b[49m, \u001b[38;5;28mself\u001b[39m\u001b[38;5;241m.\u001b[39m_text_len)\n",
      "\u001b[0;31mKeyboardInterrupt\u001b[0m: ",
      "\nDuring handling of the above exception, another exception occurred:\n",
      "\u001b[0;31mKeyboardInterrupt\u001b[0m                         Traceback (most recent call last)",
      "    \u001b[0;31m[... skipping hidden 1 frame]\u001b[0m\n",
      "File \u001b[0;32m~/miniconda3/envs/bambi_env/lib/python3.10/site-packages/IPython/core/interactiveshell.py:2003\u001b[0m, in \u001b[0;36mInteractiveShell.showtraceback\u001b[0;34m(self, exc_tuple, filename, tb_offset, exception_only, running_compiled_code)\u001b[0m\n\u001b[1;32m   2000\u001b[0m         \u001b[38;5;28mself\u001b[39m\u001b[38;5;241m.\u001b[39m_showtraceback(etype, value, stb)\n\u001b[1;32m   2002\u001b[0m \u001b[38;5;28;01mexcept\u001b[39;00m \u001b[38;5;167;01mKeyboardInterrupt\u001b[39;00m:\n\u001b[0;32m-> 2003\u001b[0m     \u001b[38;5;28mprint\u001b[39m(\u001b[38;5;124m'\u001b[39m\u001b[38;5;130;01m\\n\u001b[39;00m\u001b[38;5;124m'\u001b[39m \u001b[38;5;241m+\u001b[39m \u001b[38;5;28;43mself\u001b[39;49m\u001b[38;5;241;43m.\u001b[39;49m\u001b[43mget_exception_only\u001b[49m\u001b[43m(\u001b[49m\u001b[43m)\u001b[49m, file\u001b[38;5;241m=\u001b[39msys\u001b[38;5;241m.\u001b[39mstderr)\n",
      "File \u001b[0;32m~/miniconda3/envs/bambi_env/lib/python3.10/site-packages/IPython/core/interactiveshell.py:1939\u001b[0m, in \u001b[0;36mInteractiveShell.get_exception_only\u001b[0;34m(self, exc_tuple)\u001b[0m\n\u001b[1;32m   1934\u001b[0m \u001b[38;5;124;03m\"\"\"\u001b[39;00m\n\u001b[1;32m   1935\u001b[0m \u001b[38;5;124;03mReturn as a string (ending with a newline) the exception that\u001b[39;00m\n\u001b[1;32m   1936\u001b[0m \u001b[38;5;124;03mjust occurred, without any traceback.\u001b[39;00m\n\u001b[1;32m   1937\u001b[0m \u001b[38;5;124;03m\"\"\"\u001b[39;00m\n\u001b[1;32m   1938\u001b[0m etype, value, tb \u001b[38;5;241m=\u001b[39m \u001b[38;5;28mself\u001b[39m\u001b[38;5;241m.\u001b[39m_get_exc_info(exc_tuple)\n\u001b[0;32m-> 1939\u001b[0m msg \u001b[38;5;241m=\u001b[39m \u001b[43mtraceback\u001b[49m\u001b[38;5;241;43m.\u001b[39;49m\u001b[43mformat_exception_only\u001b[49m\u001b[43m(\u001b[49m\u001b[43metype\u001b[49m\u001b[43m,\u001b[49m\u001b[43m \u001b[49m\u001b[43mvalue\u001b[49m\u001b[43m)\u001b[49m\n\u001b[1;32m   1940\u001b[0m \u001b[38;5;28;01mreturn\u001b[39;00m \u001b[38;5;124m'\u001b[39m\u001b[38;5;124m'\u001b[39m\u001b[38;5;241m.\u001b[39mjoin(msg)\n",
      "File \u001b[0;32m~/miniconda3/envs/bambi_env/lib/python3.10/traceback.py:155\u001b[0m, in \u001b[0;36mformat_exception_only\u001b[0;34m(exc, value)\u001b[0m\n\u001b[1;32m    153\u001b[0m \u001b[38;5;28;01mif\u001b[39;00m value \u001b[38;5;129;01mis\u001b[39;00m _sentinel:\n\u001b[1;32m    154\u001b[0m     value \u001b[38;5;241m=\u001b[39m exc\n\u001b[0;32m--> 155\u001b[0m te \u001b[38;5;241m=\u001b[39m \u001b[43mTracebackException\u001b[49m\u001b[43m(\u001b[49m\u001b[38;5;28;43mtype\u001b[39;49m\u001b[43m(\u001b[49m\u001b[43mvalue\u001b[49m\u001b[43m)\u001b[49m\u001b[43m,\u001b[49m\u001b[43m \u001b[49m\u001b[43mvalue\u001b[49m\u001b[43m,\u001b[49m\u001b[43m \u001b[49m\u001b[38;5;28;43;01mNone\u001b[39;49;00m\u001b[43m,\u001b[49m\u001b[43m \u001b[49m\u001b[43mcompact\u001b[49m\u001b[38;5;241;43m=\u001b[39;49m\u001b[38;5;28;43;01mTrue\u001b[39;49;00m\u001b[43m)\u001b[49m\n\u001b[1;32m    156\u001b[0m \u001b[38;5;28;01mreturn\u001b[39;00m \u001b[38;5;28mlist\u001b[39m(te\u001b[38;5;241m.\u001b[39mformat_exception_only())\n",
      "File \u001b[0;32m~/miniconda3/envs/bambi_env/lib/python3.10/traceback.py:552\u001b[0m, in \u001b[0;36mTracebackException.__init__\u001b[0;34m(self, exc_type, exc_value, exc_traceback, limit, lookup_lines, capture_locals, compact, _seen)\u001b[0m\n\u001b[1;32m    549\u001b[0m     need_context \u001b[38;5;241m=\u001b[39m \u001b[38;5;28;01mTrue\u001b[39;00m\n\u001b[1;32m    550\u001b[0m \u001b[38;5;28;01mif\u001b[39;00m (e \u001b[38;5;129;01mand\u001b[39;00m e\u001b[38;5;241m.\u001b[39m__context__ \u001b[38;5;129;01mis\u001b[39;00m \u001b[38;5;129;01mnot\u001b[39;00m \u001b[38;5;28;01mNone\u001b[39;00m\n\u001b[1;32m    551\u001b[0m     \u001b[38;5;129;01mand\u001b[39;00m need_context \u001b[38;5;129;01mand\u001b[39;00m \u001b[38;5;28mid\u001b[39m(e\u001b[38;5;241m.\u001b[39m__context__) \u001b[38;5;129;01mnot\u001b[39;00m \u001b[38;5;129;01min\u001b[39;00m _seen):\n\u001b[0;32m--> 552\u001b[0m     context \u001b[38;5;241m=\u001b[39m \u001b[43mTracebackException\u001b[49m\u001b[43m(\u001b[49m\n\u001b[1;32m    553\u001b[0m \u001b[43m        \u001b[49m\u001b[38;5;28;43mtype\u001b[39;49m\u001b[43m(\u001b[49m\u001b[43me\u001b[49m\u001b[38;5;241;43m.\u001b[39;49m\u001b[43m__context__\u001b[49m\u001b[43m)\u001b[49m\u001b[43m,\u001b[49m\n\u001b[1;32m    554\u001b[0m \u001b[43m        \u001b[49m\u001b[43me\u001b[49m\u001b[38;5;241;43m.\u001b[39;49m\u001b[43m__context__\u001b[49m\u001b[43m,\u001b[49m\n\u001b[1;32m    555\u001b[0m \u001b[43m        \u001b[49m\u001b[43me\u001b[49m\u001b[38;5;241;43m.\u001b[39;49m\u001b[43m__context__\u001b[49m\u001b[38;5;241;43m.\u001b[39;49m\u001b[43m__traceback__\u001b[49m\u001b[43m,\u001b[49m\n\u001b[1;32m    556\u001b[0m \u001b[43m        \u001b[49m\u001b[43mlimit\u001b[49m\u001b[38;5;241;43m=\u001b[39;49m\u001b[43mlimit\u001b[49m\u001b[43m,\u001b[49m\n\u001b[1;32m    557\u001b[0m \u001b[43m        \u001b[49m\u001b[43mlookup_lines\u001b[49m\u001b[38;5;241;43m=\u001b[39;49m\u001b[43mlookup_lines\u001b[49m\u001b[43m,\u001b[49m\n\u001b[1;32m    558\u001b[0m \u001b[43m        \u001b[49m\u001b[43mcapture_locals\u001b[49m\u001b[38;5;241;43m=\u001b[39;49m\u001b[43mcapture_locals\u001b[49m\u001b[43m,\u001b[49m\n\u001b[1;32m    559\u001b[0m \u001b[43m        \u001b[49m\u001b[43m_seen\u001b[49m\u001b[38;5;241;43m=\u001b[39;49m\u001b[43m_seen\u001b[49m\u001b[43m)\u001b[49m\n\u001b[1;32m    560\u001b[0m \u001b[38;5;28;01melse\u001b[39;00m:\n\u001b[1;32m    561\u001b[0m     context \u001b[38;5;241m=\u001b[39m \u001b[38;5;28;01mNone\u001b[39;00m\n",
      "File \u001b[0;32m~/miniconda3/envs/bambi_env/lib/python3.10/traceback.py:502\u001b[0m, in \u001b[0;36mTracebackException.__init__\u001b[0;34m(self, exc_type, exc_value, exc_traceback, limit, lookup_lines, capture_locals, compact, _seen)\u001b[0m\n\u001b[1;32m    499\u001b[0m _seen\u001b[38;5;241m.\u001b[39madd(\u001b[38;5;28mid\u001b[39m(exc_value))\n\u001b[1;32m    501\u001b[0m \u001b[38;5;66;03m# TODO: locals.\u001b[39;00m\n\u001b[0;32m--> 502\u001b[0m \u001b[38;5;28mself\u001b[39m\u001b[38;5;241m.\u001b[39mstack \u001b[38;5;241m=\u001b[39m \u001b[43mStackSummary\u001b[49m\u001b[38;5;241;43m.\u001b[39;49m\u001b[43mextract\u001b[49m\u001b[43m(\u001b[49m\n\u001b[1;32m    503\u001b[0m \u001b[43m    \u001b[49m\u001b[43mwalk_tb\u001b[49m\u001b[43m(\u001b[49m\u001b[43mexc_traceback\u001b[49m\u001b[43m)\u001b[49m\u001b[43m,\u001b[49m\u001b[43m \u001b[49m\u001b[43mlimit\u001b[49m\u001b[38;5;241;43m=\u001b[39;49m\u001b[43mlimit\u001b[49m\u001b[43m,\u001b[49m\u001b[43m \u001b[49m\u001b[43mlookup_lines\u001b[49m\u001b[38;5;241;43m=\u001b[39;49m\u001b[43mlookup_lines\u001b[49m\u001b[43m,\u001b[49m\n\u001b[1;32m    504\u001b[0m \u001b[43m    \u001b[49m\u001b[43mcapture_locals\u001b[49m\u001b[38;5;241;43m=\u001b[39;49m\u001b[43mcapture_locals\u001b[49m\u001b[43m)\u001b[49m\n\u001b[1;32m    505\u001b[0m \u001b[38;5;28mself\u001b[39m\u001b[38;5;241m.\u001b[39mexc_type \u001b[38;5;241m=\u001b[39m exc_type\n\u001b[1;32m    506\u001b[0m \u001b[38;5;66;03m# Capture now to permit freeing resources: only complication is in the\u001b[39;00m\n\u001b[1;32m    507\u001b[0m \u001b[38;5;66;03m# unofficial API _format_final_exc_line\u001b[39;00m\n",
      "File \u001b[0;32m~/miniconda3/envs/bambi_env/lib/python3.10/traceback.py:383\u001b[0m, in \u001b[0;36mStackSummary.extract\u001b[0;34m(klass, frame_gen, limit, lookup_lines, capture_locals)\u001b[0m\n\u001b[1;32m    381\u001b[0m \u001b[38;5;28;01mif\u001b[39;00m lookup_lines:\n\u001b[1;32m    382\u001b[0m     \u001b[38;5;28;01mfor\u001b[39;00m f \u001b[38;5;129;01min\u001b[39;00m result:\n\u001b[0;32m--> 383\u001b[0m         \u001b[43mf\u001b[49m\u001b[38;5;241;43m.\u001b[39;49m\u001b[43mline\u001b[49m\n\u001b[1;32m    384\u001b[0m \u001b[38;5;28;01mreturn\u001b[39;00m result\n",
      "File \u001b[0;32m~/miniconda3/envs/bambi_env/lib/python3.10/traceback.py:306\u001b[0m, in \u001b[0;36mFrameSummary.line\u001b[0;34m(self)\u001b[0m\n\u001b[1;32m    304\u001b[0m     \u001b[38;5;28;01mif\u001b[39;00m \u001b[38;5;28mself\u001b[39m\u001b[38;5;241m.\u001b[39mlineno \u001b[38;5;129;01mis\u001b[39;00m \u001b[38;5;28;01mNone\u001b[39;00m:\n\u001b[1;32m    305\u001b[0m         \u001b[38;5;28;01mreturn\u001b[39;00m \u001b[38;5;28;01mNone\u001b[39;00m\n\u001b[0;32m--> 306\u001b[0m     \u001b[38;5;28mself\u001b[39m\u001b[38;5;241m.\u001b[39m_line \u001b[38;5;241m=\u001b[39m \u001b[43mlinecache\u001b[49m\u001b[38;5;241;43m.\u001b[39;49m\u001b[43mgetline\u001b[49m\u001b[43m(\u001b[49m\u001b[38;5;28;43mself\u001b[39;49m\u001b[38;5;241;43m.\u001b[39;49m\u001b[43mfilename\u001b[49m\u001b[43m,\u001b[49m\u001b[43m \u001b[49m\u001b[38;5;28;43mself\u001b[39;49m\u001b[38;5;241;43m.\u001b[39;49m\u001b[43mlineno\u001b[49m\u001b[43m)\u001b[49m\n\u001b[1;32m    307\u001b[0m \u001b[38;5;28;01mreturn\u001b[39;00m \u001b[38;5;28mself\u001b[39m\u001b[38;5;241m.\u001b[39m_line\u001b[38;5;241m.\u001b[39mstrip()\n",
      "File \u001b[0;32m~/miniconda3/envs/bambi_env/lib/python3.10/linecache.py:30\u001b[0m, in \u001b[0;36mgetline\u001b[0;34m(filename, lineno, module_globals)\u001b[0m\n\u001b[1;32m     26\u001b[0m \u001b[38;5;28;01mdef\u001b[39;00m \u001b[38;5;21mgetline\u001b[39m(filename, lineno, module_globals\u001b[38;5;241m=\u001b[39m\u001b[38;5;28;01mNone\u001b[39;00m):\n\u001b[1;32m     27\u001b[0m     \u001b[38;5;124;03m\"\"\"Get a line for a Python source file from the cache.\u001b[39;00m\n\u001b[1;32m     28\u001b[0m \u001b[38;5;124;03m    Update the cache if it doesn't contain an entry for this file already.\"\"\"\u001b[39;00m\n\u001b[0;32m---> 30\u001b[0m     lines \u001b[38;5;241m=\u001b[39m \u001b[43mgetlines\u001b[49m\u001b[43m(\u001b[49m\u001b[43mfilename\u001b[49m\u001b[43m,\u001b[49m\u001b[43m \u001b[49m\u001b[43mmodule_globals\u001b[49m\u001b[43m)\u001b[49m\n\u001b[1;32m     31\u001b[0m     \u001b[38;5;28;01mif\u001b[39;00m \u001b[38;5;241m1\u001b[39m \u001b[38;5;241m<\u001b[39m\u001b[38;5;241m=\u001b[39m lineno \u001b[38;5;241m<\u001b[39m\u001b[38;5;241m=\u001b[39m \u001b[38;5;28mlen\u001b[39m(lines):\n\u001b[1;32m     32\u001b[0m         \u001b[38;5;28;01mreturn\u001b[39;00m lines[lineno \u001b[38;5;241m-\u001b[39m \u001b[38;5;241m1\u001b[39m]\n",
      "File \u001b[0;32m~/miniconda3/envs/bambi_env/lib/python3.10/linecache.py:46\u001b[0m, in \u001b[0;36mgetlines\u001b[0;34m(filename, module_globals)\u001b[0m\n\u001b[1;32m     43\u001b[0m         \u001b[38;5;28;01mreturn\u001b[39;00m cache[filename][\u001b[38;5;241m2\u001b[39m]\n\u001b[1;32m     45\u001b[0m \u001b[38;5;28;01mtry\u001b[39;00m:\n\u001b[0;32m---> 46\u001b[0m     \u001b[38;5;28;01mreturn\u001b[39;00m \u001b[43mupdatecache\u001b[49m\u001b[43m(\u001b[49m\u001b[43mfilename\u001b[49m\u001b[43m,\u001b[49m\u001b[43m \u001b[49m\u001b[43mmodule_globals\u001b[49m\u001b[43m)\u001b[49m\n\u001b[1;32m     47\u001b[0m \u001b[38;5;28;01mexcept\u001b[39;00m \u001b[38;5;167;01mMemoryError\u001b[39;00m:\n\u001b[1;32m     48\u001b[0m     clearcache()\n",
      "File \u001b[0;32m~/miniconda3/envs/bambi_env/lib/python3.10/linecache.py:93\u001b[0m, in \u001b[0;36mupdatecache\u001b[0;34m(filename, module_globals)\u001b[0m\n\u001b[1;32m     91\u001b[0m fullname \u001b[38;5;241m=\u001b[39m filename\n\u001b[1;32m     92\u001b[0m \u001b[38;5;28;01mtry\u001b[39;00m:\n\u001b[0;32m---> 93\u001b[0m     stat \u001b[38;5;241m=\u001b[39m \u001b[43mos\u001b[49m\u001b[38;5;241;43m.\u001b[39;49m\u001b[43mstat\u001b[49m\u001b[43m(\u001b[49m\u001b[43mfullname\u001b[49m\u001b[43m)\u001b[49m\n\u001b[1;32m     94\u001b[0m \u001b[38;5;28;01mexcept\u001b[39;00m \u001b[38;5;167;01mOSError\u001b[39;00m:\n\u001b[1;32m     95\u001b[0m     basename \u001b[38;5;241m=\u001b[39m filename\n",
      "\u001b[0;31mKeyboardInterrupt\u001b[0m: "
     ]
    }
   ],
   "source": [
    "import arviz as az\n",
    "import bambi as bmb\n",
    "import nibabel\n",
    "import argparse\n",
    "from os.path import join\n",
    "import pandas as pd\n",
    "from pandas.api.types import CategoricalDtype\n",
    "import seaborn as sns \n",
    "import numpy as np\n",
    "import matplotlib.pyplot as plt\n",
    "from matplotlib.backends.backend_pdf import PdfPages\n",
    "from Bayesian_model_utils import run_model, plot_res, print_latex_table, plot_predictions"
   ]
  },
  {
   "cell_type": "markdown",
   "id": "f6582292-5aaf-4048-827e-07abf2d6408a",
   "metadata": {},
   "source": [
    "Once I am running models I can do model comparison using: \n",
    "\n",
    "https://arviz-devs.github.io/arviz/api/generated/arviz.compare.html\n",
    "and \n",
    "https://arviz-devs.github.io/arviz/api/generated/arviz.plot_compare.html\n",
    "\n",
    "as in: https://bambinos.github.io/bambi/main/notebooks/model_comparison.html?highlight=waic\n"
   ]
  },
  {
   "cell_type": "code",
   "execution_count": 4,
   "id": "86aff77d-3583-44df-ad24-3ee75203a597",
   "metadata": {},
   "outputs": [],
   "source": [
    "stim_t_test_data = pd.read_csv('/home1/salman.qasim/Salman_Project/FR_Emotion/FR2_stim_allbands_diff_newfilt_600ms_50buff_1f_elec.csv')\n",
    "# stim_t_test_data = stim_t_test_data.drop(columns=['Unnamed: 0'])\n",
    "stim_t_test_data.rename(columns={'sub':'subj'}, inplace=True)\n",
    "stim_t_test_data['elec'] = np.nan\n",
    "stim_t_test_data['elec'] = stim_t_test_data.apply(lambda x: f'{x.subj}_{x.stim_elec}', axis=1)\n"
   ]
  },
  {
   "cell_type": "code",
   "execution_count": 5,
   "id": "fbce9dd5-5586-4bf6-808e-50e54fb3b500",
   "metadata": {},
   "outputs": [
    {
     "data": {
      "text/html": [
       "<div>\n",
       "<style scoped>\n",
       "    .dataframe tbody tr th:only-of-type {\n",
       "        vertical-align: middle;\n",
       "    }\n",
       "\n",
       "    .dataframe tbody tr th {\n",
       "        vertical-align: top;\n",
       "    }\n",
       "\n",
       "    .dataframe thead th {\n",
       "        text-align: right;\n",
       "    }\n",
       "</style>\n",
       "<table border=\"1\" class=\"dataframe\">\n",
       "  <thead>\n",
       "    <tr style=\"text-align: right;\">\n",
       "      <th></th>\n",
       "      <th>alpha_diff</th>\n",
       "      <th>beta_diff</th>\n",
       "      <th>elec_num</th>\n",
       "      <th>hfa_diff</th>\n",
       "      <th>hgamma_diff</th>\n",
       "      <th>lgamma_diff</th>\n",
       "      <th>rec_hemi</th>\n",
       "      <th>rec_reg</th>\n",
       "      <th>stim</th>\n",
       "      <th>stim_avgy</th>\n",
       "      <th>stim_elec</th>\n",
       "      <th>stim_hemi</th>\n",
       "      <th>stim_reg</th>\n",
       "      <th>subj</th>\n",
       "      <th>theta_diff</th>\n",
       "      <th>elec</th>\n",
       "    </tr>\n",
       "  </thead>\n",
       "  <tbody>\n",
       "    <tr>\n",
       "      <th>0</th>\n",
       "      <td>-0.072325</td>\n",
       "      <td>0.009788</td>\n",
       "      <td>0.0</td>\n",
       "      <td>0.008877</td>\n",
       "      <td>0.006514</td>\n",
       "      <td>0.011240</td>\n",
       "      <td>left</td>\n",
       "      <td>Hipp</td>\n",
       "      <td>0.0</td>\n",
       "      <td>-16.805</td>\n",
       "      <td>('LDA3', 'LDA4')</td>\n",
       "      <td>left</td>\n",
       "      <td>Hipp</td>\n",
       "      <td>R1001P</td>\n",
       "      <td>0.005822</td>\n",
       "      <td>R1001P_('LDA3', 'LDA4')</td>\n",
       "    </tr>\n",
       "    <tr>\n",
       "      <th>1</th>\n",
       "      <td>-0.036284</td>\n",
       "      <td>-0.057136</td>\n",
       "      <td>0.0</td>\n",
       "      <td>-0.004297</td>\n",
       "      <td>0.007882</td>\n",
       "      <td>-0.016476</td>\n",
       "      <td>left</td>\n",
       "      <td>Hipp</td>\n",
       "      <td>1.0</td>\n",
       "      <td>-16.805</td>\n",
       "      <td>('LDA3', 'LDA4')</td>\n",
       "      <td>left</td>\n",
       "      <td>Hipp</td>\n",
       "      <td>R1001P</td>\n",
       "      <td>0.017252</td>\n",
       "      <td>R1001P_('LDA3', 'LDA4')</td>\n",
       "    </tr>\n",
       "    <tr>\n",
       "      <th>2</th>\n",
       "      <td>0.035702</td>\n",
       "      <td>0.005883</td>\n",
       "      <td>1.0</td>\n",
       "      <td>0.002156</td>\n",
       "      <td>-0.002683</td>\n",
       "      <td>0.006996</td>\n",
       "      <td>left</td>\n",
       "      <td>Hipp</td>\n",
       "      <td>0.0</td>\n",
       "      <td>-16.805</td>\n",
       "      <td>('LDA3', 'LDA4')</td>\n",
       "      <td>left</td>\n",
       "      <td>Hipp</td>\n",
       "      <td>R1001P</td>\n",
       "      <td>0.000365</td>\n",
       "      <td>R1001P_('LDA3', 'LDA4')</td>\n",
       "    </tr>\n",
       "    <tr>\n",
       "      <th>3</th>\n",
       "      <td>-0.014147</td>\n",
       "      <td>-0.031966</td>\n",
       "      <td>1.0</td>\n",
       "      <td>-0.014607</td>\n",
       "      <td>-0.013054</td>\n",
       "      <td>-0.016160</td>\n",
       "      <td>left</td>\n",
       "      <td>Hipp</td>\n",
       "      <td>1.0</td>\n",
       "      <td>-16.805</td>\n",
       "      <td>('LDA3', 'LDA4')</td>\n",
       "      <td>left</td>\n",
       "      <td>Hipp</td>\n",
       "      <td>R1001P</td>\n",
       "      <td>-0.002982</td>\n",
       "      <td>R1001P_('LDA3', 'LDA4')</td>\n",
       "    </tr>\n",
       "    <tr>\n",
       "      <th>4</th>\n",
       "      <td>0.010145</td>\n",
       "      <td>0.037615</td>\n",
       "      <td>2.0</td>\n",
       "      <td>0.029011</td>\n",
       "      <td>0.029621</td>\n",
       "      <td>0.028401</td>\n",
       "      <td>left</td>\n",
       "      <td>Hipp</td>\n",
       "      <td>0.0</td>\n",
       "      <td>-16.805</td>\n",
       "      <td>('LDA3', 'LDA4')</td>\n",
       "      <td>left</td>\n",
       "      <td>Hipp</td>\n",
       "      <td>R1001P</td>\n",
       "      <td>-0.002812</td>\n",
       "      <td>R1001P_('LDA3', 'LDA4')</td>\n",
       "    </tr>\n",
       "    <tr>\n",
       "      <th>...</th>\n",
       "      <td>...</td>\n",
       "      <td>...</td>\n",
       "      <td>...</td>\n",
       "      <td>...</td>\n",
       "      <td>...</td>\n",
       "      <td>...</td>\n",
       "      <td>...</td>\n",
       "      <td>...</td>\n",
       "      <td>...</td>\n",
       "      <td>...</td>\n",
       "      <td>...</td>\n",
       "      <td>...</td>\n",
       "      <td>...</td>\n",
       "      <td>...</td>\n",
       "      <td>...</td>\n",
       "      <td>...</td>\n",
       "    </tr>\n",
       "    <tr>\n",
       "      <th>731</th>\n",
       "      <td>0.349779</td>\n",
       "      <td>0.391568</td>\n",
       "      <td>NaN</td>\n",
       "      <td>-0.197714</td>\n",
       "      <td>-0.351711</td>\n",
       "      <td>-0.043717</td>\n",
       "      <td>left</td>\n",
       "      <td>MTL</td>\n",
       "      <td>1.0</td>\n",
       "      <td>-14.485</td>\n",
       "      <td>('LOTD3', 'LOTD4')</td>\n",
       "      <td>left</td>\n",
       "      <td>MTL</td>\n",
       "      <td>R1026D</td>\n",
       "      <td>-0.083154</td>\n",
       "      <td>R1026D_('LOTD3', 'LOTD4')</td>\n",
       "    </tr>\n",
       "    <tr>\n",
       "      <th>732</th>\n",
       "      <td>0.010708</td>\n",
       "      <td>-0.001336</td>\n",
       "      <td>3.0</td>\n",
       "      <td>0.009663</td>\n",
       "      <td>0.018355</td>\n",
       "      <td>0.000971</td>\n",
       "      <td>left</td>\n",
       "      <td>MTL</td>\n",
       "      <td>0.0</td>\n",
       "      <td>-14.485</td>\n",
       "      <td>('LOTD3', 'LOTD4')</td>\n",
       "      <td>left</td>\n",
       "      <td>MTL</td>\n",
       "      <td>R1026D</td>\n",
       "      <td>0.002844</td>\n",
       "      <td>R1026D_('LOTD3', 'LOTD4')</td>\n",
       "    </tr>\n",
       "    <tr>\n",
       "      <th>733</th>\n",
       "      <td>0.040748</td>\n",
       "      <td>0.014568</td>\n",
       "      <td>3.0</td>\n",
       "      <td>-0.047055</td>\n",
       "      <td>-0.052557</td>\n",
       "      <td>-0.041552</td>\n",
       "      <td>left</td>\n",
       "      <td>MTL</td>\n",
       "      <td>1.0</td>\n",
       "      <td>-14.485</td>\n",
       "      <td>('LOTD3', 'LOTD4')</td>\n",
       "      <td>left</td>\n",
       "      <td>MTL</td>\n",
       "      <td>R1026D</td>\n",
       "      <td>0.001435</td>\n",
       "      <td>R1026D_('LOTD3', 'LOTD4')</td>\n",
       "    </tr>\n",
       "    <tr>\n",
       "      <th>734</th>\n",
       "      <td>-0.108659</td>\n",
       "      <td>-0.081497</td>\n",
       "      <td>NaN</td>\n",
       "      <td>0.050583</td>\n",
       "      <td>0.078018</td>\n",
       "      <td>0.023148</td>\n",
       "      <td>left</td>\n",
       "      <td>MTL</td>\n",
       "      <td>0.0</td>\n",
       "      <td>-14.485</td>\n",
       "      <td>('LOTD3', 'LOTD4')</td>\n",
       "      <td>left</td>\n",
       "      <td>MTL</td>\n",
       "      <td>R1026D</td>\n",
       "      <td>0.014644</td>\n",
       "      <td>R1026D_('LOTD3', 'LOTD4')</td>\n",
       "    </tr>\n",
       "    <tr>\n",
       "      <th>735</th>\n",
       "      <td>0.349779</td>\n",
       "      <td>0.391568</td>\n",
       "      <td>NaN</td>\n",
       "      <td>-0.197714</td>\n",
       "      <td>-0.351711</td>\n",
       "      <td>-0.043717</td>\n",
       "      <td>left</td>\n",
       "      <td>MTL</td>\n",
       "      <td>1.0</td>\n",
       "      <td>-14.485</td>\n",
       "      <td>('LOTD3', 'LOTD4')</td>\n",
       "      <td>left</td>\n",
       "      <td>MTL</td>\n",
       "      <td>R1026D</td>\n",
       "      <td>-0.083154</td>\n",
       "      <td>R1026D_('LOTD3', 'LOTD4')</td>\n",
       "    </tr>\n",
       "  </tbody>\n",
       "</table>\n",
       "<p>736 rows × 16 columns</p>\n",
       "</div>"
      ],
      "text/plain": [
       "     alpha_diff  beta_diff  elec_num  hfa_diff  hgamma_diff  lgamma_diff  \\\n",
       "0     -0.072325   0.009788       0.0  0.008877     0.006514     0.011240   \n",
       "1     -0.036284  -0.057136       0.0 -0.004297     0.007882    -0.016476   \n",
       "2      0.035702   0.005883       1.0  0.002156    -0.002683     0.006996   \n",
       "3     -0.014147  -0.031966       1.0 -0.014607    -0.013054    -0.016160   \n",
       "4      0.010145   0.037615       2.0  0.029011     0.029621     0.028401   \n",
       "..          ...        ...       ...       ...          ...          ...   \n",
       "731    0.349779   0.391568       NaN -0.197714    -0.351711    -0.043717   \n",
       "732    0.010708  -0.001336       3.0  0.009663     0.018355     0.000971   \n",
       "733    0.040748   0.014568       3.0 -0.047055    -0.052557    -0.041552   \n",
       "734   -0.108659  -0.081497       NaN  0.050583     0.078018     0.023148   \n",
       "735    0.349779   0.391568       NaN -0.197714    -0.351711    -0.043717   \n",
       "\n",
       "    rec_hemi rec_reg  stim  stim_avgy           stim_elec stim_hemi stim_reg  \\\n",
       "0       left    Hipp   0.0    -16.805    ('LDA3', 'LDA4')      left     Hipp   \n",
       "1       left    Hipp   1.0    -16.805    ('LDA3', 'LDA4')      left     Hipp   \n",
       "2       left    Hipp   0.0    -16.805    ('LDA3', 'LDA4')      left     Hipp   \n",
       "3       left    Hipp   1.0    -16.805    ('LDA3', 'LDA4')      left     Hipp   \n",
       "4       left    Hipp   0.0    -16.805    ('LDA3', 'LDA4')      left     Hipp   \n",
       "..       ...     ...   ...        ...                 ...       ...      ...   \n",
       "731     left     MTL   1.0    -14.485  ('LOTD3', 'LOTD4')      left      MTL   \n",
       "732     left     MTL   0.0    -14.485  ('LOTD3', 'LOTD4')      left      MTL   \n",
       "733     left     MTL   1.0    -14.485  ('LOTD3', 'LOTD4')      left      MTL   \n",
       "734     left     MTL   0.0    -14.485  ('LOTD3', 'LOTD4')      left      MTL   \n",
       "735     left     MTL   1.0    -14.485  ('LOTD3', 'LOTD4')      left      MTL   \n",
       "\n",
       "       subj  theta_diff                       elec  \n",
       "0    R1001P    0.005822    R1001P_('LDA3', 'LDA4')  \n",
       "1    R1001P    0.017252    R1001P_('LDA3', 'LDA4')  \n",
       "2    R1001P    0.000365    R1001P_('LDA3', 'LDA4')  \n",
       "3    R1001P   -0.002982    R1001P_('LDA3', 'LDA4')  \n",
       "4    R1001P   -0.002812    R1001P_('LDA3', 'LDA4')  \n",
       "..      ...         ...                        ...  \n",
       "731  R1026D   -0.083154  R1026D_('LOTD3', 'LOTD4')  \n",
       "732  R1026D    0.002844  R1026D_('LOTD3', 'LOTD4')  \n",
       "733  R1026D    0.001435  R1026D_('LOTD3', 'LOTD4')  \n",
       "734  R1026D    0.014644  R1026D_('LOTD3', 'LOTD4')  \n",
       "735  R1026D   -0.083154  R1026D_('LOTD3', 'LOTD4')  \n",
       "\n",
       "[736 rows x 16 columns]"
      ]
     },
     "execution_count": 5,
     "metadata": {},
     "output_type": "execute_result"
    }
   ],
   "source": [
    "stim_t_test_data"
   ]
  },
  {
   "cell_type": "code",
   "execution_count": 7,
   "id": "114a7003-312f-4964-bc88-78b9f16e1fd7",
   "metadata": {},
   "outputs": [
    {
     "data": {
      "text/plain": [
       "(27,)"
      ]
     },
     "execution_count": 7,
     "metadata": {},
     "output_type": "execute_result"
    }
   ],
   "source": [
    "stim_t_test_data.subj.unique().shape"
   ]
  },
  {
   "cell_type": "code",
   "execution_count": 4,
   "id": "a0214cf5-d46e-4e33-b388-ecf588e62edd",
   "metadata": {},
   "outputs": [],
   "source": [
    "sr='Hipp'\n",
    "model_df = stim_t_test_data[(stim_t_test_data.stim_reg==sr)]\n"
   ]
  },
  {
   "cell_type": "code",
   "execution_count": 6,
   "id": "b6dd0a54-3715-4c22-9de4-6d47412628f7",
   "metadata": {},
   "outputs": [
    {
     "data": {
      "text/plain": [
       "subj    stim_hemi\n",
       "R1001P  left         22\n",
       "R1006P  right        12\n",
       "R1020J  right        40\n",
       "R1022J  left         12\n",
       "R1027J  left         28\n",
       "R1056M  right        10\n",
       "R1067P  left         14\n",
       "R1077T  left         24\n",
       "R1085C  left         10\n",
       "R1092J  left         34\n",
       "R1101T  right        12\n",
       "R1150J  left         12\n",
       "R1157C  right        22\n",
       "R1192C  left          2\n",
       "dtype: int64"
      ]
     },
     "execution_count": 6,
     "metadata": {},
     "output_type": "execute_result"
    }
   ],
   "source": [
    "model_df[['subj', 'stim_hemi']].groupby('subj').value_counts()"
   ]
  },
  {
   "cell_type": "code",
   "execution_count": 9,
   "id": "c2f70b06-0822-4969-98bd-e0db213ce150",
   "metadata": {
    "tags": []
   },
   "outputs": [
    {
     "name": "stderr",
     "output_type": "stream",
     "text": [
      "/home1/salman.qasim/miniconda3/envs/bambi_env/lib/python3.10/site-packages/bambi/models.py:140: SettingWithCopyWarning: \n",
      "A value is trying to be set on a copy of a slice from a DataFrame.\n",
      "Try using .loc[row_indexer,col_indexer] = value instead\n",
      "\n",
      "See the caveats in the documentation: https://pandas.pydata.org/pandas-docs/stable/user_guide/indexing.html#returning-a-view-versus-a-copy\n",
      "  data[obj_cols] = data[obj_cols].apply(lambda x: x.astype(\"category\"))\n",
      "Auto-assigning NUTS sampler...\n",
      "Initializing NUTS using advi+adapt_diag...\n"
     ]
    },
    {
     "data": {
      "text/html": [
       "\n",
       "<style>\n",
       "    /* Turns off some styling */\n",
       "    progress {\n",
       "        /* gets rid of default border in Firefox and Opera. */\n",
       "        border: none;\n",
       "        /* Needs to be in here for Safari polyfill so background images work as expected. */\n",
       "        background-size: auto;\n",
       "    }\n",
       "    .progress-bar-interrupted, .progress-bar-interrupted::-webkit-progress-bar {\n",
       "        background: #F44336;\n",
       "    }\n",
       "</style>\n"
      ],
      "text/plain": [
       "<IPython.core.display.HTML object>"
      ]
     },
     "metadata": {},
     "output_type": "display_data"
    },
    {
     "data": {
      "text/html": [
       "\n",
       "    <div>\n",
       "      <progress value='25321' class='' max='50000' style='width:300px; height:20px; vertical-align: middle;'></progress>\n",
       "      50.64% [25321/50000 00:05<00:04 Average Loss = -113.7]\n",
       "    </div>\n",
       "    "
      ],
      "text/plain": [
       "<IPython.core.display.HTML object>"
      ]
     },
     "metadata": {},
     "output_type": "display_data"
    },
    {
     "name": "stderr",
     "output_type": "stream",
     "text": [
      "Convergence achieved at 26300\n",
      "Interrupted at 26,299 [52%]: Average Loss = 1,502.3\n",
      "Multiprocess sampling (4 chains in 4 jobs)\n",
      "NUTS: [theta_diff_sigma, 1|elec_offset, 1|elec_sigma, 1|subj_offset, 1|subj_sigma, stim:stim_hemi, stim_hemi, stim, Intercept]\n"
     ]
    },
    {
     "data": {
      "text/html": [
       "\n",
       "<style>\n",
       "    /* Turns off some styling */\n",
       "    progress {\n",
       "        /* gets rid of default border in Firefox and Opera. */\n",
       "        border: none;\n",
       "        /* Needs to be in here for Safari polyfill so background images work as expected. */\n",
       "        background-size: auto;\n",
       "    }\n",
       "    .progress-bar-interrupted, .progress-bar-interrupted::-webkit-progress-bar {\n",
       "        background: #F44336;\n",
       "    }\n",
       "</style>\n"
      ],
      "text/plain": [
       "<IPython.core.display.HTML object>"
      ]
     },
     "metadata": {},
     "output_type": "display_data"
    },
    {
     "data": {
      "text/html": [
       "\n",
       "    <div>\n",
       "      <progress value='16000' class='' max='16000' style='width:300px; height:20px; vertical-align: middle;'></progress>\n",
       "      100.00% [16000/16000 00:46<00:00 Sampling 4 chains, 0 divergences]\n",
       "    </div>\n",
       "    "
      ],
      "text/plain": [
       "<IPython.core.display.HTML object>"
      ]
     },
     "metadata": {},
     "output_type": "display_data"
    },
    {
     "name": "stderr",
     "output_type": "stream",
     "text": [
      "Sampling 4 chains for 2_000 tune and 2_000 draw iterations (8_000 + 8_000 draws total) took 47 seconds.\n",
      "/home1/salman.qasim/Salman_Python_Scripts/SQ_Projects/Bayesian_model_utils.py:142: FutureWarning: In future versions `DataFrame.to_latex` is expected to utilise the base implementation of `Styler.to_latex` for formatting and rendering. The arguments signature may therefore change. It is recommended instead to use `DataFrame.style.to_latex` which also contains additional functionality.\n",
      "  print(results_df.reset_index().to_latex(index=False,\n"
     ]
    },
    {
     "name": "stdout",
     "output_type": "stream",
     "text": [
      "\\begin{tabular}{|c|c|c|c|c|}\n",
      "\\toprule\n",
      "                    index &   mean &    sd &  hdi\\_2.5\\% &  hdi\\_97.5\\% \\\\ \\hline\n",
      "\\midrule\n",
      "                stim[1.0] & -0.094 & 0.030 &    -0.149 &     -0.035 \\\\ \\hline\n",
      "          stim\\_hemi[left] & -0.013 & 0.026 &    -0.065 &      0.037 \\\\ \\hline\n",
      "stim:stim\\_hemi[1.0, left] &  0.059 & 0.033 &    -0.005 &      0.121 \\\\ \\hline\n",
      "          stim\\_hemi[left] & -0.013 & 0.026 &    -0.065 &      0.037 \\\\ \\hline\n",
      "stim:stim\\_hemi[1.0, left] &  0.059 & 0.033 &    -0.005 &      0.121 \\\\ \\hline\n",
      "\\bottomrule\n",
      "\\end{tabular}\n",
      "\n"
     ]
    },
    {
     "name": "stderr",
     "output_type": "stream",
     "text": [
      "/home1/salman.qasim/miniconda3/envs/bambi_env/lib/python3.10/site-packages/bambi/models.py:140: SettingWithCopyWarning: \n",
      "A value is trying to be set on a copy of a slice from a DataFrame.\n",
      "Try using .loc[row_indexer,col_indexer] = value instead\n",
      "\n",
      "See the caveats in the documentation: https://pandas.pydata.org/pandas-docs/stable/user_guide/indexing.html#returning-a-view-versus-a-copy\n",
      "  data[obj_cols] = data[obj_cols].apply(lambda x: x.astype(\"category\"))\n",
      "Auto-assigning NUTS sampler...\n",
      "Initializing NUTS using advi+adapt_diag...\n"
     ]
    },
    {
     "data": {
      "text/html": [
       "\n",
       "<style>\n",
       "    /* Turns off some styling */\n",
       "    progress {\n",
       "        /* gets rid of default border in Firefox and Opera. */\n",
       "        border: none;\n",
       "        /* Needs to be in here for Safari polyfill so background images work as expected. */\n",
       "        background-size: auto;\n",
       "    }\n",
       "    .progress-bar-interrupted, .progress-bar-interrupted::-webkit-progress-bar {\n",
       "        background: #F44336;\n",
       "    }\n",
       "</style>\n"
      ],
      "text/plain": [
       "<IPython.core.display.HTML object>"
      ]
     },
     "metadata": {},
     "output_type": "display_data"
    },
    {
     "data": {
      "text/html": [
       "\n",
       "    <div>\n",
       "      <progress value='20156' class='' max='50000' style='width:300px; height:20px; vertical-align: middle;'></progress>\n",
       "      40.31% [20156/50000 00:03<00:05 Average Loss = 18.321]\n",
       "    </div>\n",
       "    "
      ],
      "text/plain": [
       "<IPython.core.display.HTML object>"
      ]
     },
     "metadata": {},
     "output_type": "display_data"
    },
    {
     "name": "stderr",
     "output_type": "stream",
     "text": [
      "Convergence achieved at 20900\n",
      "Interrupted at 20,899 [41%]: Average Loss = 463.78\n",
      "Multiprocess sampling (4 chains in 4 jobs)\n",
      "NUTS: [alpha_diff_sigma, 1|elec_offset, 1|elec_sigma, 1|subj_offset, 1|subj_sigma, stim:stim_hemi, stim_hemi, stim, Intercept]\n"
     ]
    },
    {
     "data": {
      "text/html": [
       "\n",
       "<style>\n",
       "    /* Turns off some styling */\n",
       "    progress {\n",
       "        /* gets rid of default border in Firefox and Opera. */\n",
       "        border: none;\n",
       "        /* Needs to be in here for Safari polyfill so background images work as expected. */\n",
       "        background-size: auto;\n",
       "    }\n",
       "    .progress-bar-interrupted, .progress-bar-interrupted::-webkit-progress-bar {\n",
       "        background: #F44336;\n",
       "    }\n",
       "</style>\n"
      ],
      "text/plain": [
       "<IPython.core.display.HTML object>"
      ]
     },
     "metadata": {},
     "output_type": "display_data"
    },
    {
     "data": {
      "text/html": [
       "\n",
       "    <div>\n",
       "      <progress value='16000' class='' max='16000' style='width:300px; height:20px; vertical-align: middle;'></progress>\n",
       "      100.00% [16000/16000 00:40<00:00 Sampling 4 chains, 0 divergences]\n",
       "    </div>\n",
       "    "
      ],
      "text/plain": [
       "<IPython.core.display.HTML object>"
      ]
     },
     "metadata": {},
     "output_type": "display_data"
    },
    {
     "name": "stderr",
     "output_type": "stream",
     "text": [
      "Sampling 4 chains for 2_000 tune and 2_000 draw iterations (8_000 + 8_000 draws total) took 41 seconds.\n",
      "/home1/salman.qasim/Salman_Python_Scripts/SQ_Projects/Bayesian_model_utils.py:142: FutureWarning: In future versions `DataFrame.to_latex` is expected to utilise the base implementation of `Styler.to_latex` for formatting and rendering. The arguments signature may therefore change. It is recommended instead to use `DataFrame.style.to_latex` which also contains additional functionality.\n",
      "  print(results_df.reset_index().to_latex(index=False,\n"
     ]
    },
    {
     "name": "stdout",
     "output_type": "stream",
     "text": [
      "\\begin{tabular}{|c|c|c|c|c|}\n",
      "\\toprule\n",
      "                    index &   mean &    sd &  hdi\\_2.5\\% &  hdi\\_97.5\\% \\\\ \\hline\n",
      "\\midrule\n",
      "                stim[1.0] &  0.222 & 0.103 &     0.029 &      0.435 \\\\ \\hline\n",
      "          stim\\_hemi[left] &  0.015 & 0.085 &    -0.161 &      0.176 \\\\ \\hline\n",
      "stim:stim\\_hemi[1.0, left] & -0.127 & 0.116 &    -0.353 &      0.100 \\\\ \\hline\n",
      "          stim\\_hemi[left] &  0.015 & 0.085 &    -0.161 &      0.176 \\\\ \\hline\n",
      "stim:stim\\_hemi[1.0, left] & -0.127 & 0.116 &    -0.353 &      0.100 \\\\ \\hline\n",
      "\\bottomrule\n",
      "\\end{tabular}\n",
      "\n"
     ]
    },
    {
     "name": "stderr",
     "output_type": "stream",
     "text": [
      "/home1/salman.qasim/miniconda3/envs/bambi_env/lib/python3.10/site-packages/bambi/models.py:140: SettingWithCopyWarning: \n",
      "A value is trying to be set on a copy of a slice from a DataFrame.\n",
      "Try using .loc[row_indexer,col_indexer] = value instead\n",
      "\n",
      "See the caveats in the documentation: https://pandas.pydata.org/pandas-docs/stable/user_guide/indexing.html#returning-a-view-versus-a-copy\n",
      "  data[obj_cols] = data[obj_cols].apply(lambda x: x.astype(\"category\"))\n",
      "Auto-assigning NUTS sampler...\n",
      "Initializing NUTS using advi+adapt_diag...\n"
     ]
    },
    {
     "data": {
      "text/html": [
       "\n",
       "<style>\n",
       "    /* Turns off some styling */\n",
       "    progress {\n",
       "        /* gets rid of default border in Firefox and Opera. */\n",
       "        border: none;\n",
       "        /* Needs to be in here for Safari polyfill so background images work as expected. */\n",
       "        background-size: auto;\n",
       "    }\n",
       "    .progress-bar-interrupted, .progress-bar-interrupted::-webkit-progress-bar {\n",
       "        background: #F44336;\n",
       "    }\n",
       "</style>\n"
      ],
      "text/plain": [
       "<IPython.core.display.HTML object>"
      ]
     },
     "metadata": {},
     "output_type": "display_data"
    },
    {
     "data": {
      "text/html": [
       "\n",
       "    <div>\n",
       "      <progress value='21182' class='' max='50000' style='width:300px; height:20px; vertical-align: middle;'></progress>\n",
       "      42.36% [21182/50000 00:04<00:05 Average Loss = 30.432]\n",
       "    </div>\n",
       "    "
      ],
      "text/plain": [
       "<IPython.core.display.HTML object>"
      ]
     },
     "metadata": {},
     "output_type": "display_data"
    },
    {
     "name": "stderr",
     "output_type": "stream",
     "text": [
      "Convergence achieved at 21200\n",
      "Interrupted at 21,199 [42%]: Average Loss = 607.84\n",
      "Multiprocess sampling (4 chains in 4 jobs)\n",
      "NUTS: [beta_diff_sigma, 1|elec_offset, 1|elec_sigma, 1|subj_offset, 1|subj_sigma, stim:stim_hemi, stim_hemi, stim, Intercept]\n"
     ]
    },
    {
     "data": {
      "text/html": [
       "\n",
       "<style>\n",
       "    /* Turns off some styling */\n",
       "    progress {\n",
       "        /* gets rid of default border in Firefox and Opera. */\n",
       "        border: none;\n",
       "        /* Needs to be in here for Safari polyfill so background images work as expected. */\n",
       "        background-size: auto;\n",
       "    }\n",
       "    .progress-bar-interrupted, .progress-bar-interrupted::-webkit-progress-bar {\n",
       "        background: #F44336;\n",
       "    }\n",
       "</style>\n"
      ],
      "text/plain": [
       "<IPython.core.display.HTML object>"
      ]
     },
     "metadata": {},
     "output_type": "display_data"
    },
    {
     "data": {
      "text/html": [
       "\n",
       "    <div>\n",
       "      <progress value='16000' class='' max='16000' style='width:300px; height:20px; vertical-align: middle;'></progress>\n",
       "      100.00% [16000/16000 00:44<00:00 Sampling 4 chains, 0 divergences]\n",
       "    </div>\n",
       "    "
      ],
      "text/plain": [
       "<IPython.core.display.HTML object>"
      ]
     },
     "metadata": {},
     "output_type": "display_data"
    },
    {
     "name": "stderr",
     "output_type": "stream",
     "text": [
      "Sampling 4 chains for 2_000 tune and 2_000 draw iterations (8_000 + 8_000 draws total) took 45 seconds.\n",
      "/home1/salman.qasim/Salman_Python_Scripts/SQ_Projects/Bayesian_model_utils.py:142: FutureWarning: In future versions `DataFrame.to_latex` is expected to utilise the base implementation of `Styler.to_latex` for formatting and rendering. The arguments signature may therefore change. It is recommended instead to use `DataFrame.style.to_latex` which also contains additional functionality.\n",
      "  print(results_df.reset_index().to_latex(index=False,\n"
     ]
    },
    {
     "name": "stdout",
     "output_type": "stream",
     "text": [
      "\\begin{tabular}{|c|c|c|c|c|}\n",
      "\\toprule\n",
      "                    index &   mean &    sd &  hdi\\_2.5\\% &  hdi\\_97.5\\% \\\\ \\hline\n",
      "\\midrule\n",
      "                stim[1.0] &  0.298 & 0.115 &     0.079 &      0.532 \\\\ \\hline\n",
      "          stim\\_hemi[left] &  0.041 & 0.098 &    -0.147 &      0.239 \\\\ \\hline\n",
      "stim:stim\\_hemi[1.0, left] & -0.164 & 0.130 &    -0.426 &      0.084 \\\\ \\hline\n",
      "          stim\\_hemi[left] &  0.041 & 0.098 &    -0.147 &      0.239 \\\\ \\hline\n",
      "stim:stim\\_hemi[1.0, left] & -0.164 & 0.130 &    -0.426 &      0.084 \\\\ \\hline\n",
      "\\bottomrule\n",
      "\\end{tabular}\n",
      "\n"
     ]
    },
    {
     "name": "stderr",
     "output_type": "stream",
     "text": [
      "/home1/salman.qasim/miniconda3/envs/bambi_env/lib/python3.10/site-packages/bambi/models.py:140: SettingWithCopyWarning: \n",
      "A value is trying to be set on a copy of a slice from a DataFrame.\n",
      "Try using .loc[row_indexer,col_indexer] = value instead\n",
      "\n",
      "See the caveats in the documentation: https://pandas.pydata.org/pandas-docs/stable/user_guide/indexing.html#returning-a-view-versus-a-copy\n",
      "  data[obj_cols] = data[obj_cols].apply(lambda x: x.astype(\"category\"))\n",
      "Auto-assigning NUTS sampler...\n",
      "Initializing NUTS using advi+adapt_diag...\n"
     ]
    },
    {
     "data": {
      "text/html": [
       "\n",
       "<style>\n",
       "    /* Turns off some styling */\n",
       "    progress {\n",
       "        /* gets rid of default border in Firefox and Opera. */\n",
       "        border: none;\n",
       "        /* Needs to be in here for Safari polyfill so background images work as expected. */\n",
       "        background-size: auto;\n",
       "    }\n",
       "    .progress-bar-interrupted, .progress-bar-interrupted::-webkit-progress-bar {\n",
       "        background: #F44336;\n",
       "    }\n",
       "</style>\n"
      ],
      "text/plain": [
       "<IPython.core.display.HTML object>"
      ]
     },
     "metadata": {},
     "output_type": "display_data"
    },
    {
     "data": {
      "text/html": [
       "\n",
       "    <div>\n",
       "      <progress value='21927' class='' max='50000' style='width:300px; height:20px; vertical-align: middle;'></progress>\n",
       "      43.85% [21927/50000 00:04<00:05 Average Loss = -44.695]\n",
       "    </div>\n",
       "    "
      ],
      "text/plain": [
       "<IPython.core.display.HTML object>"
      ]
     },
     "metadata": {},
     "output_type": "display_data"
    },
    {
     "name": "stderr",
     "output_type": "stream",
     "text": [
      "Convergence achieved at 22900\n",
      "Interrupted at 22,899 [45%]: Average Loss = 760.16\n",
      "Multiprocess sampling (4 chains in 4 jobs)\n",
      "NUTS: [hfa_diff_sigma, 1|elec_offset, 1|elec_sigma, 1|subj_offset, 1|subj_sigma, stim:stim_hemi, stim_hemi, stim, Intercept]\n"
     ]
    },
    {
     "data": {
      "text/html": [
       "\n",
       "<style>\n",
       "    /* Turns off some styling */\n",
       "    progress {\n",
       "        /* gets rid of default border in Firefox and Opera. */\n",
       "        border: none;\n",
       "        /* Needs to be in here for Safari polyfill so background images work as expected. */\n",
       "        background-size: auto;\n",
       "    }\n",
       "    .progress-bar-interrupted, .progress-bar-interrupted::-webkit-progress-bar {\n",
       "        background: #F44336;\n",
       "    }\n",
       "</style>\n"
      ],
      "text/plain": [
       "<IPython.core.display.HTML object>"
      ]
     },
     "metadata": {},
     "output_type": "display_data"
    },
    {
     "data": {
      "text/html": [
       "\n",
       "    <div>\n",
       "      <progress value='16000' class='' max='16000' style='width:300px; height:20px; vertical-align: middle;'></progress>\n",
       "      100.00% [16000/16000 00:39<00:00 Sampling 4 chains, 0 divergences]\n",
       "    </div>\n",
       "    "
      ],
      "text/plain": [
       "<IPython.core.display.HTML object>"
      ]
     },
     "metadata": {},
     "output_type": "display_data"
    },
    {
     "name": "stderr",
     "output_type": "stream",
     "text": [
      "Sampling 4 chains for 2_000 tune and 2_000 draw iterations (8_000 + 8_000 draws total) took 40 seconds.\n",
      "/home1/salman.qasim/Salman_Python_Scripts/SQ_Projects/Bayesian_model_utils.py:142: FutureWarning: In future versions `DataFrame.to_latex` is expected to utilise the base implementation of `Styler.to_latex` for formatting and rendering. The arguments signature may therefore change. It is recommended instead to use `DataFrame.style.to_latex` which also contains additional functionality.\n",
      "  print(results_df.reset_index().to_latex(index=False,\n"
     ]
    },
    {
     "name": "stdout",
     "output_type": "stream",
     "text": [
      "\\begin{tabular}{|c|c|c|c|c|}\n",
      "\\toprule\n",
      "                    index &   mean &    sd &  hdi\\_2.5\\% &  hdi\\_97.5\\% \\\\ \\hline\n",
      "\\midrule\n",
      "                stim[1.0] & -0.088 & 0.056 &    -0.200 &      0.018 \\\\ \\hline\n",
      "          stim\\_hemi[left] &  0.015 & 0.043 &    -0.075 &      0.096 \\\\ \\hline\n",
      "stim:stim\\_hemi[1.0, left] & -0.048 & 0.062 &    -0.165 &      0.076 \\\\ \\hline\n",
      "          stim\\_hemi[left] &  0.015 & 0.043 &    -0.075 &      0.096 \\\\ \\hline\n",
      "stim:stim\\_hemi[1.0, left] & -0.048 & 0.062 &    -0.165 &      0.076 \\\\ \\hline\n",
      "\\bottomrule\n",
      "\\end{tabular}\n",
      "\n"
     ]
    },
    {
     "name": "stderr",
     "output_type": "stream",
     "text": [
      "/home1/salman.qasim/miniconda3/envs/bambi_env/lib/python3.10/site-packages/bambi/models.py:140: SettingWithCopyWarning: \n",
      "A value is trying to be set on a copy of a slice from a DataFrame.\n",
      "Try using .loc[row_indexer,col_indexer] = value instead\n",
      "\n",
      "See the caveats in the documentation: https://pandas.pydata.org/pandas-docs/stable/user_guide/indexing.html#returning-a-view-versus-a-copy\n",
      "  data[obj_cols] = data[obj_cols].apply(lambda x: x.astype(\"category\"))\n",
      "Auto-assigning NUTS sampler...\n",
      "Initializing NUTS using advi+adapt_diag...\n"
     ]
    },
    {
     "data": {
      "text/html": [
       "\n",
       "<style>\n",
       "    /* Turns off some styling */\n",
       "    progress {\n",
       "        /* gets rid of default border in Firefox and Opera. */\n",
       "        border: none;\n",
       "        /* Needs to be in here for Safari polyfill so background images work as expected. */\n",
       "        background-size: auto;\n",
       "    }\n",
       "    .progress-bar-interrupted, .progress-bar-interrupted::-webkit-progress-bar {\n",
       "        background: #F44336;\n",
       "    }\n",
       "</style>\n"
      ],
      "text/plain": [
       "<IPython.core.display.HTML object>"
      ]
     },
     "metadata": {},
     "output_type": "display_data"
    },
    {
     "data": {
      "text/html": [
       "\n",
       "    <div>\n",
       "      <progress value='27549' class='' max='50000' style='width:300px; height:20px; vertical-align: middle;'></progress>\n",
       "      55.10% [27549/50000 00:05<00:04 Average Loss = -69.091]\n",
       "    </div>\n",
       "    "
      ],
      "text/plain": [
       "<IPython.core.display.HTML object>"
      ]
     },
     "metadata": {},
     "output_type": "display_data"
    },
    {
     "name": "stderr",
     "output_type": "stream",
     "text": [
      "Convergence achieved at 28500\n",
      "Interrupted at 28,499 [56%]: Average Loss = 2,618.4\n",
      "Multiprocess sampling (4 chains in 4 jobs)\n",
      "NUTS: [theta_diff_sigma, 1|elec_offset, 1|elec_sigma, 1|subj_offset, 1|subj_sigma, stim:stim_hemi, stim_hemi, stim, Intercept]\n"
     ]
    },
    {
     "data": {
      "text/html": [
       "\n",
       "<style>\n",
       "    /* Turns off some styling */\n",
       "    progress {\n",
       "        /* gets rid of default border in Firefox and Opera. */\n",
       "        border: none;\n",
       "        /* Needs to be in here for Safari polyfill so background images work as expected. */\n",
       "        background-size: auto;\n",
       "    }\n",
       "    .progress-bar-interrupted, .progress-bar-interrupted::-webkit-progress-bar {\n",
       "        background: #F44336;\n",
       "    }\n",
       "</style>\n"
      ],
      "text/plain": [
       "<IPython.core.display.HTML object>"
      ]
     },
     "metadata": {},
     "output_type": "display_data"
    },
    {
     "data": {
      "text/html": [
       "\n",
       "    <div>\n",
       "      <progress value='16000' class='' max='16000' style='width:300px; height:20px; vertical-align: middle;'></progress>\n",
       "      100.00% [16000/16000 00:49<00:00 Sampling 4 chains, 1 divergences]\n",
       "    </div>\n",
       "    "
      ],
      "text/plain": [
       "<IPython.core.display.HTML object>"
      ]
     },
     "metadata": {},
     "output_type": "display_data"
    },
    {
     "name": "stderr",
     "output_type": "stream",
     "text": [
      "Sampling 4 chains for 2_000 tune and 2_000 draw iterations (8_000 + 8_000 draws total) took 50 seconds.\n",
      "There was 1 divergence after tuning. Increase `target_accept` or reparameterize.\n",
      "/home1/salman.qasim/Salman_Python_Scripts/SQ_Projects/Bayesian_model_utils.py:142: FutureWarning: In future versions `DataFrame.to_latex` is expected to utilise the base implementation of `Styler.to_latex` for formatting and rendering. The arguments signature may therefore change. It is recommended instead to use `DataFrame.style.to_latex` which also contains additional functionality.\n",
      "  print(results_df.reset_index().to_latex(index=False,\n"
     ]
    },
    {
     "name": "stdout",
     "output_type": "stream",
     "text": [
      "\\begin{tabular}{|c|c|c|c|c|}\n",
      "\\toprule\n",
      "                    index &   mean &    sd &  hdi\\_2.5\\% &  hdi\\_97.5\\% \\\\ \\hline\n",
      "\\midrule\n",
      "                stim[1.0] & -0.004 & 0.016 &    -0.035 &      0.027 \\\\ \\hline\n",
      "          stim\\_hemi[left] &  0.006 & 0.019 &    -0.032 &      0.044 \\\\ \\hline\n",
      "stim:stim\\_hemi[1.0, left] & -0.015 & 0.019 &    -0.052 &      0.022 \\\\ \\hline\n",
      "          stim\\_hemi[left] &  0.006 & 0.019 &    -0.032 &      0.044 \\\\ \\hline\n",
      "stim:stim\\_hemi[1.0, left] & -0.015 & 0.019 &    -0.052 &      0.022 \\\\ \\hline\n",
      "\\bottomrule\n",
      "\\end{tabular}\n",
      "\n"
     ]
    },
    {
     "name": "stderr",
     "output_type": "stream",
     "text": [
      "/home1/salman.qasim/miniconda3/envs/bambi_env/lib/python3.10/site-packages/bambi/models.py:140: SettingWithCopyWarning: \n",
      "A value is trying to be set on a copy of a slice from a DataFrame.\n",
      "Try using .loc[row_indexer,col_indexer] = value instead\n",
      "\n",
      "See the caveats in the documentation: https://pandas.pydata.org/pandas-docs/stable/user_guide/indexing.html#returning-a-view-versus-a-copy\n",
      "  data[obj_cols] = data[obj_cols].apply(lambda x: x.astype(\"category\"))\n",
      "Auto-assigning NUTS sampler...\n",
      "Initializing NUTS using advi+adapt_diag...\n"
     ]
    },
    {
     "data": {
      "text/html": [
       "\n",
       "<style>\n",
       "    /* Turns off some styling */\n",
       "    progress {\n",
       "        /* gets rid of default border in Firefox and Opera. */\n",
       "        border: none;\n",
       "        /* Needs to be in here for Safari polyfill so background images work as expected. */\n",
       "        background-size: auto;\n",
       "    }\n",
       "    .progress-bar-interrupted, .progress-bar-interrupted::-webkit-progress-bar {\n",
       "        background: #F44336;\n",
       "    }\n",
       "</style>\n"
      ],
      "text/plain": [
       "<IPython.core.display.HTML object>"
      ]
     },
     "metadata": {},
     "output_type": "display_data"
    },
    {
     "data": {
      "text/html": [
       "\n",
       "    <div>\n",
       "      <progress value='21319' class='' max='50000' style='width:300px; height:20px; vertical-align: middle;'></progress>\n",
       "      42.64% [21319/50000 00:04<00:05 Average Loss = -14.452]\n",
       "    </div>\n",
       "    "
      ],
      "text/plain": [
       "<IPython.core.display.HTML object>"
      ]
     },
     "metadata": {},
     "output_type": "display_data"
    },
    {
     "name": "stderr",
     "output_type": "stream",
     "text": [
      "Convergence achieved at 22200\n",
      "Interrupted at 22,199 [44%]: Average Loss = 366.12\n",
      "Multiprocess sampling (4 chains in 4 jobs)\n",
      "NUTS: [alpha_diff_sigma, 1|elec_offset, 1|elec_sigma, 1|subj_offset, 1|subj_sigma, stim:stim_hemi, stim_hemi, stim, Intercept]\n"
     ]
    },
    {
     "data": {
      "text/html": [
       "\n",
       "<style>\n",
       "    /* Turns off some styling */\n",
       "    progress {\n",
       "        /* gets rid of default border in Firefox and Opera. */\n",
       "        border: none;\n",
       "        /* Needs to be in here for Safari polyfill so background images work as expected. */\n",
       "        background-size: auto;\n",
       "    }\n",
       "    .progress-bar-interrupted, .progress-bar-interrupted::-webkit-progress-bar {\n",
       "        background: #F44336;\n",
       "    }\n",
       "</style>\n"
      ],
      "text/plain": [
       "<IPython.core.display.HTML object>"
      ]
     },
     "metadata": {},
     "output_type": "display_data"
    },
    {
     "data": {
      "text/html": [
       "\n",
       "    <div>\n",
       "      <progress value='16000' class='' max='16000' style='width:300px; height:20px; vertical-align: middle;'></progress>\n",
       "      100.00% [16000/16000 00:53<00:00 Sampling 4 chains, 1 divergences]\n",
       "    </div>\n",
       "    "
      ],
      "text/plain": [
       "<IPython.core.display.HTML object>"
      ]
     },
     "metadata": {},
     "output_type": "display_data"
    },
    {
     "name": "stderr",
     "output_type": "stream",
     "text": [
      "Sampling 4 chains for 2_000 tune and 2_000 draw iterations (8_000 + 8_000 draws total) took 54 seconds.\n",
      "There was 1 divergence after tuning. Increase `target_accept` or reparameterize.\n",
      "/home1/salman.qasim/Salman_Python_Scripts/SQ_Projects/Bayesian_model_utils.py:142: FutureWarning: In future versions `DataFrame.to_latex` is expected to utilise the base implementation of `Styler.to_latex` for formatting and rendering. The arguments signature may therefore change. It is recommended instead to use `DataFrame.style.to_latex` which also contains additional functionality.\n",
      "  print(results_df.reset_index().to_latex(index=False,\n"
     ]
    },
    {
     "name": "stdout",
     "output_type": "stream",
     "text": [
      "\\begin{tabular}{|c|c|c|c|c|}\n",
      "\\toprule\n",
      "                    index &   mean &    sd &  hdi\\_2.5\\% &  hdi\\_97.5\\% \\\\ \\hline\n",
      "\\midrule\n",
      "                stim[1.0] &  0.049 & 0.060 &    -0.082 &      0.156 \\\\ \\hline\n",
      "          stim\\_hemi[left] &  0.024 & 0.073 &    -0.125 &      0.165 \\\\ \\hline\n",
      "stim:stim\\_hemi[1.0, left] & -0.019 & 0.072 &    -0.158 &      0.122 \\\\ \\hline\n",
      "          stim\\_hemi[left] &  0.024 & 0.073 &    -0.125 &      0.165 \\\\ \\hline\n",
      "stim:stim\\_hemi[1.0, left] & -0.019 & 0.072 &    -0.158 &      0.122 \\\\ \\hline\n",
      "\\bottomrule\n",
      "\\end{tabular}\n",
      "\n"
     ]
    },
    {
     "name": "stderr",
     "output_type": "stream",
     "text": [
      "/home1/salman.qasim/miniconda3/envs/bambi_env/lib/python3.10/site-packages/bambi/models.py:140: SettingWithCopyWarning: \n",
      "A value is trying to be set on a copy of a slice from a DataFrame.\n",
      "Try using .loc[row_indexer,col_indexer] = value instead\n",
      "\n",
      "See the caveats in the documentation: https://pandas.pydata.org/pandas-docs/stable/user_guide/indexing.html#returning-a-view-versus-a-copy\n",
      "  data[obj_cols] = data[obj_cols].apply(lambda x: x.astype(\"category\"))\n",
      "Auto-assigning NUTS sampler...\n",
      "Initializing NUTS using advi+adapt_diag...\n"
     ]
    },
    {
     "data": {
      "text/html": [
       "\n",
       "<style>\n",
       "    /* Turns off some styling */\n",
       "    progress {\n",
       "        /* gets rid of default border in Firefox and Opera. */\n",
       "        border: none;\n",
       "        /* Needs to be in here for Safari polyfill so background images work as expected. */\n",
       "        background-size: auto;\n",
       "    }\n",
       "    .progress-bar-interrupted, .progress-bar-interrupted::-webkit-progress-bar {\n",
       "        background: #F44336;\n",
       "    }\n",
       "</style>\n"
      ],
      "text/plain": [
       "<IPython.core.display.HTML object>"
      ]
     },
     "metadata": {},
     "output_type": "display_data"
    },
    {
     "data": {
      "text/html": [
       "\n",
       "    <div>\n",
       "      <progress value='22022' class='' max='50000' style='width:300px; height:20px; vertical-align: middle;'></progress>\n",
       "      44.04% [22022/50000 00:04<00:05 Average Loss = -12.251]\n",
       "    </div>\n",
       "    "
      ],
      "text/plain": [
       "<IPython.core.display.HTML object>"
      ]
     },
     "metadata": {},
     "output_type": "display_data"
    },
    {
     "name": "stderr",
     "output_type": "stream",
     "text": [
      "Convergence achieved at 22200\n",
      "Interrupted at 22,199 [44%]: Average Loss = 317.7\n",
      "Multiprocess sampling (4 chains in 4 jobs)\n",
      "NUTS: [beta_diff_sigma, 1|elec_offset, 1|elec_sigma, 1|subj_offset, 1|subj_sigma, stim:stim_hemi, stim_hemi, stim, Intercept]\n"
     ]
    },
    {
     "data": {
      "text/html": [
       "\n",
       "<style>\n",
       "    /* Turns off some styling */\n",
       "    progress {\n",
       "        /* gets rid of default border in Firefox and Opera. */\n",
       "        border: none;\n",
       "        /* Needs to be in here for Safari polyfill so background images work as expected. */\n",
       "        background-size: auto;\n",
       "    }\n",
       "    .progress-bar-interrupted, .progress-bar-interrupted::-webkit-progress-bar {\n",
       "        background: #F44336;\n",
       "    }\n",
       "</style>\n"
      ],
      "text/plain": [
       "<IPython.core.display.HTML object>"
      ]
     },
     "metadata": {},
     "output_type": "display_data"
    },
    {
     "data": {
      "text/html": [
       "\n",
       "    <div>\n",
       "      <progress value='16000' class='' max='16000' style='width:300px; height:20px; vertical-align: middle;'></progress>\n",
       "      100.00% [16000/16000 00:49<00:00 Sampling 4 chains, 1 divergences]\n",
       "    </div>\n",
       "    "
      ],
      "text/plain": [
       "<IPython.core.display.HTML object>"
      ]
     },
     "metadata": {},
     "output_type": "display_data"
    },
    {
     "name": "stderr",
     "output_type": "stream",
     "text": [
      "Sampling 4 chains for 2_000 tune and 2_000 draw iterations (8_000 + 8_000 draws total) took 50 seconds.\n",
      "There was 1 divergence after tuning. Increase `target_accept` or reparameterize.\n",
      "/home1/salman.qasim/Salman_Python_Scripts/SQ_Projects/Bayesian_model_utils.py:142: FutureWarning: In future versions `DataFrame.to_latex` is expected to utilise the base implementation of `Styler.to_latex` for formatting and rendering. The arguments signature may therefore change. It is recommended instead to use `DataFrame.style.to_latex` which also contains additional functionality.\n",
      "  print(results_df.reset_index().to_latex(index=False,\n"
     ]
    },
    {
     "name": "stdout",
     "output_type": "stream",
     "text": [
      "\\begin{tabular}{|c|c|c|c|c|}\n",
      "\\toprule\n",
      "                    index &   mean &    sd &  hdi\\_2.5\\% &  hdi\\_97.5\\% \\\\ \\hline\n",
      "\\midrule\n",
      "                stim[1.0] & -0.004 & 0.063 &    -0.125 &      0.121 \\\\ \\hline\n",
      "          stim\\_hemi[left] & -0.012 & 0.079 &    -0.172 &      0.144 \\\\ \\hline\n",
      "stim:stim\\_hemi[1.0, left] &  0.056 & 0.074 &    -0.088 &      0.199 \\\\ \\hline\n",
      "          stim\\_hemi[left] & -0.012 & 0.079 &    -0.172 &      0.144 \\\\ \\hline\n",
      "stim:stim\\_hemi[1.0, left] &  0.056 & 0.074 &    -0.088 &      0.199 \\\\ \\hline\n",
      "\\bottomrule\n",
      "\\end{tabular}\n",
      "\n"
     ]
    },
    {
     "name": "stderr",
     "output_type": "stream",
     "text": [
      "/home1/salman.qasim/miniconda3/envs/bambi_env/lib/python3.10/site-packages/bambi/models.py:140: SettingWithCopyWarning: \n",
      "A value is trying to be set on a copy of a slice from a DataFrame.\n",
      "Try using .loc[row_indexer,col_indexer] = value instead\n",
      "\n",
      "See the caveats in the documentation: https://pandas.pydata.org/pandas-docs/stable/user_guide/indexing.html#returning-a-view-versus-a-copy\n",
      "  data[obj_cols] = data[obj_cols].apply(lambda x: x.astype(\"category\"))\n",
      "Auto-assigning NUTS sampler...\n",
      "Initializing NUTS using advi+adapt_diag...\n"
     ]
    },
    {
     "data": {
      "text/html": [
       "\n",
       "<style>\n",
       "    /* Turns off some styling */\n",
       "    progress {\n",
       "        /* gets rid of default border in Firefox and Opera. */\n",
       "        border: none;\n",
       "        /* Needs to be in here for Safari polyfill so background images work as expected. */\n",
       "        background-size: auto;\n",
       "    }\n",
       "    .progress-bar-interrupted, .progress-bar-interrupted::-webkit-progress-bar {\n",
       "        background: #F44336;\n",
       "    }\n",
       "</style>\n"
      ],
      "text/plain": [
       "<IPython.core.display.HTML object>"
      ]
     },
     "metadata": {},
     "output_type": "display_data"
    },
    {
     "data": {
      "text/html": [
       "\n",
       "    <div>\n",
       "      <progress value='26957' class='' max='50000' style='width:300px; height:20px; vertical-align: middle;'></progress>\n",
       "      53.91% [26957/50000 00:05<00:04 Average Loss = -56.844]\n",
       "    </div>\n",
       "    "
      ],
      "text/plain": [
       "<IPython.core.display.HTML object>"
      ]
     },
     "metadata": {},
     "output_type": "display_data"
    },
    {
     "name": "stderr",
     "output_type": "stream",
     "text": [
      "Convergence achieved at 27600\n",
      "Interrupted at 27,599 [55%]: Average Loss = 1,482.3\n",
      "Multiprocess sampling (4 chains in 4 jobs)\n",
      "NUTS: [hfa_diff_sigma, 1|elec_offset, 1|elec_sigma, 1|subj_offset, 1|subj_sigma, stim:stim_hemi, stim_hemi, stim, Intercept]\n"
     ]
    },
    {
     "data": {
      "text/html": [
       "\n",
       "<style>\n",
       "    /* Turns off some styling */\n",
       "    progress {\n",
       "        /* gets rid of default border in Firefox and Opera. */\n",
       "        border: none;\n",
       "        /* Needs to be in here for Safari polyfill so background images work as expected. */\n",
       "        background-size: auto;\n",
       "    }\n",
       "    .progress-bar-interrupted, .progress-bar-interrupted::-webkit-progress-bar {\n",
       "        background: #F44336;\n",
       "    }\n",
       "</style>\n"
      ],
      "text/plain": [
       "<IPython.core.display.HTML object>"
      ]
     },
     "metadata": {},
     "output_type": "display_data"
    },
    {
     "data": {
      "text/html": [
       "\n",
       "    <div>\n",
       "      <progress value='16000' class='' max='16000' style='width:300px; height:20px; vertical-align: middle;'></progress>\n",
       "      100.00% [16000/16000 00:45<00:00 Sampling 4 chains, 0 divergences]\n",
       "    </div>\n",
       "    "
      ],
      "text/plain": [
       "<IPython.core.display.HTML object>"
      ]
     },
     "metadata": {},
     "output_type": "display_data"
    },
    {
     "name": "stderr",
     "output_type": "stream",
     "text": [
      "Sampling 4 chains for 2_000 tune and 2_000 draw iterations (8_000 + 8_000 draws total) took 46 seconds.\n",
      "/home1/salman.qasim/Salman_Python_Scripts/SQ_Projects/Bayesian_model_utils.py:142: FutureWarning: In future versions `DataFrame.to_latex` is expected to utilise the base implementation of `Styler.to_latex` for formatting and rendering. The arguments signature may therefore change. It is recommended instead to use `DataFrame.style.to_latex` which also contains additional functionality.\n",
      "  print(results_df.reset_index().to_latex(index=False,\n"
     ]
    },
    {
     "name": "stdout",
     "output_type": "stream",
     "text": [
      "\\begin{tabular}{|c|c|c|c|c|}\n",
      "\\toprule\n",
      "                    index &   mean &    sd &  hdi\\_2.5\\% &  hdi\\_97.5\\% \\\\ \\hline\n",
      "\\midrule\n",
      "                stim[1.0] & -0.018 & 0.022 &    -0.060 &      0.026 \\\\ \\hline\n",
      "          stim\\_hemi[left] & -0.005 & 0.025 &    -0.058 &      0.044 \\\\ \\hline\n",
      "stim:stim\\_hemi[1.0, left] & -0.011 & 0.026 &    -0.063 &      0.039 \\\\ \\hline\n",
      "          stim\\_hemi[left] & -0.005 & 0.025 &    -0.058 &      0.044 \\\\ \\hline\n",
      "stim:stim\\_hemi[1.0, left] & -0.011 & 0.026 &    -0.063 &      0.039 \\\\ \\hline\n",
      "\\bottomrule\n",
      "\\end{tabular}\n",
      "\n"
     ]
    },
    {
     "name": "stderr",
     "output_type": "stream",
     "text": [
      "/home1/salman.qasim/miniconda3/envs/bambi_env/lib/python3.10/site-packages/bambi/models.py:140: SettingWithCopyWarning: \n",
      "A value is trying to be set on a copy of a slice from a DataFrame.\n",
      "Try using .loc[row_indexer,col_indexer] = value instead\n",
      "\n",
      "See the caveats in the documentation: https://pandas.pydata.org/pandas-docs/stable/user_guide/indexing.html#returning-a-view-versus-a-copy\n",
      "  data[obj_cols] = data[obj_cols].apply(lambda x: x.astype(\"category\"))\n",
      "Auto-assigning NUTS sampler...\n",
      "Initializing NUTS using advi+adapt_diag...\n"
     ]
    },
    {
     "data": {
      "text/html": [
       "\n",
       "<style>\n",
       "    /* Turns off some styling */\n",
       "    progress {\n",
       "        /* gets rid of default border in Firefox and Opera. */\n",
       "        border: none;\n",
       "        /* Needs to be in here for Safari polyfill so background images work as expected. */\n",
       "        background-size: auto;\n",
       "    }\n",
       "    .progress-bar-interrupted, .progress-bar-interrupted::-webkit-progress-bar {\n",
       "        background: #F44336;\n",
       "    }\n",
       "</style>\n"
      ],
      "text/plain": [
       "<IPython.core.display.HTML object>"
      ]
     },
     "metadata": {},
     "output_type": "display_data"
    },
    {
     "data": {
      "text/html": [
       "\n",
       "    <div>\n",
       "      <progress value='29292' class='' max='50000' style='width:300px; height:20px; vertical-align: middle;'></progress>\n",
       "      58.58% [29292/50000 00:05<00:04 Average Loss = -161.59]\n",
       "    </div>\n",
       "    "
      ],
      "text/plain": [
       "<IPython.core.display.HTML object>"
      ]
     },
     "metadata": {},
     "output_type": "display_data"
    },
    {
     "name": "stderr",
     "output_type": "stream",
     "text": [
      "Convergence achieved at 29300\n",
      "Interrupted at 29,299 [58%]: Average Loss = 4,423.5\n",
      "Multiprocess sampling (4 chains in 4 jobs)\n",
      "NUTS: [theta_diff_sigma, 1|elec_offset, 1|elec_sigma, 1|subj_offset, 1|subj_sigma, stim:stim_hemi, stim_hemi, stim, Intercept]\n"
     ]
    },
    {
     "data": {
      "text/html": [
       "\n",
       "<style>\n",
       "    /* Turns off some styling */\n",
       "    progress {\n",
       "        /* gets rid of default border in Firefox and Opera. */\n",
       "        border: none;\n",
       "        /* Needs to be in here for Safari polyfill so background images work as expected. */\n",
       "        background-size: auto;\n",
       "    }\n",
       "    .progress-bar-interrupted, .progress-bar-interrupted::-webkit-progress-bar {\n",
       "        background: #F44336;\n",
       "    }\n",
       "</style>\n"
      ],
      "text/plain": [
       "<IPython.core.display.HTML object>"
      ]
     },
     "metadata": {},
     "output_type": "display_data"
    },
    {
     "data": {
      "text/html": [
       "\n",
       "    <div>\n",
       "      <progress value='16000' class='' max='16000' style='width:300px; height:20px; vertical-align: middle;'></progress>\n",
       "      100.00% [16000/16000 00:43<00:00 Sampling 4 chains, 0 divergences]\n",
       "    </div>\n",
       "    "
      ],
      "text/plain": [
       "<IPython.core.display.HTML object>"
      ]
     },
     "metadata": {},
     "output_type": "display_data"
    },
    {
     "name": "stderr",
     "output_type": "stream",
     "text": [
      "Sampling 4 chains for 2_000 tune and 2_000 draw iterations (8_000 + 8_000 draws total) took 44 seconds.\n",
      "/home1/salman.qasim/Salman_Python_Scripts/SQ_Projects/Bayesian_model_utils.py:142: FutureWarning: In future versions `DataFrame.to_latex` is expected to utilise the base implementation of `Styler.to_latex` for formatting and rendering. The arguments signature may therefore change. It is recommended instead to use `DataFrame.style.to_latex` which also contains additional functionality.\n",
      "  print(results_df.reset_index().to_latex(index=False,\n"
     ]
    },
    {
     "name": "stdout",
     "output_type": "stream",
     "text": [
      "\\begin{tabular}{|c|c|c|c|c|}\n",
      "\\toprule\n",
      "                    index &   mean &    sd &  hdi\\_2.5\\% &  hdi\\_97.5\\% \\\\ \\hline\n",
      "\\midrule\n",
      "                stim[1.0] &  0.009 & 0.011 &    -0.015 &      0.030 \\\\ \\hline\n",
      "          stim\\_hemi[left] & -0.002 & 0.012 &    -0.025 &      0.021 \\\\ \\hline\n",
      "stim:stim\\_hemi[1.0, left] &  0.004 & 0.014 &    -0.022 &      0.032 \\\\ \\hline\n",
      "          stim\\_hemi[left] & -0.002 & 0.012 &    -0.025 &      0.021 \\\\ \\hline\n",
      "stim:stim\\_hemi[1.0, left] &  0.004 & 0.014 &    -0.022 &      0.032 \\\\ \\hline\n",
      "\\bottomrule\n",
      "\\end{tabular}\n",
      "\n"
     ]
    },
    {
     "name": "stderr",
     "output_type": "stream",
     "text": [
      "/home1/salman.qasim/miniconda3/envs/bambi_env/lib/python3.10/site-packages/bambi/models.py:140: SettingWithCopyWarning: \n",
      "A value is trying to be set on a copy of a slice from a DataFrame.\n",
      "Try using .loc[row_indexer,col_indexer] = value instead\n",
      "\n",
      "See the caveats in the documentation: https://pandas.pydata.org/pandas-docs/stable/user_guide/indexing.html#returning-a-view-versus-a-copy\n",
      "  data[obj_cols] = data[obj_cols].apply(lambda x: x.astype(\"category\"))\n",
      "Auto-assigning NUTS sampler...\n",
      "Initializing NUTS using advi+adapt_diag...\n"
     ]
    },
    {
     "data": {
      "text/html": [
       "\n",
       "<style>\n",
       "    /* Turns off some styling */\n",
       "    progress {\n",
       "        /* gets rid of default border in Firefox and Opera. */\n",
       "        border: none;\n",
       "        /* Needs to be in here for Safari polyfill so background images work as expected. */\n",
       "        background-size: auto;\n",
       "    }\n",
       "    .progress-bar-interrupted, .progress-bar-interrupted::-webkit-progress-bar {\n",
       "        background: #F44336;\n",
       "    }\n",
       "</style>\n"
      ],
      "text/plain": [
       "<IPython.core.display.HTML object>"
      ]
     },
     "metadata": {},
     "output_type": "display_data"
    },
    {
     "data": {
      "text/html": [
       "\n",
       "    <div>\n",
       "      <progress value='21351' class='' max='50000' style='width:300px; height:20px; vertical-align: middle;'></progress>\n",
       "      42.70% [21351/50000 00:04<00:05 Average Loss = -33.384]\n",
       "    </div>\n",
       "    "
      ],
      "text/plain": [
       "<IPython.core.display.HTML object>"
      ]
     },
     "metadata": {},
     "output_type": "display_data"
    },
    {
     "name": "stderr",
     "output_type": "stream",
     "text": [
      "Convergence achieved at 21800\n",
      "Interrupted at 21,799 [43%]: Average Loss = 562.53\n",
      "Multiprocess sampling (4 chains in 4 jobs)\n",
      "NUTS: [alpha_diff_sigma, 1|elec_offset, 1|elec_sigma, 1|subj_offset, 1|subj_sigma, stim:stim_hemi, stim_hemi, stim, Intercept]\n"
     ]
    },
    {
     "data": {
      "text/html": [
       "\n",
       "<style>\n",
       "    /* Turns off some styling */\n",
       "    progress {\n",
       "        /* gets rid of default border in Firefox and Opera. */\n",
       "        border: none;\n",
       "        /* Needs to be in here for Safari polyfill so background images work as expected. */\n",
       "        background-size: auto;\n",
       "    }\n",
       "    .progress-bar-interrupted, .progress-bar-interrupted::-webkit-progress-bar {\n",
       "        background: #F44336;\n",
       "    }\n",
       "</style>\n"
      ],
      "text/plain": [
       "<IPython.core.display.HTML object>"
      ]
     },
     "metadata": {},
     "output_type": "display_data"
    },
    {
     "data": {
      "text/html": [
       "\n",
       "    <div>\n",
       "      <progress value='16000' class='' max='16000' style='width:300px; height:20px; vertical-align: middle;'></progress>\n",
       "      100.00% [16000/16000 00:38<00:00 Sampling 4 chains, 0 divergences]\n",
       "    </div>\n",
       "    "
      ],
      "text/plain": [
       "<IPython.core.display.HTML object>"
      ]
     },
     "metadata": {},
     "output_type": "display_data"
    },
    {
     "name": "stderr",
     "output_type": "stream",
     "text": [
      "Sampling 4 chains for 2_000 tune and 2_000 draw iterations (8_000 + 8_000 draws total) took 39 seconds.\n",
      "/home1/salman.qasim/Salman_Python_Scripts/SQ_Projects/Bayesian_model_utils.py:142: FutureWarning: In future versions `DataFrame.to_latex` is expected to utilise the base implementation of `Styler.to_latex` for formatting and rendering. The arguments signature may therefore change. It is recommended instead to use `DataFrame.style.to_latex` which also contains additional functionality.\n",
      "  print(results_df.reset_index().to_latex(index=False,\n"
     ]
    },
    {
     "name": "stdout",
     "output_type": "stream",
     "text": [
      "\\begin{tabular}{|c|c|c|c|c|}\n",
      "\\toprule\n",
      "                    index &   mean &    sd &  hdi\\_2.5\\% &  hdi\\_97.5\\% \\\\ \\hline\n",
      "\\midrule\n",
      "                stim[1.0] & -0.030 & 0.048 &    -0.123 &      0.065 \\\\ \\hline\n",
      "          stim\\_hemi[left] &  0.024 & 0.048 &    -0.068 &      0.122 \\\\ \\hline\n",
      "stim:stim\\_hemi[1.0, left] & -0.012 & 0.058 &    -0.121 &      0.108 \\\\ \\hline\n",
      "          stim\\_hemi[left] &  0.024 & 0.048 &    -0.068 &      0.122 \\\\ \\hline\n",
      "stim:stim\\_hemi[1.0, left] & -0.012 & 0.058 &    -0.121 &      0.108 \\\\ \\hline\n",
      "\\bottomrule\n",
      "\\end{tabular}\n",
      "\n"
     ]
    },
    {
     "name": "stderr",
     "output_type": "stream",
     "text": [
      "/home1/salman.qasim/miniconda3/envs/bambi_env/lib/python3.10/site-packages/bambi/models.py:140: SettingWithCopyWarning: \n",
      "A value is trying to be set on a copy of a slice from a DataFrame.\n",
      "Try using .loc[row_indexer,col_indexer] = value instead\n",
      "\n",
      "See the caveats in the documentation: https://pandas.pydata.org/pandas-docs/stable/user_guide/indexing.html#returning-a-view-versus-a-copy\n",
      "  data[obj_cols] = data[obj_cols].apply(lambda x: x.astype(\"category\"))\n",
      "Auto-assigning NUTS sampler...\n",
      "Initializing NUTS using advi+adapt_diag...\n"
     ]
    },
    {
     "data": {
      "text/html": [
       "\n",
       "<style>\n",
       "    /* Turns off some styling */\n",
       "    progress {\n",
       "        /* gets rid of default border in Firefox and Opera. */\n",
       "        border: none;\n",
       "        /* Needs to be in here for Safari polyfill so background images work as expected. */\n",
       "        background-size: auto;\n",
       "    }\n",
       "    .progress-bar-interrupted, .progress-bar-interrupted::-webkit-progress-bar {\n",
       "        background: #F44336;\n",
       "    }\n",
       "</style>\n"
      ],
      "text/plain": [
       "<IPython.core.display.HTML object>"
      ]
     },
     "metadata": {},
     "output_type": "display_data"
    },
    {
     "data": {
      "text/html": [
       "\n",
       "    <div>\n",
       "      <progress value='22617' class='' max='50000' style='width:300px; height:20px; vertical-align: middle;'></progress>\n",
       "      45.23% [22617/50000 00:04<00:05 Average Loss = -38.658]\n",
       "    </div>\n",
       "    "
      ],
      "text/plain": [
       "<IPython.core.display.HTML object>"
      ]
     },
     "metadata": {},
     "output_type": "display_data"
    },
    {
     "name": "stderr",
     "output_type": "stream",
     "text": [
      "Convergence achieved at 22900\n",
      "Interrupted at 22,899 [45%]: Average Loss = 599.07\n",
      "Multiprocess sampling (4 chains in 4 jobs)\n",
      "NUTS: [beta_diff_sigma, 1|elec_offset, 1|elec_sigma, 1|subj_offset, 1|subj_sigma, stim:stim_hemi, stim_hemi, stim, Intercept]\n"
     ]
    },
    {
     "data": {
      "text/html": [
       "\n",
       "<style>\n",
       "    /* Turns off some styling */\n",
       "    progress {\n",
       "        /* gets rid of default border in Firefox and Opera. */\n",
       "        border: none;\n",
       "        /* Needs to be in here for Safari polyfill so background images work as expected. */\n",
       "        background-size: auto;\n",
       "    }\n",
       "    .progress-bar-interrupted, .progress-bar-interrupted::-webkit-progress-bar {\n",
       "        background: #F44336;\n",
       "    }\n",
       "</style>\n"
      ],
      "text/plain": [
       "<IPython.core.display.HTML object>"
      ]
     },
     "metadata": {},
     "output_type": "display_data"
    },
    {
     "data": {
      "text/html": [
       "\n",
       "    <div>\n",
       "      <progress value='16000' class='' max='16000' style='width:300px; height:20px; vertical-align: middle;'></progress>\n",
       "      100.00% [16000/16000 00:38<00:00 Sampling 4 chains, 0 divergences]\n",
       "    </div>\n",
       "    "
      ],
      "text/plain": [
       "<IPython.core.display.HTML object>"
      ]
     },
     "metadata": {},
     "output_type": "display_data"
    },
    {
     "name": "stderr",
     "output_type": "stream",
     "text": [
      "Sampling 4 chains for 2_000 tune and 2_000 draw iterations (8_000 + 8_000 draws total) took 38 seconds.\n",
      "/home1/salman.qasim/Salman_Python_Scripts/SQ_Projects/Bayesian_model_utils.py:142: FutureWarning: In future versions `DataFrame.to_latex` is expected to utilise the base implementation of `Styler.to_latex` for formatting and rendering. The arguments signature may therefore change. It is recommended instead to use `DataFrame.style.to_latex` which also contains additional functionality.\n",
      "  print(results_df.reset_index().to_latex(index=False,\n"
     ]
    },
    {
     "name": "stdout",
     "output_type": "stream",
     "text": [
      "\\begin{tabular}{|c|c|c|c|c|}\n",
      "\\toprule\n",
      "                    index &   mean &    sd &  hdi\\_2.5\\% &  hdi\\_97.5\\% \\\\ \\hline\n",
      "\\midrule\n",
      "                stim[1.0] & -0.042 & 0.046 &    -0.131 &      0.046 \\\\ \\hline\n",
      "          stim\\_hemi[left] & -0.006 & 0.046 &    -0.093 &      0.088 \\\\ \\hline\n",
      "stim:stim\\_hemi[1.0, left] &  0.015 & 0.056 &    -0.092 &      0.127 \\\\ \\hline\n",
      "          stim\\_hemi[left] & -0.006 & 0.046 &    -0.093 &      0.088 \\\\ \\hline\n",
      "stim:stim\\_hemi[1.0, left] &  0.015 & 0.056 &    -0.092 &      0.127 \\\\ \\hline\n",
      "\\bottomrule\n",
      "\\end{tabular}\n",
      "\n"
     ]
    },
    {
     "name": "stderr",
     "output_type": "stream",
     "text": [
      "/home1/salman.qasim/miniconda3/envs/bambi_env/lib/python3.10/site-packages/bambi/models.py:140: SettingWithCopyWarning: \n",
      "A value is trying to be set on a copy of a slice from a DataFrame.\n",
      "Try using .loc[row_indexer,col_indexer] = value instead\n",
      "\n",
      "See the caveats in the documentation: https://pandas.pydata.org/pandas-docs/stable/user_guide/indexing.html#returning-a-view-versus-a-copy\n",
      "  data[obj_cols] = data[obj_cols].apply(lambda x: x.astype(\"category\"))\n",
      "Auto-assigning NUTS sampler...\n",
      "Initializing NUTS using advi+adapt_diag...\n"
     ]
    },
    {
     "data": {
      "text/html": [
       "\n",
       "<style>\n",
       "    /* Turns off some styling */\n",
       "    progress {\n",
       "        /* gets rid of default border in Firefox and Opera. */\n",
       "        border: none;\n",
       "        /* Needs to be in here for Safari polyfill so background images work as expected. */\n",
       "        background-size: auto;\n",
       "    }\n",
       "    .progress-bar-interrupted, .progress-bar-interrupted::-webkit-progress-bar {\n",
       "        background: #F44336;\n",
       "    }\n",
       "</style>\n"
      ],
      "text/plain": [
       "<IPython.core.display.HTML object>"
      ]
     },
     "metadata": {},
     "output_type": "display_data"
    },
    {
     "data": {
      "text/html": [
       "\n",
       "    <div>\n",
       "      <progress value='22999' class='' max='50000' style='width:300px; height:20px; vertical-align: middle;'></progress>\n",
       "      46.00% [22999/50000 00:04<00:05 Average Loss = -56.052]\n",
       "    </div>\n",
       "    "
      ],
      "text/plain": [
       "<IPython.core.display.HTML object>"
      ]
     },
     "metadata": {},
     "output_type": "display_data"
    },
    {
     "name": "stderr",
     "output_type": "stream",
     "text": [
      "Convergence achieved at 23500\n",
      "Interrupted at 23,499 [46%]: Average Loss = 647.46\n",
      "Multiprocess sampling (4 chains in 4 jobs)\n",
      "NUTS: [hfa_diff_sigma, 1|elec_offset, 1|elec_sigma, 1|subj_offset, 1|subj_sigma, stim:stim_hemi, stim_hemi, stim, Intercept]\n"
     ]
    },
    {
     "data": {
      "text/html": [
       "\n",
       "<style>\n",
       "    /* Turns off some styling */\n",
       "    progress {\n",
       "        /* gets rid of default border in Firefox and Opera. */\n",
       "        border: none;\n",
       "        /* Needs to be in here for Safari polyfill so background images work as expected. */\n",
       "        background-size: auto;\n",
       "    }\n",
       "    .progress-bar-interrupted, .progress-bar-interrupted::-webkit-progress-bar {\n",
       "        background: #F44336;\n",
       "    }\n",
       "</style>\n"
      ],
      "text/plain": [
       "<IPython.core.display.HTML object>"
      ]
     },
     "metadata": {},
     "output_type": "display_data"
    },
    {
     "data": {
      "text/html": [
       "\n",
       "    <div>\n",
       "      <progress value='16000' class='' max='16000' style='width:300px; height:20px; vertical-align: middle;'></progress>\n",
       "      100.00% [16000/16000 00:43<00:00 Sampling 4 chains, 0 divergences]\n",
       "    </div>\n",
       "    "
      ],
      "text/plain": [
       "<IPython.core.display.HTML object>"
      ]
     },
     "metadata": {},
     "output_type": "display_data"
    },
    {
     "name": "stderr",
     "output_type": "stream",
     "text": [
      "Sampling 4 chains for 2_000 tune and 2_000 draw iterations (8_000 + 8_000 draws total) took 44 seconds.\n",
      "/home1/salman.qasim/Salman_Python_Scripts/SQ_Projects/Bayesian_model_utils.py:142: FutureWarning: In future versions `DataFrame.to_latex` is expected to utilise the base implementation of `Styler.to_latex` for formatting and rendering. The arguments signature may therefore change. It is recommended instead to use `DataFrame.style.to_latex` which also contains additional functionality.\n",
      "  print(results_df.reset_index().to_latex(index=False,\n"
     ]
    },
    {
     "name": "stdout",
     "output_type": "stream",
     "text": [
      "\\begin{tabular}{|c|c|c|c|c|}\n",
      "\\toprule\n",
      "                    index &   mean &    sd &  hdi\\_2.5\\% &  hdi\\_97.5\\% \\\\ \\hline\n",
      "\\midrule\n",
      "                stim[1.0] & -0.012 & 0.037 &    -0.086 &      0.058 \\\\ \\hline\n",
      "          stim\\_hemi[left] &  0.028 & 0.038 &    -0.047 &      0.103 \\\\ \\hline\n",
      "stim:stim\\_hemi[1.0, left] & -0.085 & 0.045 &    -0.169 &      0.009 \\\\ \\hline\n",
      "          stim\\_hemi[left] &  0.028 & 0.038 &    -0.047 &      0.103 \\\\ \\hline\n",
      "stim:stim\\_hemi[1.0, left] & -0.085 & 0.045 &    -0.169 &      0.009 \\\\ \\hline\n",
      "\\bottomrule\n",
      "\\end{tabular}\n",
      "\n"
     ]
    },
    {
     "name": "stderr",
     "output_type": "stream",
     "text": [
      "/home1/salman.qasim/miniconda3/envs/bambi_env/lib/python3.10/site-packages/bambi/models.py:140: SettingWithCopyWarning: \n",
      "A value is trying to be set on a copy of a slice from a DataFrame.\n",
      "Try using .loc[row_indexer,col_indexer] = value instead\n",
      "\n",
      "See the caveats in the documentation: https://pandas.pydata.org/pandas-docs/stable/user_guide/indexing.html#returning-a-view-versus-a-copy\n",
      "  data[obj_cols] = data[obj_cols].apply(lambda x: x.astype(\"category\"))\n",
      "Auto-assigning NUTS sampler...\n",
      "Initializing NUTS using advi+adapt_diag...\n"
     ]
    },
    {
     "data": {
      "text/html": [
       "\n",
       "<style>\n",
       "    /* Turns off some styling */\n",
       "    progress {\n",
       "        /* gets rid of default border in Firefox and Opera. */\n",
       "        border: none;\n",
       "        /* Needs to be in here for Safari polyfill so background images work as expected. */\n",
       "        background-size: auto;\n",
       "    }\n",
       "    .progress-bar-interrupted, .progress-bar-interrupted::-webkit-progress-bar {\n",
       "        background: #F44336;\n",
       "    }\n",
       "</style>\n"
      ],
      "text/plain": [
       "<IPython.core.display.HTML object>"
      ]
     },
     "metadata": {},
     "output_type": "display_data"
    },
    {
     "data": {
      "text/html": [
       "\n",
       "    <div>\n",
       "      <progress value='26046' class='' max='50000' style='width:300px; height:20px; vertical-align: middle;'></progress>\n",
       "      52.09% [26046/50000 00:05<00:04 Average Loss = -169.47]\n",
       "    </div>\n",
       "    "
      ],
      "text/plain": [
       "<IPython.core.display.HTML object>"
      ]
     },
     "metadata": {},
     "output_type": "display_data"
    },
    {
     "name": "stderr",
     "output_type": "stream",
     "text": [
      "Convergence achieved at 26900\n",
      "Interrupted at 26,899 [53%]: Average Loss = 2,424.7\n",
      "Multiprocess sampling (4 chains in 4 jobs)\n",
      "NUTS: [theta_diff_sigma, 1|elec_offset, 1|elec_sigma, 1|subj_offset, 1|subj_sigma, stim:stim_hemi, stim_hemi, stim, Intercept]\n"
     ]
    },
    {
     "data": {
      "text/html": [
       "\n",
       "<style>\n",
       "    /* Turns off some styling */\n",
       "    progress {\n",
       "        /* gets rid of default border in Firefox and Opera. */\n",
       "        border: none;\n",
       "        /* Needs to be in here for Safari polyfill so background images work as expected. */\n",
       "        background-size: auto;\n",
       "    }\n",
       "    .progress-bar-interrupted, .progress-bar-interrupted::-webkit-progress-bar {\n",
       "        background: #F44336;\n",
       "    }\n",
       "</style>\n"
      ],
      "text/plain": [
       "<IPython.core.display.HTML object>"
      ]
     },
     "metadata": {},
     "output_type": "display_data"
    },
    {
     "data": {
      "text/html": [
       "\n",
       "    <div>\n",
       "      <progress value='16000' class='' max='16000' style='width:300px; height:20px; vertical-align: middle;'></progress>\n",
       "      100.00% [16000/16000 00:30<00:00 Sampling 4 chains, 0 divergences]\n",
       "    </div>\n",
       "    "
      ],
      "text/plain": [
       "<IPython.core.display.HTML object>"
      ]
     },
     "metadata": {},
     "output_type": "display_data"
    },
    {
     "name": "stderr",
     "output_type": "stream",
     "text": [
      "Sampling 4 chains for 2_000 tune and 2_000 draw iterations (8_000 + 8_000 draws total) took 31 seconds.\n",
      "/home1/salman.qasim/Salman_Python_Scripts/SQ_Projects/Bayesian_model_utils.py:142: FutureWarning: In future versions `DataFrame.to_latex` is expected to utilise the base implementation of `Styler.to_latex` for formatting and rendering. The arguments signature may therefore change. It is recommended instead to use `DataFrame.style.to_latex` which also contains additional functionality.\n",
      "  print(results_df.reset_index().to_latex(index=False,\n"
     ]
    },
    {
     "name": "stdout",
     "output_type": "stream",
     "text": [
      "\\begin{tabular}{|c|c|c|c|c|}\n",
      "\\toprule\n",
      "                    index &   mean &    sd &  hdi\\_2.5\\% &  hdi\\_97.5\\% \\\\ \\hline\n",
      "\\midrule\n",
      "                stim[1.0] &  0.019 & 0.015 &    -0.011 &      0.049 \\\\ \\hline\n",
      "          stim\\_hemi[left] &  0.011 & 0.015 &    -0.019 &      0.039 \\\\ \\hline\n",
      "stim:stim\\_hemi[1.0, left] & -0.011 & 0.020 &    -0.046 &      0.030 \\\\ \\hline\n",
      "          stim\\_hemi[left] &  0.011 & 0.015 &    -0.019 &      0.039 \\\\ \\hline\n",
      "stim:stim\\_hemi[1.0, left] & -0.011 & 0.020 &    -0.046 &      0.030 \\\\ \\hline\n",
      "\\bottomrule\n",
      "\\end{tabular}\n",
      "\n"
     ]
    },
    {
     "name": "stderr",
     "output_type": "stream",
     "text": [
      "/home1/salman.qasim/miniconda3/envs/bambi_env/lib/python3.10/site-packages/bambi/models.py:140: SettingWithCopyWarning: \n",
      "A value is trying to be set on a copy of a slice from a DataFrame.\n",
      "Try using .loc[row_indexer,col_indexer] = value instead\n",
      "\n",
      "See the caveats in the documentation: https://pandas.pydata.org/pandas-docs/stable/user_guide/indexing.html#returning-a-view-versus-a-copy\n",
      "  data[obj_cols] = data[obj_cols].apply(lambda x: x.astype(\"category\"))\n",
      "Auto-assigning NUTS sampler...\n",
      "Initializing NUTS using advi+adapt_diag...\n"
     ]
    },
    {
     "data": {
      "text/html": [
       "\n",
       "<style>\n",
       "    /* Turns off some styling */\n",
       "    progress {\n",
       "        /* gets rid of default border in Firefox and Opera. */\n",
       "        border: none;\n",
       "        /* Needs to be in here for Safari polyfill so background images work as expected. */\n",
       "        background-size: auto;\n",
       "    }\n",
       "    .progress-bar-interrupted, .progress-bar-interrupted::-webkit-progress-bar {\n",
       "        background: #F44336;\n",
       "    }\n",
       "</style>\n"
      ],
      "text/plain": [
       "<IPython.core.display.HTML object>"
      ]
     },
     "metadata": {},
     "output_type": "display_data"
    },
    {
     "data": {
      "text/html": [
       "\n",
       "    <div>\n",
       "      <progress value='21497' class='' max='50000' style='width:300px; height:20px; vertical-align: middle;'></progress>\n",
       "      42.99% [21497/50000 00:04<00:05 Average Loss = -4.262]\n",
       "    </div>\n",
       "    "
      ],
      "text/plain": [
       "<IPython.core.display.HTML object>"
      ]
     },
     "metadata": {},
     "output_type": "display_data"
    },
    {
     "name": "stderr",
     "output_type": "stream",
     "text": [
      "Convergence achieved at 21700\n",
      "Interrupted at 21,699 [43%]: Average Loss = 476.21\n",
      "Multiprocess sampling (4 chains in 4 jobs)\n",
      "NUTS: [alpha_diff_sigma, 1|elec_offset, 1|elec_sigma, 1|subj_offset, 1|subj_sigma, stim:stim_hemi, stim_hemi, stim, Intercept]\n"
     ]
    },
    {
     "data": {
      "text/html": [
       "\n",
       "<style>\n",
       "    /* Turns off some styling */\n",
       "    progress {\n",
       "        /* gets rid of default border in Firefox and Opera. */\n",
       "        border: none;\n",
       "        /* Needs to be in here for Safari polyfill so background images work as expected. */\n",
       "        background-size: auto;\n",
       "    }\n",
       "    .progress-bar-interrupted, .progress-bar-interrupted::-webkit-progress-bar {\n",
       "        background: #F44336;\n",
       "    }\n",
       "</style>\n"
      ],
      "text/plain": [
       "<IPython.core.display.HTML object>"
      ]
     },
     "metadata": {},
     "output_type": "display_data"
    },
    {
     "data": {
      "text/html": [
       "\n",
       "    <div>\n",
       "      <progress value='16000' class='' max='16000' style='width:300px; height:20px; vertical-align: middle;'></progress>\n",
       "      100.00% [16000/16000 00:32<00:00 Sampling 4 chains, 0 divergences]\n",
       "    </div>\n",
       "    "
      ],
      "text/plain": [
       "<IPython.core.display.HTML object>"
      ]
     },
     "metadata": {},
     "output_type": "display_data"
    },
    {
     "name": "stderr",
     "output_type": "stream",
     "text": [
      "Sampling 4 chains for 2_000 tune and 2_000 draw iterations (8_000 + 8_000 draws total) took 32 seconds.\n",
      "/home1/salman.qasim/Salman_Python_Scripts/SQ_Projects/Bayesian_model_utils.py:142: FutureWarning: In future versions `DataFrame.to_latex` is expected to utilise the base implementation of `Styler.to_latex` for formatting and rendering. The arguments signature may therefore change. It is recommended instead to use `DataFrame.style.to_latex` which also contains additional functionality.\n",
      "  print(results_df.reset_index().to_latex(index=False,\n"
     ]
    },
    {
     "name": "stdout",
     "output_type": "stream",
     "text": [
      "\\begin{tabular}{|c|c|c|c|c|}\n",
      "\\toprule\n",
      "                    index &   mean &    sd &  hdi\\_2.5\\% &  hdi\\_97.5\\% \\\\ \\hline\n",
      "\\midrule\n",
      "                stim[1.0] & -0.061 & 0.057 &    -0.166 &      0.060 \\\\ \\hline\n",
      "          stim\\_hemi[left] & -0.021 & 0.055 &    -0.133 &      0.082 \\\\ \\hline\n",
      "stim:stim\\_hemi[1.0, left] &  0.047 & 0.073 &    -0.093 &      0.194 \\\\ \\hline\n",
      "          stim\\_hemi[left] & -0.021 & 0.055 &    -0.133 &      0.082 \\\\ \\hline\n",
      "stim:stim\\_hemi[1.0, left] &  0.047 & 0.073 &    -0.093 &      0.194 \\\\ \\hline\n",
      "\\bottomrule\n",
      "\\end{tabular}\n",
      "\n"
     ]
    },
    {
     "name": "stderr",
     "output_type": "stream",
     "text": [
      "/home1/salman.qasim/miniconda3/envs/bambi_env/lib/python3.10/site-packages/bambi/models.py:140: SettingWithCopyWarning: \n",
      "A value is trying to be set on a copy of a slice from a DataFrame.\n",
      "Try using .loc[row_indexer,col_indexer] = value instead\n",
      "\n",
      "See the caveats in the documentation: https://pandas.pydata.org/pandas-docs/stable/user_guide/indexing.html#returning-a-view-versus-a-copy\n",
      "  data[obj_cols] = data[obj_cols].apply(lambda x: x.astype(\"category\"))\n",
      "Auto-assigning NUTS sampler...\n",
      "Initializing NUTS using advi+adapt_diag...\n"
     ]
    },
    {
     "data": {
      "text/html": [
       "\n",
       "<style>\n",
       "    /* Turns off some styling */\n",
       "    progress {\n",
       "        /* gets rid of default border in Firefox and Opera. */\n",
       "        border: none;\n",
       "        /* Needs to be in here for Safari polyfill so background images work as expected. */\n",
       "        background-size: auto;\n",
       "    }\n",
       "    .progress-bar-interrupted, .progress-bar-interrupted::-webkit-progress-bar {\n",
       "        background: #F44336;\n",
       "    }\n",
       "</style>\n"
      ],
      "text/plain": [
       "<IPython.core.display.HTML object>"
      ]
     },
     "metadata": {},
     "output_type": "display_data"
    },
    {
     "data": {
      "text/html": [
       "\n",
       "    <div>\n",
       "      <progress value='20027' class='' max='50000' style='width:300px; height:20px; vertical-align: middle;'></progress>\n",
       "      40.05% [20027/50000 00:04<00:06 Average Loss = 4.1581]\n",
       "    </div>\n",
       "    "
      ],
      "text/plain": [
       "<IPython.core.display.HTML object>"
      ]
     },
     "metadata": {},
     "output_type": "display_data"
    },
    {
     "name": "stderr",
     "output_type": "stream",
     "text": [
      "Convergence achieved at 20400\n",
      "Interrupted at 20,399 [40%]: Average Loss = 549.99\n",
      "Multiprocess sampling (4 chains in 4 jobs)\n",
      "NUTS: [beta_diff_sigma, 1|elec_offset, 1|elec_sigma, 1|subj_offset, 1|subj_sigma, stim:stim_hemi, stim_hemi, stim, Intercept]\n"
     ]
    },
    {
     "data": {
      "text/html": [
       "\n",
       "<style>\n",
       "    /* Turns off some styling */\n",
       "    progress {\n",
       "        /* gets rid of default border in Firefox and Opera. */\n",
       "        border: none;\n",
       "        /* Needs to be in here for Safari polyfill so background images work as expected. */\n",
       "        background-size: auto;\n",
       "    }\n",
       "    .progress-bar-interrupted, .progress-bar-interrupted::-webkit-progress-bar {\n",
       "        background: #F44336;\n",
       "    }\n",
       "</style>\n"
      ],
      "text/plain": [
       "<IPython.core.display.HTML object>"
      ]
     },
     "metadata": {},
     "output_type": "display_data"
    },
    {
     "data": {
      "text/html": [
       "\n",
       "    <div>\n",
       "      <progress value='16000' class='' max='16000' style='width:300px; height:20px; vertical-align: middle;'></progress>\n",
       "      100.00% [16000/16000 00:31<00:00 Sampling 4 chains, 0 divergences]\n",
       "    </div>\n",
       "    "
      ],
      "text/plain": [
       "<IPython.core.display.HTML object>"
      ]
     },
     "metadata": {},
     "output_type": "display_data"
    },
    {
     "name": "stderr",
     "output_type": "stream",
     "text": [
      "Sampling 4 chains for 2_000 tune and 2_000 draw iterations (8_000 + 8_000 draws total) took 31 seconds.\n",
      "/home1/salman.qasim/Salman_Python_Scripts/SQ_Projects/Bayesian_model_utils.py:142: FutureWarning: In future versions `DataFrame.to_latex` is expected to utilise the base implementation of `Styler.to_latex` for formatting and rendering. The arguments signature may therefore change. It is recommended instead to use `DataFrame.style.to_latex` which also contains additional functionality.\n",
      "  print(results_df.reset_index().to_latex(index=False,\n"
     ]
    },
    {
     "name": "stdout",
     "output_type": "stream",
     "text": [
      "\\begin{tabular}{|c|c|c|c|c|}\n",
      "\\toprule\n",
      "                    index &   mean &    sd &  hdi\\_2.5\\% &  hdi\\_97.5\\% \\\\ \\hline\n",
      "\\midrule\n",
      "                stim[1.0] & -0.054 & 0.060 &    -0.170 &      0.067 \\\\ \\hline\n",
      "          stim\\_hemi[left] & -0.025 & 0.059 &    -0.143 &      0.086 \\\\ \\hline\n",
      "stim:stim\\_hemi[1.0, left] & -0.002 & 0.076 &    -0.151 &      0.148 \\\\ \\hline\n",
      "          stim\\_hemi[left] & -0.025 & 0.059 &    -0.143 &      0.086 \\\\ \\hline\n",
      "stim:stim\\_hemi[1.0, left] & -0.002 & 0.076 &    -0.151 &      0.148 \\\\ \\hline\n",
      "\\bottomrule\n",
      "\\end{tabular}\n",
      "\n"
     ]
    },
    {
     "name": "stderr",
     "output_type": "stream",
     "text": [
      "/home1/salman.qasim/miniconda3/envs/bambi_env/lib/python3.10/site-packages/bambi/models.py:140: SettingWithCopyWarning: \n",
      "A value is trying to be set on a copy of a slice from a DataFrame.\n",
      "Try using .loc[row_indexer,col_indexer] = value instead\n",
      "\n",
      "See the caveats in the documentation: https://pandas.pydata.org/pandas-docs/stable/user_guide/indexing.html#returning-a-view-versus-a-copy\n",
      "  data[obj_cols] = data[obj_cols].apply(lambda x: x.astype(\"category\"))\n",
      "Auto-assigning NUTS sampler...\n",
      "Initializing NUTS using advi+adapt_diag...\n"
     ]
    },
    {
     "data": {
      "text/html": [
       "\n",
       "<style>\n",
       "    /* Turns off some styling */\n",
       "    progress {\n",
       "        /* gets rid of default border in Firefox and Opera. */\n",
       "        border: none;\n",
       "        /* Needs to be in here for Safari polyfill so background images work as expected. */\n",
       "        background-size: auto;\n",
       "    }\n",
       "    .progress-bar-interrupted, .progress-bar-interrupted::-webkit-progress-bar {\n",
       "        background: #F44336;\n",
       "    }\n",
       "</style>\n"
      ],
      "text/plain": [
       "<IPython.core.display.HTML object>"
      ]
     },
     "metadata": {},
     "output_type": "display_data"
    },
    {
     "data": {
      "text/html": [
       "\n",
       "    <div>\n",
       "      <progress value='22143' class='' max='50000' style='width:300px; height:20px; vertical-align: middle;'></progress>\n",
       "      44.29% [22143/50000 00:04<00:05 Average Loss = -49.306]\n",
       "    </div>\n",
       "    "
      ],
      "text/plain": [
       "<IPython.core.display.HTML object>"
      ]
     },
     "metadata": {},
     "output_type": "display_data"
    },
    {
     "name": "stderr",
     "output_type": "stream",
     "text": [
      "Convergence achieved at 22700\n",
      "Interrupted at 22,699 [45%]: Average Loss = 678.64\n",
      "Multiprocess sampling (4 chains in 4 jobs)\n",
      "NUTS: [hfa_diff_sigma, 1|elec_offset, 1|elec_sigma, 1|subj_offset, 1|subj_sigma, stim:stim_hemi, stim_hemi, stim, Intercept]\n"
     ]
    },
    {
     "data": {
      "text/html": [
       "\n",
       "<style>\n",
       "    /* Turns off some styling */\n",
       "    progress {\n",
       "        /* gets rid of default border in Firefox and Opera. */\n",
       "        border: none;\n",
       "        /* Needs to be in here for Safari polyfill so background images work as expected. */\n",
       "        background-size: auto;\n",
       "    }\n",
       "    .progress-bar-interrupted, .progress-bar-interrupted::-webkit-progress-bar {\n",
       "        background: #F44336;\n",
       "    }\n",
       "</style>\n"
      ],
      "text/plain": [
       "<IPython.core.display.HTML object>"
      ]
     },
     "metadata": {},
     "output_type": "display_data"
    },
    {
     "data": {
      "text/html": [
       "\n",
       "    <div>\n",
       "      <progress value='16000' class='' max='16000' style='width:300px; height:20px; vertical-align: middle;'></progress>\n",
       "      100.00% [16000/16000 00:30<00:00 Sampling 4 chains, 0 divergences]\n",
       "    </div>\n",
       "    "
      ],
      "text/plain": [
       "<IPython.core.display.HTML object>"
      ]
     },
     "metadata": {},
     "output_type": "display_data"
    },
    {
     "name": "stderr",
     "output_type": "stream",
     "text": [
      "Sampling 4 chains for 2_000 tune and 2_000 draw iterations (8_000 + 8_000 draws total) took 31 seconds.\n",
      "/home1/salman.qasim/Salman_Python_Scripts/SQ_Projects/Bayesian_model_utils.py:142: FutureWarning: In future versions `DataFrame.to_latex` is expected to utilise the base implementation of `Styler.to_latex` for formatting and rendering. The arguments signature may therefore change. It is recommended instead to use `DataFrame.style.to_latex` which also contains additional functionality.\n",
      "  print(results_df.reset_index().to_latex(index=False,\n"
     ]
    },
    {
     "name": "stdout",
     "output_type": "stream",
     "text": [
      "\\begin{tabular}{|c|c|c|c|c|}\n",
      "\\toprule\n",
      "                    index &   mean &    sd &  hdi\\_2.5\\% &  hdi\\_97.5\\% \\\\ \\hline\n",
      "\\midrule\n",
      "                stim[1.0] & -0.106 & 0.040 &    -0.183 &     -0.029 \\\\ \\hline\n",
      "          stim\\_hemi[left] &  0.007 & 0.038 &    -0.070 &      0.082 \\\\ \\hline\n",
      "stim:stim\\_hemi[1.0, left] &  0.039 & 0.051 &    -0.058 &      0.140 \\\\ \\hline\n",
      "          stim\\_hemi[left] &  0.007 & 0.038 &    -0.070 &      0.082 \\\\ \\hline\n",
      "stim:stim\\_hemi[1.0, left] &  0.039 & 0.051 &    -0.058 &      0.140 \\\\ \\hline\n",
      "\\bottomrule\n",
      "\\end{tabular}\n",
      "\n"
     ]
    }
   ],
   "source": [
    "# Model 5: effect of stimulation on post-pre HFA and also every other power band. \n",
    "\n",
    "# run separate models for stimulation \n",
    "\n",
    "stim_t_test_data = pd.read_csv('/home1/salman.qasim/Salman_Project/FR_Emotion/FR2_stim_allbands_diff_newfilt_600ms_50buff_1f_elec.csv')\n",
    "# stim_t_test_data = stim_t_test_data.drop(columns=['Unnamed: 0'])\n",
    "stim_t_test_data.rename(columns={'sub':'subj'}, inplace=True)\n",
    "stim_t_test_data['elec'] = np.nan\n",
    "stim_t_test_data['elec'] = stim_t_test_data.apply(lambda x: f'{x.subj}_{x.stim_elec}', axis=1)\n",
    "\n",
    "# Set categorical orders \n",
    "\n",
    "cat_type = CategoricalDtype(categories=['MTL', 'Amy', 'Hipp'], ordered=True)\n",
    "stim_t_test_data.stim_reg = stim_t_test_data.stim_reg.astype(cat_type)\n",
    "\n",
    "cat_type = CategoricalDtype(categories=['MTL', 'Amy', 'Hipp'], ordered=True)\n",
    "stim_t_test_data.rec_reg = stim_t_test_data.rec_reg.astype(cat_type)\n",
    "\n",
    "cat_type = CategoricalDtype(categories=['right', 'left'], ordered=True)\n",
    "stim_t_test_data.stim_hemi = stim_t_test_data.stim_hemi.astype(cat_type)\n",
    "\n",
    "cat_type = CategoricalDtype(categories=['right', 'left'], ordered=True)\n",
    "stim_t_test_data.rec_hemi = stim_t_test_data.rec_hemi.astype(cat_type)\n",
    "\n",
    "\n",
    "\n",
    "for sr in ['MTL', 'Hipp']:\n",
    "    for rr in ['MTL', 'Hipp']:\n",
    "        for y in ['theta_diff', 'alpha_diff', 'beta_diff', 'hfa_diff']:\n",
    "\n",
    "            model_df = stim_t_test_data[(stim_t_test_data.stim_reg==sr)]\n",
    "            model_df = model_df[((model_df.rec_reg==rr))]\n",
    "\n",
    "            X = ['stim', 'stim_hemi'] \n",
    "            Intx = ['stim:stim_hemi']\n",
    "\n",
    "            label = (f\"{y}\" + \"_{}\"*len(X)).format(*X)+f'stim_{sr}_rec{rr}'+'_elec_level'\n",
    "\n",
    "            # y = 'beta_diff'\n",
    "            # X = ['stim', 'stim_reg', 'rec_reg', 'stim_hemi', 'rec_hemi'] \n",
    "            # Intx = ['stim:stim_reg',\n",
    "            #         'stim:stim_hemi', \n",
    "            #         'stim:stim_reg:rec_reg',\n",
    "            #         'stim:stim_hemi:rec_hemi']\n",
    "\n",
    "            rand_effect = ['subj', 'elec']\n",
    "            categorical = X\n",
    "\n",
    "            # Drop nan data\n",
    "            model_df = model_df.dropna()\n",
    "\n",
    "            model, results = run_model(model_df, y, X, Intx, rand_effect, rand_slopes=False, categorical=categorical,\n",
    "                     chains=4, cores=4, tune=2000, draws=2000, target_accept=0.99, model_fam='gaussian', return_model=True, label = label)\n",
    "\n"
   ]
  },
  {
   "cell_type": "code",
   "execution_count": 9,
   "id": "350f5874-44e3-40da-a72c-b5ad8e614090",
   "metadata": {},
   "outputs": [
    {
     "name": "stderr",
     "output_type": "stream",
     "text": [
      "/home1/salman.qasim/miniconda3/envs/bambi_env/lib/python3.10/site-packages/bambi/models.py:140: SettingWithCopyWarning: \n",
      "A value is trying to be set on a copy of a slice from a DataFrame.\n",
      "Try using .loc[row_indexer,col_indexer] = value instead\n",
      "\n",
      "See the caveats in the documentation: https://pandas.pydata.org/pandas-docs/stable/user_guide/indexing.html#returning-a-view-versus-a-copy\n",
      "  data[obj_cols] = data[obj_cols].apply(lambda x: x.astype(\"category\"))\n",
      "Auto-assigning NUTS sampler...\n",
      "Initializing NUTS using jitter+adapt_diag...\n",
      "Multiprocess sampling (4 chains in 4 jobs)\n",
      "NUTS: [theta_diff_sigma, 1|elec_offset, 1|elec_sigma, 1|subj_offset, 1|subj_sigma, stim:stim_hemi, stim_hemi, stim, Intercept]\n"
     ]
    },
    {
     "data": {
      "text/html": [
       "\n",
       "<style>\n",
       "    /* Turns off some styling */\n",
       "    progress {\n",
       "        /* gets rid of default border in Firefox and Opera. */\n",
       "        border: none;\n",
       "        /* Needs to be in here for Safari polyfill so background images work as expected. */\n",
       "        background-size: auto;\n",
       "    }\n",
       "    .progress-bar-interrupted, .progress-bar-interrupted::-webkit-progress-bar {\n",
       "        background: #F44336;\n",
       "    }\n",
       "</style>\n"
      ],
      "text/plain": [
       "<IPython.core.display.HTML object>"
      ]
     },
     "metadata": {},
     "output_type": "display_data"
    },
    {
     "data": {
      "text/html": [
       "\n",
       "    <div>\n",
       "      <progress value='14000' class='' max='14000' style='width:300px; height:20px; vertical-align: middle;'></progress>\n",
       "      100.00% [14000/14000 02:24<00:00 Sampling 4 chains, 0 divergences]\n",
       "    </div>\n",
       "    "
      ],
      "text/plain": [
       "<IPython.core.display.HTML object>"
      ]
     },
     "metadata": {},
     "output_type": "display_data"
    },
    {
     "name": "stderr",
     "output_type": "stream",
     "text": [
      "Sampling 4 chains for 2_500 tune and 1_000 draw iterations (10_000 + 4_000 draws total) took 145 seconds.\n",
      "/tmp/2771174.1.jupyter.q/ipykernel_99582/1988870754.py:112: FutureWarning: In future versions `DataFrame.to_latex` is expected to utilise the base implementation of `Styler.to_latex` for formatting and rendering. The arguments signature may therefore change. It is recommended instead to use `DataFrame.style.to_latex` which also contains additional functionality.\n",
      "  print(results_df.reset_index().to_latex(index=False,\n"
     ]
    },
    {
     "name": "stdout",
     "output_type": "stream",
     "text": [
      "\\begin{tabular}{|c|c|c|c|c|}\n",
      "\\toprule\n",
      "                    index &   mean &    sd &  hdi\\_2.5\\% &  hdi\\_97.5\\% \\\\ \\hline\n",
      "\\midrule\n",
      "                stim[1.0] &  0.019 & 0.016 &    -0.014 &      0.050 \\\\ \\hline\n",
      "          stim\\_hemi[left] &  0.009 & 0.017 &    -0.025 &      0.042 \\\\ \\hline\n",
      "stim:stim\\_hemi[1.0, left] & -0.008 & 0.022 &    -0.050 &      0.034 \\\\ \\hline\n",
      "          stim\\_hemi[left] &  0.009 & 0.017 &    -0.025 &      0.042 \\\\ \\hline\n",
      "stim:stim\\_hemi[1.0, left] & -0.008 & 0.022 &    -0.050 &      0.034 \\\\ \\hline\n",
      "\\bottomrule\n",
      "\\end{tabular}\n",
      "\n"
     ]
    },
    {
     "name": "stderr",
     "output_type": "stream",
     "text": [
      "/home1/salman.qasim/miniconda3/envs/bambi_env/lib/python3.10/site-packages/bambi/models.py:140: SettingWithCopyWarning: \n",
      "A value is trying to be set on a copy of a slice from a DataFrame.\n",
      "Try using .loc[row_indexer,col_indexer] = value instead\n",
      "\n",
      "See the caveats in the documentation: https://pandas.pydata.org/pandas-docs/stable/user_guide/indexing.html#returning-a-view-versus-a-copy\n",
      "  data[obj_cols] = data[obj_cols].apply(lambda x: x.astype(\"category\"))\n",
      "Auto-assigning NUTS sampler...\n",
      "Initializing NUTS using jitter+adapt_diag...\n",
      "Multiprocess sampling (4 chains in 4 jobs)\n",
      "NUTS: [alpha_diff_sigma, 1|elec_offset, 1|elec_sigma, 1|subj_offset, 1|subj_sigma, stim:stim_hemi, stim_hemi, stim, Intercept]\n"
     ]
    },
    {
     "data": {
      "text/html": [
       "\n",
       "<style>\n",
       "    /* Turns off some styling */\n",
       "    progress {\n",
       "        /* gets rid of default border in Firefox and Opera. */\n",
       "        border: none;\n",
       "        /* Needs to be in here for Safari polyfill so background images work as expected. */\n",
       "        background-size: auto;\n",
       "    }\n",
       "    .progress-bar-interrupted, .progress-bar-interrupted::-webkit-progress-bar {\n",
       "        background: #F44336;\n",
       "    }\n",
       "</style>\n"
      ],
      "text/plain": [
       "<IPython.core.display.HTML object>"
      ]
     },
     "metadata": {},
     "output_type": "display_data"
    },
    {
     "data": {
      "text/html": [
       "\n",
       "    <div>\n",
       "      <progress value='14000' class='' max='14000' style='width:300px; height:20px; vertical-align: middle;'></progress>\n",
       "      100.00% [14000/14000 02:15<00:00 Sampling 4 chains, 0 divergences]\n",
       "    </div>\n",
       "    "
      ],
      "text/plain": [
       "<IPython.core.display.HTML object>"
      ]
     },
     "metadata": {},
     "output_type": "display_data"
    },
    {
     "name": "stderr",
     "output_type": "stream",
     "text": [
      "Sampling 4 chains for 2_500 tune and 1_000 draw iterations (10_000 + 4_000 draws total) took 136 seconds.\n",
      "/tmp/2771174.1.jupyter.q/ipykernel_99582/1988870754.py:112: FutureWarning: In future versions `DataFrame.to_latex` is expected to utilise the base implementation of `Styler.to_latex` for formatting and rendering. The arguments signature may therefore change. It is recommended instead to use `DataFrame.style.to_latex` which also contains additional functionality.\n",
      "  print(results_df.reset_index().to_latex(index=False,\n"
     ]
    },
    {
     "name": "stdout",
     "output_type": "stream",
     "text": [
      "\\begin{tabular}{|c|c|c|c|c|}\n",
      "\\toprule\n",
      "                    index &   mean &    sd &  hdi\\_2.5\\% &  hdi\\_97.5\\% \\\\ \\hline\n",
      "\\midrule\n",
      "                stim[1.0] & -0.060 & 0.061 &    -0.184 &      0.057 \\\\ \\hline\n",
      "          stim\\_hemi[left] & -0.010 & 0.063 &    -0.129 &      0.114 \\\\ \\hline\n",
      "stim:stim\\_hemi[1.0, left] &  0.044 & 0.081 &    -0.123 &      0.196 \\\\ \\hline\n",
      "          stim\\_hemi[left] & -0.010 & 0.063 &    -0.129 &      0.114 \\\\ \\hline\n",
      "stim:stim\\_hemi[1.0, left] &  0.044 & 0.081 &    -0.123 &      0.196 \\\\ \\hline\n",
      "\\bottomrule\n",
      "\\end{tabular}\n",
      "\n"
     ]
    },
    {
     "name": "stderr",
     "output_type": "stream",
     "text": [
      "/home1/salman.qasim/miniconda3/envs/bambi_env/lib/python3.10/site-packages/bambi/models.py:140: SettingWithCopyWarning: \n",
      "A value is trying to be set on a copy of a slice from a DataFrame.\n",
      "Try using .loc[row_indexer,col_indexer] = value instead\n",
      "\n",
      "See the caveats in the documentation: https://pandas.pydata.org/pandas-docs/stable/user_guide/indexing.html#returning-a-view-versus-a-copy\n",
      "  data[obj_cols] = data[obj_cols].apply(lambda x: x.astype(\"category\"))\n",
      "Auto-assigning NUTS sampler...\n",
      "Initializing NUTS using jitter+adapt_diag...\n",
      "Multiprocess sampling (4 chains in 4 jobs)\n",
      "NUTS: [beta_diff_sigma, 1|elec_offset, 1|elec_sigma, 1|subj_offset, 1|subj_sigma, stim:stim_hemi, stim_hemi, stim, Intercept]\n"
     ]
    },
    {
     "data": {
      "text/html": [
       "\n",
       "<style>\n",
       "    /* Turns off some styling */\n",
       "    progress {\n",
       "        /* gets rid of default border in Firefox and Opera. */\n",
       "        border: none;\n",
       "        /* Needs to be in here for Safari polyfill so background images work as expected. */\n",
       "        background-size: auto;\n",
       "    }\n",
       "    .progress-bar-interrupted, .progress-bar-interrupted::-webkit-progress-bar {\n",
       "        background: #F44336;\n",
       "    }\n",
       "</style>\n"
      ],
      "text/plain": [
       "<IPython.core.display.HTML object>"
      ]
     },
     "metadata": {},
     "output_type": "display_data"
    },
    {
     "data": {
      "text/html": [
       "\n",
       "    <div>\n",
       "      <progress value='14000' class='' max='14000' style='width:300px; height:20px; vertical-align: middle;'></progress>\n",
       "      100.00% [14000/14000 02:04<00:00 Sampling 4 chains, 0 divergences]\n",
       "    </div>\n",
       "    "
      ],
      "text/plain": [
       "<IPython.core.display.HTML object>"
      ]
     },
     "metadata": {},
     "output_type": "display_data"
    },
    {
     "name": "stderr",
     "output_type": "stream",
     "text": [
      "Sampling 4 chains for 2_500 tune and 1_000 draw iterations (10_000 + 4_000 draws total) took 125 seconds.\n",
      "/tmp/2771174.1.jupyter.q/ipykernel_99582/1988870754.py:112: FutureWarning: In future versions `DataFrame.to_latex` is expected to utilise the base implementation of `Styler.to_latex` for formatting and rendering. The arguments signature may therefore change. It is recommended instead to use `DataFrame.style.to_latex` which also contains additional functionality.\n",
      "  print(results_df.reset_index().to_latex(index=False,\n"
     ]
    },
    {
     "name": "stdout",
     "output_type": "stream",
     "text": [
      "\\begin{tabular}{|c|c|c|c|c|}\n",
      "\\toprule\n",
      "                    index &   mean &    sd &  hdi\\_2.5\\% &  hdi\\_97.5\\% \\\\ \\hline\n",
      "\\midrule\n",
      "                stim[1.0] & -0.053 & 0.065 &    -0.185 &      0.068 \\\\ \\hline\n",
      "          stim\\_hemi[left] & -0.011 & 0.066 &    -0.149 &      0.113 \\\\ \\hline\n",
      "stim:stim\\_hemi[1.0, left] & -0.020 & 0.088 &    -0.184 &      0.157 \\\\ \\hline\n",
      "          stim\\_hemi[left] & -0.011 & 0.066 &    -0.149 &      0.113 \\\\ \\hline\n",
      "stim:stim\\_hemi[1.0, left] & -0.020 & 0.088 &    -0.184 &      0.157 \\\\ \\hline\n",
      "\\bottomrule\n",
      "\\end{tabular}\n",
      "\n"
     ]
    }
   ],
   "source": [
    "# Model 5: effect of stimulation on post-pre HFA and also every other power band. \n",
    "\n",
    "# run separate models for stimulation \n",
    "\n",
    "stim_t_test_data = pd.read_csv('/home1/salman.qasim/Salman_Project/FR_Emotion/FR2_stim_allbands_diff_newfilt_600ms_50buff_1f_elec.csv')\n",
    "stim_t_test_data = stim_t_test_data.drop(columns=['Unnamed: 0'])\n",
    "stim_t_test_data.rename(columns={'sub':'subj'}, inplace=True)\n",
    "stim_t_test_data['elec'] = np.nan\n",
    "stim_t_test_data['elec'] = stim_t_test_data.apply(lambda x: f'{x.subj}_{x.stim_elec}', axis=1)\n",
    "\n",
    "# Set categorical orders \n",
    "\n",
    "cat_type = CategoricalDtype(categories=['MTL', 'Amy', 'Hipp'], ordered=True)\n",
    "stim_t_test_data.stim_reg = stim_t_test_data.stim_reg.astype(cat_type)\n",
    "\n",
    "cat_type = CategoricalDtype(categories=['MTL', 'Amy', 'Hipp'], ordered=True)\n",
    "stim_t_test_data.rec_reg = stim_t_test_data.rec_reg.astype(cat_type)\n",
    "\n",
    "cat_type = CategoricalDtype(categories=['MTL', 'Amy', 'Hipp'], ordered=True)\n",
    "stim_t_test_data.rec_reg = stim_t_test_data.rec_reg.astype(cat_type)\n",
    "\n",
    "cat_type = CategoricalDtype(categories=['right', 'left'], ordered=True)\n",
    "stim_t_test_data.stim_hemi = stim_t_test_data.stim_hemi.astype(cat_type)\n",
    "\n",
    "cat_type = CategoricalDtype(categories=['right', 'left'], ordered=True)\n",
    "stim_t_test_data.rec_hemi = stim_t_test_data.rec_hemi.astype(cat_type)\n",
    "\n",
    "\n",
    "\n",
    "for sr in ['Hipp']:\n",
    "    for rr in ['Hipp']:\n",
    "        for y in ['theta_diff', 'alpha_diff', 'beta_diff']:\n",
    "\n",
    "            model_df = stim_t_test_data[(stim_t_test_data.stim_reg==sr)]\n",
    "            model_df = model_df[((model_df.rec_reg==rr))]\n",
    "\n",
    "            X = ['stim', 'stim_hemi'] \n",
    "            Intx = ['stim:stim_hemi']\n",
    "\n",
    "            label = (f\"{y}\" + \"_{}\"*len(X)).format(*X)+f'stim_{sr}_rec{rr}'+'_elec_level'\n",
    "\n",
    "            # y = 'beta_diff'\n",
    "            # X = ['stim', 'stim_reg', 'rec_reg', 'stim_hemi', 'rec_hemi'] \n",
    "            # Intx = ['stim:stim_reg',\n",
    "            #         'stim:stim_hemi', \n",
    "            #         'stim:stim_reg:rec_reg',\n",
    "            #         'stim:stim_hemi:rec_hemi']\n",
    "\n",
    "            rand_effect = ['subj', 'elec']\n",
    "            categorical = X\n",
    "\n",
    "            # Drop nan data\n",
    "            model_df = model_df.dropna()\n",
    "\n",
    "            model, results = run_model(model_df, y, X, Intx, rand_effect, rand_slopes=False, categorical=categorical,\n",
    "                     chains=4, cores=4, tune=2500, draws=1000, target_accept=0.993, model_fam='gaussian', return_model=True, label = label)\n",
    "\n"
   ]
  },
  {
   "cell_type": "code",
   "execution_count": 30,
   "id": "45eca296-eedd-4ee1-b0c3-0c77e0834a47",
   "metadata": {},
   "outputs": [],
   "source": [
    "sr = 'MTL'\n",
    "rr= 'Hipp'\n",
    "model_df = stim_t_test_data[(stim_t_test_data.stim_reg==sr)]\n",
    "model_df = model_df[(model_df.rec_reg==rr) | (model_df.rec_reg=='Amy')]\n"
   ]
  },
  {
   "cell_type": "code",
   "execution_count": 31,
   "id": "be67b6bf-7575-43c4-b12e-e3a68a9350ad",
   "metadata": {},
   "outputs": [
    {
     "data": {
      "text/html": [
       "<div>\n",
       "<style scoped>\n",
       "    .dataframe tbody tr th:only-of-type {\n",
       "        vertical-align: middle;\n",
       "    }\n",
       "\n",
       "    .dataframe tbody tr th {\n",
       "        vertical-align: top;\n",
       "    }\n",
       "\n",
       "    .dataframe thead th {\n",
       "        text-align: right;\n",
       "    }\n",
       "</style>\n",
       "<table border=\"1\" class=\"dataframe\">\n",
       "  <thead>\n",
       "    <tr style=\"text-align: right;\">\n",
       "      <th></th>\n",
       "      <th>alpha_diff</th>\n",
       "      <th>beta_diff</th>\n",
       "      <th>elec_num</th>\n",
       "      <th>hfa_diff</th>\n",
       "      <th>hgamma_diff</th>\n",
       "      <th>lgamma_diff</th>\n",
       "      <th>rec_hemi</th>\n",
       "      <th>rec_reg</th>\n",
       "      <th>stim</th>\n",
       "      <th>stim_avgy</th>\n",
       "      <th>stim_elec</th>\n",
       "      <th>stim_hemi</th>\n",
       "      <th>stim_reg</th>\n",
       "      <th>subj</th>\n",
       "      <th>theta_diff</th>\n",
       "      <th>elec</th>\n",
       "    </tr>\n",
       "  </thead>\n",
       "  <tbody>\n",
       "    <tr>\n",
       "      <th>162</th>\n",
       "      <td>0.001524</td>\n",
       "      <td>-0.148445</td>\n",
       "      <td>0.0</td>\n",
       "      <td>-0.012484</td>\n",
       "      <td>0.096387</td>\n",
       "      <td>-0.121355</td>\n",
       "      <td>left</td>\n",
       "      <td>Hipp</td>\n",
       "      <td>0.0</td>\n",
       "      <td>-16.450</td>\n",
       "      <td>('LB2', 'LB3')</td>\n",
       "      <td>left</td>\n",
       "      <td>MTL</td>\n",
       "      <td>R1027J</td>\n",
       "      <td>0.042002</td>\n",
       "      <td>R1027J_('LB2', 'LB3')</td>\n",
       "    </tr>\n",
       "    <tr>\n",
       "      <th>163</th>\n",
       "      <td>NaN</td>\n",
       "      <td>NaN</td>\n",
       "      <td>0.0</td>\n",
       "      <td>NaN</td>\n",
       "      <td>NaN</td>\n",
       "      <td>NaN</td>\n",
       "      <td>left</td>\n",
       "      <td>Hipp</td>\n",
       "      <td>1.0</td>\n",
       "      <td>-16.450</td>\n",
       "      <td>('LB2', 'LB3')</td>\n",
       "      <td>left</td>\n",
       "      <td>MTL</td>\n",
       "      <td>R1027J</td>\n",
       "      <td>NaN</td>\n",
       "      <td>R1027J_('LB2', 'LB3')</td>\n",
       "    </tr>\n",
       "    <tr>\n",
       "      <th>164</th>\n",
       "      <td>0.006402</td>\n",
       "      <td>0.018446</td>\n",
       "      <td>1.0</td>\n",
       "      <td>0.004028</td>\n",
       "      <td>0.002725</td>\n",
       "      <td>0.005331</td>\n",
       "      <td>left</td>\n",
       "      <td>Hipp</td>\n",
       "      <td>0.0</td>\n",
       "      <td>-16.450</td>\n",
       "      <td>('LB2', 'LB3')</td>\n",
       "      <td>left</td>\n",
       "      <td>MTL</td>\n",
       "      <td>R1027J</td>\n",
       "      <td>-0.000223</td>\n",
       "      <td>R1027J_('LB2', 'LB3')</td>\n",
       "    </tr>\n",
       "    <tr>\n",
       "      <th>165</th>\n",
       "      <td>0.065569</td>\n",
       "      <td>-0.021388</td>\n",
       "      <td>1.0</td>\n",
       "      <td>-0.010719</td>\n",
       "      <td>-0.018781</td>\n",
       "      <td>-0.002658</td>\n",
       "      <td>left</td>\n",
       "      <td>Hipp</td>\n",
       "      <td>1.0</td>\n",
       "      <td>-16.450</td>\n",
       "      <td>('LB2', 'LB3')</td>\n",
       "      <td>left</td>\n",
       "      <td>MTL</td>\n",
       "      <td>R1027J</td>\n",
       "      <td>-0.008240</td>\n",
       "      <td>R1027J_('LB2', 'LB3')</td>\n",
       "    </tr>\n",
       "    <tr>\n",
       "      <th>166</th>\n",
       "      <td>-0.019729</td>\n",
       "      <td>0.025132</td>\n",
       "      <td>0.0</td>\n",
       "      <td>-0.002261</td>\n",
       "      <td>-0.014159</td>\n",
       "      <td>0.009638</td>\n",
       "      <td>left</td>\n",
       "      <td>Amy</td>\n",
       "      <td>0.0</td>\n",
       "      <td>-16.450</td>\n",
       "      <td>('LB2', 'LB3')</td>\n",
       "      <td>left</td>\n",
       "      <td>MTL</td>\n",
       "      <td>R1027J</td>\n",
       "      <td>0.007205</td>\n",
       "      <td>R1027J_('LB2', 'LB3')</td>\n",
       "    </tr>\n",
       "    <tr>\n",
       "      <th>167</th>\n",
       "      <td>0.001083</td>\n",
       "      <td>0.007549</td>\n",
       "      <td>0.0</td>\n",
       "      <td>-0.014587</td>\n",
       "      <td>-0.031349</td>\n",
       "      <td>0.002176</td>\n",
       "      <td>left</td>\n",
       "      <td>Amy</td>\n",
       "      <td>1.0</td>\n",
       "      <td>-16.450</td>\n",
       "      <td>('LB2', 'LB3')</td>\n",
       "      <td>left</td>\n",
       "      <td>MTL</td>\n",
       "      <td>R1027J</td>\n",
       "      <td>0.004483</td>\n",
       "      <td>R1027J_('LB2', 'LB3')</td>\n",
       "    </tr>\n",
       "    <tr>\n",
       "      <th>168</th>\n",
       "      <td>0.009384</td>\n",
       "      <td>0.002025</td>\n",
       "      <td>1.0</td>\n",
       "      <td>0.003694</td>\n",
       "      <td>0.004778</td>\n",
       "      <td>0.002610</td>\n",
       "      <td>left</td>\n",
       "      <td>Amy</td>\n",
       "      <td>0.0</td>\n",
       "      <td>-16.450</td>\n",
       "      <td>('LB2', 'LB3')</td>\n",
       "      <td>left</td>\n",
       "      <td>MTL</td>\n",
       "      <td>R1027J</td>\n",
       "      <td>0.000550</td>\n",
       "      <td>R1027J_('LB2', 'LB3')</td>\n",
       "    </tr>\n",
       "    <tr>\n",
       "      <th>169</th>\n",
       "      <td>0.022605</td>\n",
       "      <td>0.055793</td>\n",
       "      <td>1.0</td>\n",
       "      <td>-0.031935</td>\n",
       "      <td>-0.064869</td>\n",
       "      <td>0.001000</td>\n",
       "      <td>left</td>\n",
       "      <td>Amy</td>\n",
       "      <td>1.0</td>\n",
       "      <td>-16.450</td>\n",
       "      <td>('LB2', 'LB3')</td>\n",
       "      <td>left</td>\n",
       "      <td>MTL</td>\n",
       "      <td>R1027J</td>\n",
       "      <td>-0.010794</td>\n",
       "      <td>R1027J_('LB2', 'LB3')</td>\n",
       "    </tr>\n",
       "    <tr>\n",
       "      <th>170</th>\n",
       "      <td>0.020466</td>\n",
       "      <td>0.009086</td>\n",
       "      <td>2.0</td>\n",
       "      <td>-0.001646</td>\n",
       "      <td>-0.008387</td>\n",
       "      <td>0.005094</td>\n",
       "      <td>left</td>\n",
       "      <td>Amy</td>\n",
       "      <td>0.0</td>\n",
       "      <td>-16.450</td>\n",
       "      <td>('LB2', 'LB3')</td>\n",
       "      <td>left</td>\n",
       "      <td>MTL</td>\n",
       "      <td>R1027J</td>\n",
       "      <td>0.012791</td>\n",
       "      <td>R1027J_('LB2', 'LB3')</td>\n",
       "    </tr>\n",
       "    <tr>\n",
       "      <th>171</th>\n",
       "      <td>-0.010342</td>\n",
       "      <td>0.015988</td>\n",
       "      <td>2.0</td>\n",
       "      <td>-0.018126</td>\n",
       "      <td>-0.026891</td>\n",
       "      <td>-0.009361</td>\n",
       "      <td>left</td>\n",
       "      <td>Amy</td>\n",
       "      <td>1.0</td>\n",
       "      <td>-16.450</td>\n",
       "      <td>('LB2', 'LB3')</td>\n",
       "      <td>left</td>\n",
       "      <td>MTL</td>\n",
       "      <td>R1027J</td>\n",
       "      <td>-0.004766</td>\n",
       "      <td>R1027J_('LB2', 'LB3')</td>\n",
       "    </tr>\n",
       "    <tr>\n",
       "      <th>176</th>\n",
       "      <td>-0.040341</td>\n",
       "      <td>0.015778</td>\n",
       "      <td>0.0</td>\n",
       "      <td>0.001626</td>\n",
       "      <td>0.017604</td>\n",
       "      <td>-0.014353</td>\n",
       "      <td>left</td>\n",
       "      <td>Hipp</td>\n",
       "      <td>0.0</td>\n",
       "      <td>-24.880</td>\n",
       "      <td>('RTD5', 'RTD6')</td>\n",
       "      <td>right</td>\n",
       "      <td>MTL</td>\n",
       "      <td>R1031M</td>\n",
       "      <td>0.001601</td>\n",
       "      <td>R1031M_('RTD5', 'RTD6')</td>\n",
       "    </tr>\n",
       "    <tr>\n",
       "      <th>177</th>\n",
       "      <td>0.074603</td>\n",
       "      <td>-0.012077</td>\n",
       "      <td>0.0</td>\n",
       "      <td>-0.009106</td>\n",
       "      <td>-0.010739</td>\n",
       "      <td>-0.007473</td>\n",
       "      <td>left</td>\n",
       "      <td>Hipp</td>\n",
       "      <td>1.0</td>\n",
       "      <td>-24.880</td>\n",
       "      <td>('RTD5', 'RTD6')</td>\n",
       "      <td>right</td>\n",
       "      <td>MTL</td>\n",
       "      <td>R1031M</td>\n",
       "      <td>-0.027154</td>\n",
       "      <td>R1031M_('RTD5', 'RTD6')</td>\n",
       "    </tr>\n",
       "    <tr>\n",
       "      <th>178</th>\n",
       "      <td>0.022049</td>\n",
       "      <td>0.014910</td>\n",
       "      <td>1.0</td>\n",
       "      <td>-0.008806</td>\n",
       "      <td>-0.011651</td>\n",
       "      <td>-0.005962</td>\n",
       "      <td>left</td>\n",
       "      <td>Hipp</td>\n",
       "      <td>0.0</td>\n",
       "      <td>-24.880</td>\n",
       "      <td>('RTD5', 'RTD6')</td>\n",
       "      <td>right</td>\n",
       "      <td>MTL</td>\n",
       "      <td>R1031M</td>\n",
       "      <td>0.003580</td>\n",
       "      <td>R1031M_('RTD5', 'RTD6')</td>\n",
       "    </tr>\n",
       "    <tr>\n",
       "      <th>179</th>\n",
       "      <td>0.023213</td>\n",
       "      <td>-0.064943</td>\n",
       "      <td>1.0</td>\n",
       "      <td>0.000579</td>\n",
       "      <td>0.010142</td>\n",
       "      <td>-0.008984</td>\n",
       "      <td>left</td>\n",
       "      <td>Hipp</td>\n",
       "      <td>1.0</td>\n",
       "      <td>-24.880</td>\n",
       "      <td>('RTD5', 'RTD6')</td>\n",
       "      <td>right</td>\n",
       "      <td>MTL</td>\n",
       "      <td>R1031M</td>\n",
       "      <td>-0.002363</td>\n",
       "      <td>R1031M_('RTD5', 'RTD6')</td>\n",
       "    </tr>\n",
       "    <tr>\n",
       "      <th>180</th>\n",
       "      <td>0.053050</td>\n",
       "      <td>0.022171</td>\n",
       "      <td>0.0</td>\n",
       "      <td>-0.005114</td>\n",
       "      <td>-0.007989</td>\n",
       "      <td>-0.002239</td>\n",
       "      <td>left</td>\n",
       "      <td>Amy</td>\n",
       "      <td>0.0</td>\n",
       "      <td>-24.880</td>\n",
       "      <td>('RTD5', 'RTD6')</td>\n",
       "      <td>right</td>\n",
       "      <td>MTL</td>\n",
       "      <td>R1031M</td>\n",
       "      <td>-0.000909</td>\n",
       "      <td>R1031M_('RTD5', 'RTD6')</td>\n",
       "    </tr>\n",
       "    <tr>\n",
       "      <th>181</th>\n",
       "      <td>-0.012169</td>\n",
       "      <td>-0.040270</td>\n",
       "      <td>0.0</td>\n",
       "      <td>-0.008531</td>\n",
       "      <td>0.000424</td>\n",
       "      <td>-0.017486</td>\n",
       "      <td>left</td>\n",
       "      <td>Amy</td>\n",
       "      <td>1.0</td>\n",
       "      <td>-24.880</td>\n",
       "      <td>('RTD5', 'RTD6')</td>\n",
       "      <td>right</td>\n",
       "      <td>MTL</td>\n",
       "      <td>R1031M</td>\n",
       "      <td>0.004461</td>\n",
       "      <td>R1031M_('RTD5', 'RTD6')</td>\n",
       "    </tr>\n",
       "    <tr>\n",
       "      <th>190</th>\n",
       "      <td>-0.015962</td>\n",
       "      <td>0.049302</td>\n",
       "      <td>0.0</td>\n",
       "      <td>-0.017916</td>\n",
       "      <td>-0.025760</td>\n",
       "      <td>-0.010073</td>\n",
       "      <td>left</td>\n",
       "      <td>Hipp</td>\n",
       "      <td>0.0</td>\n",
       "      <td>-8.790</td>\n",
       "      <td>('LD2', 'LD3')</td>\n",
       "      <td>left</td>\n",
       "      <td>MTL</td>\n",
       "      <td>R1035M</td>\n",
       "      <td>-0.005790</td>\n",
       "      <td>R1035M_('LD2', 'LD3')</td>\n",
       "    </tr>\n",
       "    <tr>\n",
       "      <th>191</th>\n",
       "      <td>0.001935</td>\n",
       "      <td>-0.015912</td>\n",
       "      <td>0.0</td>\n",
       "      <td>-0.011278</td>\n",
       "      <td>-0.000601</td>\n",
       "      <td>-0.021955</td>\n",
       "      <td>left</td>\n",
       "      <td>Hipp</td>\n",
       "      <td>1.0</td>\n",
       "      <td>-8.790</td>\n",
       "      <td>('LD2', 'LD3')</td>\n",
       "      <td>left</td>\n",
       "      <td>MTL</td>\n",
       "      <td>R1035M</td>\n",
       "      <td>0.004757</td>\n",
       "      <td>R1035M_('LD2', 'LD3')</td>\n",
       "    </tr>\n",
       "    <tr>\n",
       "      <th>192</th>\n",
       "      <td>0.127951</td>\n",
       "      <td>0.059891</td>\n",
       "      <td>1.0</td>\n",
       "      <td>-0.015327</td>\n",
       "      <td>-0.041568</td>\n",
       "      <td>0.010913</td>\n",
       "      <td>left</td>\n",
       "      <td>Hipp</td>\n",
       "      <td>0.0</td>\n",
       "      <td>-8.790</td>\n",
       "      <td>('LD2', 'LD3')</td>\n",
       "      <td>left</td>\n",
       "      <td>MTL</td>\n",
       "      <td>R1035M</td>\n",
       "      <td>-0.017847</td>\n",
       "      <td>R1035M_('LD2', 'LD3')</td>\n",
       "    </tr>\n",
       "    <tr>\n",
       "      <th>193</th>\n",
       "      <td>-0.103856</td>\n",
       "      <td>-0.028245</td>\n",
       "      <td>1.0</td>\n",
       "      <td>0.004882</td>\n",
       "      <td>-0.010428</td>\n",
       "      <td>0.020192</td>\n",
       "      <td>left</td>\n",
       "      <td>Hipp</td>\n",
       "      <td>1.0</td>\n",
       "      <td>-8.790</td>\n",
       "      <td>('LD2', 'LD3')</td>\n",
       "      <td>left</td>\n",
       "      <td>MTL</td>\n",
       "      <td>R1035M</td>\n",
       "      <td>0.024308</td>\n",
       "      <td>R1035M_('LD2', 'LD3')</td>\n",
       "    </tr>\n",
       "    <tr>\n",
       "      <th>202</th>\n",
       "      <td>0.019670</td>\n",
       "      <td>0.014813</td>\n",
       "      <td>0.0</td>\n",
       "      <td>0.003971</td>\n",
       "      <td>-0.030758</td>\n",
       "      <td>0.038701</td>\n",
       "      <td>right</td>\n",
       "      <td>Hipp</td>\n",
       "      <td>0.0</td>\n",
       "      <td>-34.265</td>\n",
       "      <td>('DRHD4', 'DRHD5')</td>\n",
       "      <td>right</td>\n",
       "      <td>MTL</td>\n",
       "      <td>R1048E</td>\n",
       "      <td>0.001594</td>\n",
       "      <td>R1048E_('DRHD4', 'DRHD5')</td>\n",
       "    </tr>\n",
       "    <tr>\n",
       "      <th>203</th>\n",
       "      <td>-0.050085</td>\n",
       "      <td>-0.026842</td>\n",
       "      <td>0.0</td>\n",
       "      <td>-0.008376</td>\n",
       "      <td>0.010938</td>\n",
       "      <td>-0.027690</td>\n",
       "      <td>right</td>\n",
       "      <td>Hipp</td>\n",
       "      <td>1.0</td>\n",
       "      <td>-34.265</td>\n",
       "      <td>('DRHD4', 'DRHD5')</td>\n",
       "      <td>right</td>\n",
       "      <td>MTL</td>\n",
       "      <td>R1048E</td>\n",
       "      <td>0.012454</td>\n",
       "      <td>R1048E_('DRHD4', 'DRHD5')</td>\n",
       "    </tr>\n",
       "    <tr>\n",
       "      <th>204</th>\n",
       "      <td>-0.097307</td>\n",
       "      <td>-0.042169</td>\n",
       "      <td>1.0</td>\n",
       "      <td>0.018813</td>\n",
       "      <td>-0.006398</td>\n",
       "      <td>0.044024</td>\n",
       "      <td>right</td>\n",
       "      <td>Hipp</td>\n",
       "      <td>0.0</td>\n",
       "      <td>-34.265</td>\n",
       "      <td>('DRHD4', 'DRHD5')</td>\n",
       "      <td>right</td>\n",
       "      <td>MTL</td>\n",
       "      <td>R1048E</td>\n",
       "      <td>0.027011</td>\n",
       "      <td>R1048E_('DRHD4', 'DRHD5')</td>\n",
       "    </tr>\n",
       "    <tr>\n",
       "      <th>205</th>\n",
       "      <td>0.086419</td>\n",
       "      <td>0.045875</td>\n",
       "      <td>1.0</td>\n",
       "      <td>-0.036354</td>\n",
       "      <td>-0.017835</td>\n",
       "      <td>-0.054873</td>\n",
       "      <td>right</td>\n",
       "      <td>Hipp</td>\n",
       "      <td>1.0</td>\n",
       "      <td>-34.265</td>\n",
       "      <td>('DRHD4', 'DRHD5')</td>\n",
       "      <td>right</td>\n",
       "      <td>MTL</td>\n",
       "      <td>R1048E</td>\n",
       "      <td>-0.014500</td>\n",
       "      <td>R1048E_('DRHD4', 'DRHD5')</td>\n",
       "    </tr>\n",
       "    <tr>\n",
       "      <th>222</th>\n",
       "      <td>0.016204</td>\n",
       "      <td>0.046043</td>\n",
       "      <td>0.0</td>\n",
       "      <td>-0.012408</td>\n",
       "      <td>-0.023723</td>\n",
       "      <td>-0.001092</td>\n",
       "      <td>right</td>\n",
       "      <td>Hipp</td>\n",
       "      <td>0.0</td>\n",
       "      <td>-13.940</td>\n",
       "      <td>('LAD1', 'LAD2')</td>\n",
       "      <td>left</td>\n",
       "      <td>MTL</td>\n",
       "      <td>R1053M</td>\n",
       "      <td>-0.009851</td>\n",
       "      <td>R1053M_('LAD1', 'LAD2')</td>\n",
       "    </tr>\n",
       "    <tr>\n",
       "      <th>223</th>\n",
       "      <td>0.004540</td>\n",
       "      <td>0.006769</td>\n",
       "      <td>0.0</td>\n",
       "      <td>-0.013931</td>\n",
       "      <td>-0.016032</td>\n",
       "      <td>-0.011830</td>\n",
       "      <td>right</td>\n",
       "      <td>Hipp</td>\n",
       "      <td>1.0</td>\n",
       "      <td>-13.940</td>\n",
       "      <td>('LAD1', 'LAD2')</td>\n",
       "      <td>left</td>\n",
       "      <td>MTL</td>\n",
       "      <td>R1053M</td>\n",
       "      <td>0.019326</td>\n",
       "      <td>R1053M_('LAD1', 'LAD2')</td>\n",
       "    </tr>\n",
       "    <tr>\n",
       "      <th>224</th>\n",
       "      <td>0.107482</td>\n",
       "      <td>0.030328</td>\n",
       "      <td>1.0</td>\n",
       "      <td>-0.004668</td>\n",
       "      <td>-0.005142</td>\n",
       "      <td>-0.004195</td>\n",
       "      <td>right</td>\n",
       "      <td>Hipp</td>\n",
       "      <td>0.0</td>\n",
       "      <td>-13.940</td>\n",
       "      <td>('LAD1', 'LAD2')</td>\n",
       "      <td>left</td>\n",
       "      <td>MTL</td>\n",
       "      <td>R1053M</td>\n",
       "      <td>-0.007712</td>\n",
       "      <td>R1053M_('LAD1', 'LAD2')</td>\n",
       "    </tr>\n",
       "    <tr>\n",
       "      <th>225</th>\n",
       "      <td>-0.042964</td>\n",
       "      <td>-0.063324</td>\n",
       "      <td>1.0</td>\n",
       "      <td>0.000655</td>\n",
       "      <td>-0.015508</td>\n",
       "      <td>0.016818</td>\n",
       "      <td>right</td>\n",
       "      <td>Hipp</td>\n",
       "      <td>1.0</td>\n",
       "      <td>-13.940</td>\n",
       "      <td>('LAD1', 'LAD2')</td>\n",
       "      <td>left</td>\n",
       "      <td>MTL</td>\n",
       "      <td>R1053M</td>\n",
       "      <td>-0.004257</td>\n",
       "      <td>R1053M_('LAD1', 'LAD2')</td>\n",
       "    </tr>\n",
       "    <tr>\n",
       "      <th>226</th>\n",
       "      <td>0.079452</td>\n",
       "      <td>0.001629</td>\n",
       "      <td>2.0</td>\n",
       "      <td>0.001233</td>\n",
       "      <td>-0.004322</td>\n",
       "      <td>0.006787</td>\n",
       "      <td>right</td>\n",
       "      <td>Hipp</td>\n",
       "      <td>0.0</td>\n",
       "      <td>-13.940</td>\n",
       "      <td>('LAD1', 'LAD2')</td>\n",
       "      <td>left</td>\n",
       "      <td>MTL</td>\n",
       "      <td>R1053M</td>\n",
       "      <td>0.000025</td>\n",
       "      <td>R1053M_('LAD1', 'LAD2')</td>\n",
       "    </tr>\n",
       "    <tr>\n",
       "      <th>227</th>\n",
       "      <td>-0.016662</td>\n",
       "      <td>0.047543</td>\n",
       "      <td>2.0</td>\n",
       "      <td>-0.027863</td>\n",
       "      <td>-0.017469</td>\n",
       "      <td>-0.038257</td>\n",
       "      <td>right</td>\n",
       "      <td>Hipp</td>\n",
       "      <td>1.0</td>\n",
       "      <td>-13.940</td>\n",
       "      <td>('LAD1', 'LAD2')</td>\n",
       "      <td>left</td>\n",
       "      <td>MTL</td>\n",
       "      <td>R1053M</td>\n",
       "      <td>-0.037183</td>\n",
       "      <td>R1053M_('LAD1', 'LAD2')</td>\n",
       "    </tr>\n",
       "    <tr>\n",
       "      <th>320</th>\n",
       "      <td>-0.009927</td>\n",
       "      <td>0.021539</td>\n",
       "      <td>0.0</td>\n",
       "      <td>-0.009782</td>\n",
       "      <td>-0.012498</td>\n",
       "      <td>-0.007067</td>\n",
       "      <td>left</td>\n",
       "      <td>Hipp</td>\n",
       "      <td>0.0</td>\n",
       "      <td>-16.155</td>\n",
       "      <td>('RTD4', 'RTD5')</td>\n",
       "      <td>right</td>\n",
       "      <td>MTL</td>\n",
       "      <td>R1031M</td>\n",
       "      <td>-0.016131</td>\n",
       "      <td>R1031M_('RTD4', 'RTD5')</td>\n",
       "    </tr>\n",
       "    <tr>\n",
       "      <th>321</th>\n",
       "      <td>0.032307</td>\n",
       "      <td>0.006890</td>\n",
       "      <td>0.0</td>\n",
       "      <td>-0.015683</td>\n",
       "      <td>-0.041758</td>\n",
       "      <td>0.010392</td>\n",
       "      <td>left</td>\n",
       "      <td>Hipp</td>\n",
       "      <td>1.0</td>\n",
       "      <td>-16.155</td>\n",
       "      <td>('RTD4', 'RTD5')</td>\n",
       "      <td>right</td>\n",
       "      <td>MTL</td>\n",
       "      <td>R1031M</td>\n",
       "      <td>0.012811</td>\n",
       "      <td>R1031M_('RTD4', 'RTD5')</td>\n",
       "    </tr>\n",
       "    <tr>\n",
       "      <th>322</th>\n",
       "      <td>0.019975</td>\n",
       "      <td>-0.000460</td>\n",
       "      <td>1.0</td>\n",
       "      <td>0.004226</td>\n",
       "      <td>-0.002420</td>\n",
       "      <td>0.010873</td>\n",
       "      <td>left</td>\n",
       "      <td>Hipp</td>\n",
       "      <td>0.0</td>\n",
       "      <td>-16.155</td>\n",
       "      <td>('RTD4', 'RTD5')</td>\n",
       "      <td>right</td>\n",
       "      <td>MTL</td>\n",
       "      <td>R1031M</td>\n",
       "      <td>-0.012680</td>\n",
       "      <td>R1031M_('RTD4', 'RTD5')</td>\n",
       "    </tr>\n",
       "    <tr>\n",
       "      <th>323</th>\n",
       "      <td>0.043411</td>\n",
       "      <td>0.036849</td>\n",
       "      <td>1.0</td>\n",
       "      <td>-0.029210</td>\n",
       "      <td>-0.034980</td>\n",
       "      <td>-0.023441</td>\n",
       "      <td>left</td>\n",
       "      <td>Hipp</td>\n",
       "      <td>1.0</td>\n",
       "      <td>-16.155</td>\n",
       "      <td>('RTD4', 'RTD5')</td>\n",
       "      <td>right</td>\n",
       "      <td>MTL</td>\n",
       "      <td>R1031M</td>\n",
       "      <td>0.002816</td>\n",
       "      <td>R1031M_('RTD4', 'RTD5')</td>\n",
       "    </tr>\n",
       "    <tr>\n",
       "      <th>324</th>\n",
       "      <td>0.021378</td>\n",
       "      <td>0.027610</td>\n",
       "      <td>0.0</td>\n",
       "      <td>-0.004526</td>\n",
       "      <td>-0.024203</td>\n",
       "      <td>0.015150</td>\n",
       "      <td>left</td>\n",
       "      <td>Amy</td>\n",
       "      <td>0.0</td>\n",
       "      <td>-16.155</td>\n",
       "      <td>('RTD4', 'RTD5')</td>\n",
       "      <td>right</td>\n",
       "      <td>MTL</td>\n",
       "      <td>R1031M</td>\n",
       "      <td>-0.040606</td>\n",
       "      <td>R1031M_('RTD4', 'RTD5')</td>\n",
       "    </tr>\n",
       "    <tr>\n",
       "      <th>325</th>\n",
       "      <td>0.075320</td>\n",
       "      <td>0.081771</td>\n",
       "      <td>0.0</td>\n",
       "      <td>-0.036661</td>\n",
       "      <td>-0.048111</td>\n",
       "      <td>-0.025210</td>\n",
       "      <td>left</td>\n",
       "      <td>Amy</td>\n",
       "      <td>1.0</td>\n",
       "      <td>-16.155</td>\n",
       "      <td>('RTD4', 'RTD5')</td>\n",
       "      <td>right</td>\n",
       "      <td>MTL</td>\n",
       "      <td>R1031M</td>\n",
       "      <td>-0.012403</td>\n",
       "      <td>R1031M_('RTD4', 'RTD5')</td>\n",
       "    </tr>\n",
       "  </tbody>\n",
       "</table>\n",
       "</div>"
      ],
      "text/plain": [
       "     alpha_diff  beta_diff  elec_num  hfa_diff  hgamma_diff  lgamma_diff  \\\n",
       "162    0.001524  -0.148445       0.0 -0.012484     0.096387    -0.121355   \n",
       "163         NaN        NaN       0.0       NaN          NaN          NaN   \n",
       "164    0.006402   0.018446       1.0  0.004028     0.002725     0.005331   \n",
       "165    0.065569  -0.021388       1.0 -0.010719    -0.018781    -0.002658   \n",
       "166   -0.019729   0.025132       0.0 -0.002261    -0.014159     0.009638   \n",
       "167    0.001083   0.007549       0.0 -0.014587    -0.031349     0.002176   \n",
       "168    0.009384   0.002025       1.0  0.003694     0.004778     0.002610   \n",
       "169    0.022605   0.055793       1.0 -0.031935    -0.064869     0.001000   \n",
       "170    0.020466   0.009086       2.0 -0.001646    -0.008387     0.005094   \n",
       "171   -0.010342   0.015988       2.0 -0.018126    -0.026891    -0.009361   \n",
       "176   -0.040341   0.015778       0.0  0.001626     0.017604    -0.014353   \n",
       "177    0.074603  -0.012077       0.0 -0.009106    -0.010739    -0.007473   \n",
       "178    0.022049   0.014910       1.0 -0.008806    -0.011651    -0.005962   \n",
       "179    0.023213  -0.064943       1.0  0.000579     0.010142    -0.008984   \n",
       "180    0.053050   0.022171       0.0 -0.005114    -0.007989    -0.002239   \n",
       "181   -0.012169  -0.040270       0.0 -0.008531     0.000424    -0.017486   \n",
       "190   -0.015962   0.049302       0.0 -0.017916    -0.025760    -0.010073   \n",
       "191    0.001935  -0.015912       0.0 -0.011278    -0.000601    -0.021955   \n",
       "192    0.127951   0.059891       1.0 -0.015327    -0.041568     0.010913   \n",
       "193   -0.103856  -0.028245       1.0  0.004882    -0.010428     0.020192   \n",
       "202    0.019670   0.014813       0.0  0.003971    -0.030758     0.038701   \n",
       "203   -0.050085  -0.026842       0.0 -0.008376     0.010938    -0.027690   \n",
       "204   -0.097307  -0.042169       1.0  0.018813    -0.006398     0.044024   \n",
       "205    0.086419   0.045875       1.0 -0.036354    -0.017835    -0.054873   \n",
       "222    0.016204   0.046043       0.0 -0.012408    -0.023723    -0.001092   \n",
       "223    0.004540   0.006769       0.0 -0.013931    -0.016032    -0.011830   \n",
       "224    0.107482   0.030328       1.0 -0.004668    -0.005142    -0.004195   \n",
       "225   -0.042964  -0.063324       1.0  0.000655    -0.015508     0.016818   \n",
       "226    0.079452   0.001629       2.0  0.001233    -0.004322     0.006787   \n",
       "227   -0.016662   0.047543       2.0 -0.027863    -0.017469    -0.038257   \n",
       "320   -0.009927   0.021539       0.0 -0.009782    -0.012498    -0.007067   \n",
       "321    0.032307   0.006890       0.0 -0.015683    -0.041758     0.010392   \n",
       "322    0.019975  -0.000460       1.0  0.004226    -0.002420     0.010873   \n",
       "323    0.043411   0.036849       1.0 -0.029210    -0.034980    -0.023441   \n",
       "324    0.021378   0.027610       0.0 -0.004526    -0.024203     0.015150   \n",
       "325    0.075320   0.081771       0.0 -0.036661    -0.048111    -0.025210   \n",
       "\n",
       "    rec_hemi rec_reg  stim  stim_avgy           stim_elec stim_hemi stim_reg  \\\n",
       "162     left    Hipp   0.0    -16.450      ('LB2', 'LB3')      left      MTL   \n",
       "163     left    Hipp   1.0    -16.450      ('LB2', 'LB3')      left      MTL   \n",
       "164     left    Hipp   0.0    -16.450      ('LB2', 'LB3')      left      MTL   \n",
       "165     left    Hipp   1.0    -16.450      ('LB2', 'LB3')      left      MTL   \n",
       "166     left     Amy   0.0    -16.450      ('LB2', 'LB3')      left      MTL   \n",
       "167     left     Amy   1.0    -16.450      ('LB2', 'LB3')      left      MTL   \n",
       "168     left     Amy   0.0    -16.450      ('LB2', 'LB3')      left      MTL   \n",
       "169     left     Amy   1.0    -16.450      ('LB2', 'LB3')      left      MTL   \n",
       "170     left     Amy   0.0    -16.450      ('LB2', 'LB3')      left      MTL   \n",
       "171     left     Amy   1.0    -16.450      ('LB2', 'LB3')      left      MTL   \n",
       "176     left    Hipp   0.0    -24.880    ('RTD5', 'RTD6')     right      MTL   \n",
       "177     left    Hipp   1.0    -24.880    ('RTD5', 'RTD6')     right      MTL   \n",
       "178     left    Hipp   0.0    -24.880    ('RTD5', 'RTD6')     right      MTL   \n",
       "179     left    Hipp   1.0    -24.880    ('RTD5', 'RTD6')     right      MTL   \n",
       "180     left     Amy   0.0    -24.880    ('RTD5', 'RTD6')     right      MTL   \n",
       "181     left     Amy   1.0    -24.880    ('RTD5', 'RTD6')     right      MTL   \n",
       "190     left    Hipp   0.0     -8.790      ('LD2', 'LD3')      left      MTL   \n",
       "191     left    Hipp   1.0     -8.790      ('LD2', 'LD3')      left      MTL   \n",
       "192     left    Hipp   0.0     -8.790      ('LD2', 'LD3')      left      MTL   \n",
       "193     left    Hipp   1.0     -8.790      ('LD2', 'LD3')      left      MTL   \n",
       "202    right    Hipp   0.0    -34.265  ('DRHD4', 'DRHD5')     right      MTL   \n",
       "203    right    Hipp   1.0    -34.265  ('DRHD4', 'DRHD5')     right      MTL   \n",
       "204    right    Hipp   0.0    -34.265  ('DRHD4', 'DRHD5')     right      MTL   \n",
       "205    right    Hipp   1.0    -34.265  ('DRHD4', 'DRHD5')     right      MTL   \n",
       "222    right    Hipp   0.0    -13.940    ('LAD1', 'LAD2')      left      MTL   \n",
       "223    right    Hipp   1.0    -13.940    ('LAD1', 'LAD2')      left      MTL   \n",
       "224    right    Hipp   0.0    -13.940    ('LAD1', 'LAD2')      left      MTL   \n",
       "225    right    Hipp   1.0    -13.940    ('LAD1', 'LAD2')      left      MTL   \n",
       "226    right    Hipp   0.0    -13.940    ('LAD1', 'LAD2')      left      MTL   \n",
       "227    right    Hipp   1.0    -13.940    ('LAD1', 'LAD2')      left      MTL   \n",
       "320     left    Hipp   0.0    -16.155    ('RTD4', 'RTD5')     right      MTL   \n",
       "321     left    Hipp   1.0    -16.155    ('RTD4', 'RTD5')     right      MTL   \n",
       "322     left    Hipp   0.0    -16.155    ('RTD4', 'RTD5')     right      MTL   \n",
       "323     left    Hipp   1.0    -16.155    ('RTD4', 'RTD5')     right      MTL   \n",
       "324     left     Amy   0.0    -16.155    ('RTD4', 'RTD5')     right      MTL   \n",
       "325     left     Amy   1.0    -16.155    ('RTD4', 'RTD5')     right      MTL   \n",
       "\n",
       "       subj  theta_diff                       elec  \n",
       "162  R1027J    0.042002      R1027J_('LB2', 'LB3')  \n",
       "163  R1027J         NaN      R1027J_('LB2', 'LB3')  \n",
       "164  R1027J   -0.000223      R1027J_('LB2', 'LB3')  \n",
       "165  R1027J   -0.008240      R1027J_('LB2', 'LB3')  \n",
       "166  R1027J    0.007205      R1027J_('LB2', 'LB3')  \n",
       "167  R1027J    0.004483      R1027J_('LB2', 'LB3')  \n",
       "168  R1027J    0.000550      R1027J_('LB2', 'LB3')  \n",
       "169  R1027J   -0.010794      R1027J_('LB2', 'LB3')  \n",
       "170  R1027J    0.012791      R1027J_('LB2', 'LB3')  \n",
       "171  R1027J   -0.004766      R1027J_('LB2', 'LB3')  \n",
       "176  R1031M    0.001601    R1031M_('RTD5', 'RTD6')  \n",
       "177  R1031M   -0.027154    R1031M_('RTD5', 'RTD6')  \n",
       "178  R1031M    0.003580    R1031M_('RTD5', 'RTD6')  \n",
       "179  R1031M   -0.002363    R1031M_('RTD5', 'RTD6')  \n",
       "180  R1031M   -0.000909    R1031M_('RTD5', 'RTD6')  \n",
       "181  R1031M    0.004461    R1031M_('RTD5', 'RTD6')  \n",
       "190  R1035M   -0.005790      R1035M_('LD2', 'LD3')  \n",
       "191  R1035M    0.004757      R1035M_('LD2', 'LD3')  \n",
       "192  R1035M   -0.017847      R1035M_('LD2', 'LD3')  \n",
       "193  R1035M    0.024308      R1035M_('LD2', 'LD3')  \n",
       "202  R1048E    0.001594  R1048E_('DRHD4', 'DRHD5')  \n",
       "203  R1048E    0.012454  R1048E_('DRHD4', 'DRHD5')  \n",
       "204  R1048E    0.027011  R1048E_('DRHD4', 'DRHD5')  \n",
       "205  R1048E   -0.014500  R1048E_('DRHD4', 'DRHD5')  \n",
       "222  R1053M   -0.009851    R1053M_('LAD1', 'LAD2')  \n",
       "223  R1053M    0.019326    R1053M_('LAD1', 'LAD2')  \n",
       "224  R1053M   -0.007712    R1053M_('LAD1', 'LAD2')  \n",
       "225  R1053M   -0.004257    R1053M_('LAD1', 'LAD2')  \n",
       "226  R1053M    0.000025    R1053M_('LAD1', 'LAD2')  \n",
       "227  R1053M   -0.037183    R1053M_('LAD1', 'LAD2')  \n",
       "320  R1031M   -0.016131    R1031M_('RTD4', 'RTD5')  \n",
       "321  R1031M    0.012811    R1031M_('RTD4', 'RTD5')  \n",
       "322  R1031M   -0.012680    R1031M_('RTD4', 'RTD5')  \n",
       "323  R1031M    0.002816    R1031M_('RTD4', 'RTD5')  \n",
       "324  R1031M   -0.040606    R1031M_('RTD4', 'RTD5')  \n",
       "325  R1031M   -0.012403    R1031M_('RTD4', 'RTD5')  "
      ]
     },
     "execution_count": 31,
     "metadata": {},
     "output_type": "execute_result"
    }
   ],
   "source": [
    "model_df"
   ]
  },
  {
   "cell_type": "code",
   "execution_count": 28,
   "id": "62a71602-47cd-4799-abcf-6adcdd6b0a4f",
   "metadata": {},
   "outputs": [],
   "source": [
    "# # Load all the stim models to see what best explains recall performance: \n",
    "# X = ['stim', 'stim_hemi'] \n",
    "# Intx = ['stim',\n",
    "#         'stim:stim_hemi']\n",
    "# # Load each model\n",
    "# models = {}\n",
    "# for sr in ['Hipp']:\n",
    "#     for rr in ['Hipp']:\n",
    "#         for y in ['theta_diff', 'alpha_diff', 'beta_diff', 'hfa_diff']:\n",
    "#             label = (f\"{y}\" + \"_{}\"*len(X)).format(*X)+f'stim_{sr}_rec{rr}_model'\n",
    "#             models[f'{y}_stim_{sr}_rec{rr}'] =  az.from_netcdf(f'/home1/salman.qasim/Salman_Project/FR_Emotion/BayesModels/{label}')\n",
    "        \n",
    "# df_compare = az.compare(models, ic='loo')\n",
    "# plot_df = df_compare.reset_index().rename(columns={'index':'model'})[['model', 'loo']]\n",
    "\n",
    "# c_string = '|c'*plot_df.shape[1] + '|'\n",
    "# print(plot_df.to_latex(index=False, \n",
    "#                                         column_format=c_string).replace(\"\\\\\\n\", \"\\\\ \\hline\\n\"))  \n"
   ]
  },
  {
   "cell_type": "code",
   "execution_count": null,
   "id": "0385bfcb-9c5e-4d8e-8da4-3c646f0994ce",
   "metadata": {},
   "outputs": [],
   "source": [
    "# # Some data wrangling for easy plotting:\n",
    "\n",
    "# # rename cols\n",
    "# stim_t_test_data.rename(columns={'theta_diff': 'theta',\n",
    "#                                 'alpha_diff': 'alpha',\n",
    "#                                 'beta_diff': 'beta', \n",
    "#                                 'lgamma_diff': 'lgamma', \n",
    "#                                 'hgamma_diff': 'hgamma',\n",
    "#                                 'hfa_diff': 'hfa'}, inplace=True)\n",
    "# # melt df\n",
    "# stim_t_test_data = pd.melt(stim_t_test_data,\n",
    "#         id_vars=['sub', 'stim', 'stim_hemi', 'stim_reg', 'rec_reg', 'rec_hemi'], \n",
    "#         value_vars=['theta', 'alpha', 'beta', 'lgamma', 'hgamma', 'hfa']).rename(columns={'variable':'band'})\n",
    "# # plot\n",
    "# sns.catplot(data=stim_t_test_data, row_order=['Hipp', 'MTL', 'Amy'],\n",
    "#             x='band', \n",
    "#             y='value', \n",
    "#             hue='stim',\n",
    "#             col='rec_reg',\n",
    "#             row='stim_reg', \n",
    "#             kind = 'point', \n",
    "#             ci=68)\n",
    "\n",
    "# sns.catplot(data=stim_t_test_data, row_order=['Hipp', 'MTL', 'Amy'],\n",
    "#             x='band', \n",
    "#             y='value', \n",
    "#             hue='stim',\n",
    "#             col='rec_reg',\n",
    "#             row='stim_reg', \n",
    "#             kind = 'point', \n",
    "#             ci=68)\n",
    "# plt.savefig('/home1/salman.qasim/Salman_Project/FR_Emotion/Plots/effect_of_stim_allfreqs.pdf')"
   ]
  },
  {
   "cell_type": "code",
   "execution_count": null,
   "id": "16804898-0fc4-4e97-bee6-2a9d5b239498",
   "metadata": {},
   "outputs": [],
   "source": [
    "# Code for plotting posterior predictive \n",
    "\n",
    "# model.predict(results, kind=\"pps\")\n",
    "# az.plot_ppc(results)"
   ]
  },
  {
   "cell_type": "code",
   "execution_count": 27,
   "id": "fce3cc0e-4710-4a93-8554-5fb185a2f7cc",
   "metadata": {},
   "outputs": [],
   "source": [
    "# Code for saving and loading models\n",
    "\n",
    "# az.to_netcdf(results, '/home1/salman.qasim/Salman_Project/FR_Emotion/BayesModels/test_save')\n",
    "# az.from_netcdf('/home1/salman.qasim/Salman_Project/FR_Emotion/BayesModels/test_save')"
   ]
  },
  {
   "cell_type": "markdown",
   "id": "e6e39343-716a-4505-b16a-e8510952e8b7",
   "metadata": {},
   "source": [
    "Run tonight (4/14): "
   ]
  },
  {
   "cell_type": "code",
   "execution_count": null,
   "id": "b29a1cd6-0321-4e83-8c14-9885402e6ad2",
   "metadata": {},
   "outputs": [],
   "source": [
    "# Model 4: Examine the effect of HFA power and word features on recall. \n",
    "# Note: Since 4/27 I re-ran the power analysis to NOT average each electrode by region and hemisphere\n",
    "# instead I treat electrode like it's own random effect\n",
    "\n",
    "# pow_df = pd.read_csv('/home1/salman.qasim/Salman_Project/FR_Emotion/LM_data_128_30_noIED.csv')\n",
    "pow_df = pd.read_csv('/home1/salman.qasim/Salman_Project/FR_Emotion/LM_data_128_30_ELEC_RESOLVED.csv')\n",
    "pow_df = pow_df.drop(columns=['Unnamed: 0'])\n",
    "\n",
    "# rename the electrodes to properly do the elec random effects \n",
    "pow_df.elec = pow_df.apply(lambda x: f'{x.subj}_{x.elec}', axis=1)\n",
    "\n",
    "# # average across electrodes in a region(subj/region/hemi/ybin) but keep words (arousal/valence/memory) (for speed!)\n",
    "# pow_df = pow_df.groupby(['arousal','valence','subj','region','hemi', 'memory', 'band']).mean().reset_index()\n",
    "\n",
    "# De-mean the valence  \n",
    "pow_df['valence'] = pow_df['valence'] - pow_df['valence'].mean()\n",
    "\n",
    "# Set categorical orders \n",
    "\n",
    "cat_type = CategoricalDtype(categories=['right', 'left'], ordered=True)\n",
    "pow_df.hemi = pow_df.hemi.astype(cat_type)\n",
    "\n",
    "# Let's do separate models for band\n",
    "\n",
    "for band in ['hfa', 'theta']:\n",
    "        \n",
    "    pow_df = pow_df[pow_df.band==band]\n",
    "\n",
    "    y = 'memory'\n",
    "    X = ['arousal', 'valence', 'region', 'power', 'hemi'] \n",
    "    Intx = ['arousal:valence',\n",
    "            'power:arousal', \n",
    "            'power:valence',\n",
    "            'power:hemi',\n",
    "            'power:region',\n",
    "            'power:region:hemi',\n",
    "            'power:arousal:hemi',\n",
    "            'power:valence:hemi',\n",
    "            'power:arousal:valence',\n",
    "            'power:arousal:region', \n",
    "            'power:valence:region']\n",
    "\n",
    "    label = (f\"{y}\" + \"_{}\"*len(X)).format(*X) + f'_{band}' + 'elec_rand_effect'\n",
    "\n",
    "#             'power:hemi:region:arousal',\n",
    "#             'power:hemi:region:CV'\n",
    "    rand_effect = ['subj', 'elec']\n",
    "    categorical = ['hemi', 'region']\n",
    "\n",
    "    # Drop nan data\n",
    "    pow_df = pow_df.dropna(subset=X)\n",
    "\n",
    "    run_model(pow_df, y, X, Intx, rand_effect, rand_slopes=False, categorical=categorical,\n",
    "             chains=4, cores=4, tune=500, draws=1500, label=label, save_model_res=False)"
   ]
  },
  {
   "cell_type": "code",
   "execution_count": null,
   "id": "e5c8813f-9a7f-4458-bfc2-d9b84adaa0f0",
   "metadata": {
    "tags": []
   },
   "outputs": [
    {
     "name": "stderr",
     "output_type": "stream",
     "text": [
      "/home1/salman.qasim/miniconda3/envs/bambi_env/lib/python3.10/site-packages/bambi/models.py:140: SettingWithCopyWarning: \n",
      "A value is trying to be set on a copy of a slice from a DataFrame.\n",
      "Try using .loc[row_indexer,col_indexer] = value instead\n",
      "\n",
      "See the caveats in the documentation: https://pandas.pydata.org/pandas-docs/stable/user_guide/indexing.html#returning-a-view-versus-a-copy\n",
      "  data[obj_cols] = data[obj_cols].apply(lambda x: x.astype(\"category\"))\n",
      "Modeling the probability that memory==1\n",
      "Auto-assigning NUTS sampler...\n",
      "Initializing NUTS using jitter+adapt_diag...\n",
      "Multiprocess sampling (4 chains in 4 jobs)\n",
      "NUTS: [1|elec_offset, 1|elec_sigma, 1|subj_offset, 1|subj_sigma, power:valence:region, power:arousal:region, power:arousal:valence, power:valence:hemi, power:arousal:hemi, power:region:hemi, power:region, power:hemi, power:valence, power:arousal, arousal:valence, region, hemi, power, valence, arousal, Intercept]\n"
     ]
    },
    {
     "data": {
      "text/html": [
       "\n",
       "<style>\n",
       "    /* Turns off some styling */\n",
       "    progress {\n",
       "        /* gets rid of default border in Firefox and Opera. */\n",
       "        border: none;\n",
       "        /* Needs to be in here for Safari polyfill so background images work as expected. */\n",
       "        background-size: auto;\n",
       "    }\n",
       "    .progress-bar-interrupted, .progress-bar-interrupted::-webkit-progress-bar {\n",
       "        background: #F44336;\n",
       "    }\n",
       "</style>\n"
      ],
      "text/plain": [
       "<IPython.core.display.HTML object>"
      ]
     },
     "metadata": {},
     "output_type": "display_data"
    },
    {
     "data": {
      "text/html": [
       "\n",
       "    <div>\n",
       "      <progress value='1510' class='' max='8000' style='width:300px; height:20px; vertical-align: middle;'></progress>\n",
       "      18.88% [1510/8000 23:52<1:42:34 Sampling 4 chains, 0 divergences]\n",
       "    </div>\n",
       "    "
      ],
      "text/plain": [
       "<IPython.core.display.HTML object>"
      ]
     },
     "metadata": {},
     "output_type": "display_data"
    }
   ],
   "source": [
    "# Model 6: Effect of depression and power and arousal on memory and binned valence\n",
    "\n",
    "BeckScores = pd.read_csv('/home1/salman.qasim/Salman_Project/FR_Emotion/Beck_Scores.csv')\n",
    "BeckScores.rename(columns={'Subject Code':'subj'}, inplace=True)\n",
    "BeckScores = BeckScores.drop(columns=['Unnamed: 0'])\n",
    "\n",
    "pow_df_depr = pd.read_csv('/home1/salman.qasim/Salman_Project/FR_Emotion/LM_data_128_30_ELEC_RESOLVED.csv')\n",
    "pow_df_depr = pow_df_depr.drop(columns=['Unnamed: 0'])\n",
    "pow_df_depr = pow_df_depr.merge(BeckScores, on='subj')\n",
    "\n",
    "\n",
    "# rename the electrodes to properly do the elec random effects \n",
    "pow_df_depr.elec = pow_df_depr.apply(lambda x: f'{x.subj}_{x.elec}', axis=1)\n",
    "\n",
    "# Bin the BDI scores (this is ok because of clinical classification). \n",
    "pow_df_depr['CBDI'] = pd.qcut(pow_df_depr['BDI'], q=3,\n",
    "                                                    labels=['low', 'med', 'high'])\n",
    "\n",
    "# Should I get rid of the neutral CBDI? Not in the original analysis.... \n",
    "pow_df_depr = pow_df_depr[pow_df_depr['CBDI']!='med']\n",
    "\n",
    "pow_df_depr['valence'] = pow_df_depr['valence'] - pow_df_depr['valence'].mean()\n",
    "\n",
    "# bins = np.linspace(0,1,4)\n",
    "\n",
    "# pow_df_depr['CV'] = pd.cut(pow_df_depr['valence'], bins=bins,\n",
    "#                                                     labels=['neg', 'neutral', 'pos'])\n",
    "\n",
    "# Set categorical orders \n",
    "# cat_type = CategoricalDtype(categories=['pos', 'neutral', 'neg'], ordered=True)\n",
    "# pow_df_depr.CV = pow_df_depr.CV.astype(cat_type)\n",
    "cat_type = CategoricalDtype(categories=['Amy', 'Hipp'], ordered=True)\n",
    "pow_df_depr.region = pow_df_depr.region.astype(cat_type)\n",
    "cat_type = CategoricalDtype(categories=['low', 'high'], ordered=True)\n",
    "pow_df_depr.CBDI = pow_df_depr.CBDI.astype(cat_type)\n",
    "cat_type = CategoricalDtype(categories=['right', 'left'], ordered=True)\n",
    "pow_df_depr.hemi = pow_df_depr.hemi.astype(cat_type)\n",
    "\n",
    "for depr in ['high', 'low']: # low \n",
    "    for band in ['hfa']: # theta \n",
    "            \n",
    "        model_df = pow_df_depr[pow_df_depr.CBDI==depr]\n",
    "        model_df = model_df[model_df.band==band]\n",
    "        \n",
    "        y = 'memory'\n",
    "        X = ['arousal', 'valence', 'power', 'hemi', 'region'] \n",
    "        Intx = ['arousal:valence',\n",
    "                'power:arousal', \n",
    "                'power:valence',\n",
    "                'power:hemi',\n",
    "                'power:region',\n",
    "                'power:region:hemi',\n",
    "                'power:arousal:hemi',\n",
    "                'power:valence:hemi',\n",
    "                'power:arousal:valence',\n",
    "                'power:arousal:region', \n",
    "                'power:valence:region']\n",
    "#             Intx = ['power:arousal',\n",
    "#                     'power:CV']\n",
    "\n",
    "        rand_effect = ['subj', 'elec']\n",
    "        categorical = ['hemi', 'region']\n",
    "\n",
    "        # Drop nan data\n",
    "        model_df = model_df.dropna(subset=X)\n",
    "        label = (f\"{y}\" + \"_{}\"*len(X)).format(*X) + f'_{band}' + '_elec_rand_effect'+ f'{depr}_BDI'\n",
    "\n",
    "        run_model(model_df, y, X, Intx, rand_effect, rand_slopes=False, categorical=categorical,\n",
    "                 chains=4, cores=4, tune=1000, draws=1000, target_accept=0.8, label=label)\n",
    "            \n",
    "            "
   ]
  },
  {
   "cell_type": "code",
   "execution_count": null,
   "id": "d17df028-ca7a-4b87-a59b-77d484e03e5e",
   "metadata": {},
   "outputs": [],
   "source": [
    "print('done')"
   ]
  },
  {
   "cell_type": "code",
   "execution_count": null,
   "id": "04055cba-ad51-4d32-8413-1ad0936b9553",
   "metadata": {
    "tags": []
   },
   "outputs": [],
   "source": [
    "# Model 6: Effect of depression and power and arousal on memory and linear valence\n",
    "\n",
    "# BeckScores = pd.read_csv('/home1/salman.qasim/Salman_Project/FR_Emotion/Beck_Scores.csv')\n",
    "# BeckScores.rename(columns={'Subject Code':'subj'}, inplace=True)\n",
    "# BeckScores = BeckScores.drop(columns=['Unnamed: 0'])\n",
    "# pow_df_depr = pd.read_csv('/home1/salman.qasim/Salman_Project/FR_Emotion/LM_data_128_30_noIED.csv')\n",
    "# pow_df_depr = pow_df_depr.drop(columns=['Unnamed: 0'])\n",
    "# pow_df_depr = pow_df_depr.merge(BeckScores, on='subj')\n",
    "\n",
    "# for band in ['gamma']:\n",
    "#     pow_df_depr = pow_df_depr[pow_df_depr.band==band]\n",
    "        \n",
    "#     # Set up squared valence \n",
    "#     pow_df_depr['valence'] = pow_df_depr['valence'] - pow_df_depr['valence'].mean()\n",
    "# #     pow_df_depr['valence_squared'] = pow_df_depr['valence']**2\n",
    "    \n",
    "#     # Bin the BDI scores (this is ok because of clinical classification). \n",
    "#     pow_df_depr['CBDI'] = pd.qcut(pow_df_depr['BDI'], q=3,\n",
    "#                                                         labels=['low', 'med', 'high'])\n",
    "#     cat_type = CategoricalDtype(categories=['Amy', 'Hipp'], ordered=True)\n",
    "#     pow_df_depr.region = pow_df_depr.region.astype(cat_type)\n",
    "    \n",
    "#     # Should I get rid of the neutral CBDI? Not in the original analysis.... \n",
    "#     pow_df_depr = pow_df_depr[pow_df_depr['CBDI']!='med']\n",
    "\n",
    "\n",
    "#     cat_type = CategoricalDtype(categories=['low', 'high'], ordered=True)\n",
    "#     pow_df_depr.CBDI = pow_df_depr.CBDI.astype(cat_type)\n",
    "\n",
    "\n",
    "#     y = 'memory'\n",
    "#     X = ['arousal', 'valence', 'region', 'power', 'CBDI'] \n",
    "#     Intx = ['power:arousal', \n",
    "#             'power:valence',\n",
    "#             'power:CBDI',\n",
    "#             'power:region',\n",
    "#             'power:CBDI:valence',\n",
    "#             'power:CBDI:arousal',\n",
    "#             'power:CBDI:region',\n",
    "#             'power:CBDI:region:arousal',\n",
    "#             'power:CBDI:region:valence']\n",
    "    \n",
    "# #             'power:hemi:region:arousal',\n",
    "# #             'power:hemi:region:CV'\n",
    "\n",
    "#     rand_effect = 'subj'\n",
    "#     categorical = ['CBDI', 'region']\n",
    "\n",
    "#     # Drop nan data\n",
    "#     pow_df_depr = pow_df_depr.dropna(subset=X)\n",
    "\n",
    "#     run_model(pow_df_depr, y, X, Intx, rand_effect, rand_slopes=False, categorical=categorical,\n",
    "#              chains=4, cores=4, tune=500, draws=1000)"
   ]
  },
  {
   "cell_type": "code",
   "execution_count": 13,
   "id": "33c12480-103e-4215-a2ae-cbf12ffe01e9",
   "metadata": {},
   "outputs": [],
   "source": [
    "# save out the HDI plot of all the fixed effects\n",
    "band='gamma'\n",
    "output_dir = '/home1/salman.qasim/Salman_Project/FR_Emotion/BayesModels'\n",
    "for region in ['Hipp', 'Amy']: \n",
    "    for depr in ['low', 'high']: \n",
    "        y = 'memory'\n",
    "        X = ['arousal', 'CV', 'power'] \n",
    "        label = (f\"{y}\" + \"_{}\"*len(X)).format(*X) + region + band + f'{depr}_BDI'\n",
    "        results = az.from_netcdf(f'{output_dir}/{label}_model')\n",
    "        axes = az.plot_forest(results,\n",
    "                               kind='ridgeplot',\n",
    "                               var_names=[f'^{x}' for x in X],\n",
    "                               filter_vars=\"regex\",\n",
    "                               colors='lightgray',\n",
    "                               combined=True,\n",
    "                               hdi_prob=0.95,\n",
    "                               figsize=(9, 7))\n",
    "        plt.vlines(0, plt.ylim()[0], plt.ylim()[1], color = 'black')\n",
    "        plt.xlim([-0.4, 0.4])\n",
    "        plt.savefig(join(output_dir, f'{label}_HDIplot.pdf'), dpi=300)\n",
    "        plt.close()"
   ]
  },
  {
   "cell_type": "code",
   "execution_count": null,
   "id": "341d9a35-a965-4006-9f4a-936c124bdd5f",
   "metadata": {},
   "outputs": [],
   "source": []
  }
 ],
 "metadata": {
  "kernelspec": {
   "display_name": "bambi_env",
   "language": "python",
   "name": "bambi_env"
  },
  "language_info": {
   "codemirror_mode": {
    "name": "ipython",
    "version": 3
   },
   "file_extension": ".py",
   "mimetype": "text/x-python",
   "name": "python",
   "nbconvert_exporter": "python",
   "pygments_lexer": "ipython3",
   "version": "3.10.4"
  }
 },
 "nbformat": 4,
 "nbformat_minor": 5
}
