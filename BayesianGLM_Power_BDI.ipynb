{
 "cells": [
  {
   "cell_type": "markdown",
   "id": "9199e51a",
   "metadata": {},
   "source": [
    "# Bayesian analysis of emotion-mediated memory as a function of power and depression"
   ]
  },
  {
   "cell_type": "code",
   "execution_count": null,
   "id": "f89f70c3-f2ac-49d9-93d0-6b592fea3dc6",
   "metadata": {},
   "outputs": [],
   "source": [
    "import arviz as az\n",
    "import bambi as bmb\n",
    "import argparse\n",
    "from os.path import join\n",
    "import pandas as pd\n",
    "from pandas.api.types import CategoricalDtype\n",
    "import seaborn as sns \n",
    "import numpy as np\n",
    "import matplotlib.pyplot as plt\n",
    "from matplotlib.backends.backend_pdf import PdfPages\n",
    "from Bayesian_model_utils import run_model, plot_res, print_latex_table, plot_predictions"
   ]
  },
  {
   "cell_type": "code",
   "execution_count": null,
   "id": "e5c8813f-9a7f-4458-bfc2-d9b84adaa0f0",
   "metadata": {
    "tags": []
   },
   "outputs": [],
   "source": [
    "# Model 1: Effect of depression and power and arousal on memory and binned valence\n",
    "\n",
    "BeckScores = pd.read_csv('/home1/salman.qasim/Salman_Project/FR_Emotion/Beck_Scores.csv')\n",
    "BeckScores.rename(columns={'Subject Code':'subj'}, inplace=True)\n",
    "BeckScores = BeckScores.drop(columns=['Unnamed: 0'])\n",
    "\n",
    "pow_df_depr = pd.read_csv('/home1/salman.qasim/Salman_Project/FR_Emotion/final_NHB_power_data_revised.csv', memory_map=True)\n",
    "pow_df_depr = pow_df_depr.merge(BeckScores, on='subj')\n",
    "\n",
    "\n",
    "# rename the electrodes to properly do the elec random effects \n",
    "pow_df_depr.elec = pow_df_depr.apply(lambda x: f'{x.subj}_{x.elec}', axis=1)\n",
    "\n",
    "pow_df_depr['valence'] = pow_df_depr['valence'] - 0.5\n",
    "\n",
    "# Set categorical orders \n",
    "\n",
    "cat_type = CategoricalDtype(categories=['Amy', 'Hipp'], ordered=True)\n",
    "pow_df_depr.region = pow_df_depr.region.astype(cat_type)\n",
    "cat_type = CategoricalDtype(categories=['right', 'left'], ordered=True)\n",
    "pow_df_depr.hemi = pow_df_depr.hemi.astype(cat_type)\n",
    "\n",
    "for band in ['hfa', 'theta']: # theta \n",
    "            \n",
    "    model_df = pow_df_depr[pow_df_depr.band==band]\n",
    "\n",
    "    y = 'memory'\n",
    "    X = ['arousal', 'valence', 'region', 'hemi', 'power', 'BDI'] \n",
    "    \n",
    "    Intx = ['power:arousal', \n",
    "            'power:valence',\n",
    "            'power:hemi',\n",
    "            'power:region',\n",
    "            'power:BDI',\n",
    "            'power:BDI:arousal',\n",
    "            'power:BDI:valence']\n",
    "\n",
    "    rand_effect = ['subj', 'elec']\n",
    "    categorical = ['hemi', 'region']\n",
    "\n",
    "    # Drop nan data\n",
    "    model_df = model_df.dropna(subset=X)\n",
    "    label = (f\"{y}\" + \"_{}\"*len(X)).format(*X) + f'_{band}' + '_elec_rand_effect'+ 'continuousBDI' + '_nosoz'\n",
    "\n",
    "    run_model(model_df, y, X, Intx, rand_effect, rand_slopes=False, categorical=categorical,\n",
    "             chains=4, cores=4, tune=1000, draws=1000, label=label)\n",
    "\n",
    "            "
   ]
  },
  {
   "cell_type": "code",
   "execution_count": null,
   "id": "33c12480-103e-4215-a2ae-cbf12ffe01e9",
   "metadata": {},
   "outputs": [],
   "source": [
    "# save out the HDI plot of all the fixed effects\n",
    "band='gamma'\n",
    "output_dir = '/home1/salman.qasim/Salman_Project/FR_Emotion/BayesModels'\n",
    "for region in ['Hipp', 'Amy']: \n",
    "    for depr in ['low', 'high']: \n",
    "        y = 'memory'\n",
    "        X = ['arousal', 'CV', 'power'] \n",
    "        label = (f\"{y}\" + \"_{}\"*len(X)).format(*X) + region + band + f'{depr}_BDI'\n",
    "        results = az.from_netcdf(f'{output_dir}/{label}_model')\n",
    "        axes = az.plot_forest(results,\n",
    "                               kind='ridgeplot',\n",
    "                               var_names=[f'^{x}' for x in X],\n",
    "                               filter_vars=\"regex\",\n",
    "                               colors='lightgray',\n",
    "                               combined=True,\n",
    "                               hdi_prob=0.95,\n",
    "                               figsize=(9, 7))\n",
    "        plt.vlines(0, plt.ylim()[0], plt.ylim()[1], color = 'black')\n",
    "        plt.xlim([-0.4, 0.4])\n",
    "        plt.savefig(join(output_dir, f'{label}_HDIplot.pdf'), dpi=300)\n",
    "        plt.close()"
   ]
  },
  {
   "cell_type": "code",
   "execution_count": null,
   "id": "341d9a35-a965-4006-9f4a-936c124bdd5f",
   "metadata": {},
   "outputs": [],
   "source": []
  }
 ],
 "metadata": {
  "kernelspec": {
   "display_name": "bambi_env",
   "language": "python",
   "name": "bambi_env"
  },
  "language_info": {
   "codemirror_mode": {
    "name": "ipython",
    "version": 3
   },
   "file_extension": ".py",
   "mimetype": "text/x-python",
   "name": "python",
   "nbconvert_exporter": "python",
   "pygments_lexer": "ipython3",
   "version": "3.10.4"
  }
 },
 "nbformat": 4,
 "nbformat_minor": 5
}
