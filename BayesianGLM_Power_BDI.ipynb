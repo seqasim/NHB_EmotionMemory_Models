{
 "cells": [
  {
   "cell_type": "markdown",
   "id": "89921b81-06ad-4757-8349-56998e1d31b1",
   "metadata": {},
   "source": [
    "This will be my notebook for conducting Bayesian mixed-effects logistic regression for power.\n",
    "\n",
    "I made separate notebooks for this bc it takes forever."
   ]
  },
  {
   "cell_type": "code",
   "execution_count": 1,
   "id": "f89f70c3-f2ac-49d9-93d0-6b592fea3dc6",
   "metadata": {},
   "outputs": [],
   "source": [
    "import arviz as az\n",
    "import bambi as bmb\n",
    "import argparse\n",
    "from os.path import join\n",
    "import pandas as pd\n",
    "from pandas.api.types import CategoricalDtype\n",
    "import seaborn as sns \n",
    "import numpy as np\n",
    "import matplotlib.pyplot as plt\n",
    "from matplotlib.backends.backend_pdf import PdfPages\n",
    "from Bayesian_model_utils import run_model, plot_res, print_latex_table, plot_predictions"
   ]
  },
  {
   "cell_type": "markdown",
   "id": "f6582292-5aaf-4048-827e-07abf2d6408a",
   "metadata": {},
   "source": [
    "Once I am running models I can do model comparison using: \n",
    "\n",
    "https://arviz-devs.github.io/arviz/api/generated/arviz.compare.html\n",
    "and \n",
    "https://arviz-devs.github.io/arviz/api/generated/arviz.plot_compare.html\n",
    "\n",
    "as in: https://bambinos.github.io/bambi/main/notebooks/model_comparison.html?highlight=waic\n"
   ]
  },
  {
   "cell_type": "code",
   "execution_count": 2,
   "id": "583bf564-abfd-43a5-a812-dc7be59ccb79",
   "metadata": {},
   "outputs": [],
   "source": [
    "BeckScores = pd.read_csv('/home1/salman.qasim/Salman_Project/FR_Emotion/Beck_Scores.csv')\n",
    "BeckScores.rename(columns={'Subject Code':'subj'}, inplace=True)\n",
    "BeckScores = BeckScores.drop(columns=['Unnamed: 0'])\n",
    "\n",
    "pow_df_depr = pd.read_csv('/home1/salman.qasim/Salman_Project/FR_Emotion/final_NHB_power_data_revised.csv', memory_map=True)\n",
    "\n",
    "\n",
    "pow_df_depr = pow_df_depr.drop(columns=['Unnamed: 0'])\n",
    "pow_df_depr = pow_df_depr.merge(BeckScores, on='subj')\n",
    "\n",
    "\n",
    "# rename the electrodes to properly do the elec random effects \n",
    "pow_df_depr.elec = pow_df_depr.apply(lambda x: f'{x.subj}_{x.elec}', axis=1)\n",
    "\n",
    "# Bin the BDI scores (this is ok because of clinical classification). \n",
    "pow_df_depr['CBDI'] = pd.qcut(pow_df_depr['BDI'], q=3,\n",
    "                                                    labels=['low', 'med', 'high'])\n",
    "\n",
    "# Should I get rid of the neutral CBDI? Not in the original analysis.... \n",
    "# pow_df_depr = pow_df_depr[pow_df_depr['CBDI']!='med']\n",
    "\n",
    "pow_df_depr['valence'] = pow_df_depr['valence'] - pow_df_depr['valence'].mean()"
   ]
  },
  {
   "cell_type": "code",
   "execution_count": null,
   "id": "e5c8813f-9a7f-4458-bfc2-d9b84adaa0f0",
   "metadata": {
    "tags": []
   },
   "outputs": [
    {
     "name": "stderr",
     "output_type": "stream",
     "text": [
      "/home1/salman.qasim/miniconda3/envs/bambi_env/lib/python3.10/site-packages/bambi/models.py:140: SettingWithCopyWarning: \n",
      "A value is trying to be set on a copy of a slice from a DataFrame.\n",
      "Try using .loc[row_indexer,col_indexer] = value instead\n",
      "\n",
      "See the caveats in the documentation: https://pandas.pydata.org/pandas-docs/stable/user_guide/indexing.html#returning-a-view-versus-a-copy\n",
      "  data[obj_cols] = data[obj_cols].apply(lambda x: x.astype(\"category\"))\n",
      "Modeling the probability that memory==1\n",
      "Auto-assigning NUTS sampler...\n",
      "Initializing NUTS using advi+adapt_diag...\n"
     ]
    },
    {
     "data": {
      "text/html": [
       "\n",
       "<style>\n",
       "    /* Turns off some styling */\n",
       "    progress {\n",
       "        /* gets rid of default border in Firefox and Opera. */\n",
       "        border: none;\n",
       "        /* Needs to be in here for Safari polyfill so background images work as expected. */\n",
       "        background-size: auto;\n",
       "    }\n",
       "    .progress-bar-interrupted, .progress-bar-interrupted::-webkit-progress-bar {\n",
       "        background: #F44336;\n",
       "    }\n",
       "</style>\n"
      ],
      "text/plain": [
       "<IPython.core.display.HTML object>"
      ]
     },
     "metadata": {},
     "output_type": "display_data"
    },
    {
     "data": {
      "text/html": [
       "\n",
       "    <div>\n",
       "      <progress value='39093' class='' max='50000' style='width:300px; height:20px; vertical-align: middle;'></progress>\n",
       "      78.19% [39093/50000 16:51<04:42 Average Loss = 1.2267e+05]\n",
       "    </div>\n",
       "    "
      ],
      "text/plain": [
       "<IPython.core.display.HTML object>"
      ]
     },
     "metadata": {},
     "output_type": "display_data"
    },
    {
     "name": "stderr",
     "output_type": "stream",
     "text": [
      "Convergence achieved at 39100\n",
      "Interrupted at 39,099 [78%]: Average Loss = 1.8707e+05\n",
      "Multiprocess sampling (4 chains in 4 jobs)\n",
      "NUTS: [1|elec_offset, 1|elec_sigma, 1|subj_offset, 1|subj_sigma, power:BDI:valence, power:BDI:arousal, power:BDI, power:region, power:hemi, power:valence, power:arousal, BDI, power, hemi, region, valence, arousal, Intercept]\n"
     ]
    },
    {
     "data": {
      "text/html": [
       "\n",
       "<style>\n",
       "    /* Turns off some styling */\n",
       "    progress {\n",
       "        /* gets rid of default border in Firefox and Opera. */\n",
       "        border: none;\n",
       "        /* Needs to be in here for Safari polyfill so background images work as expected. */\n",
       "        background-size: auto;\n",
       "    }\n",
       "    .progress-bar-interrupted, .progress-bar-interrupted::-webkit-progress-bar {\n",
       "        background: #F44336;\n",
       "    }\n",
       "</style>\n"
      ],
      "text/plain": [
       "<IPython.core.display.HTML object>"
      ]
     },
     "metadata": {},
     "output_type": "display_data"
    },
    {
     "data": {
      "text/html": [
       "\n",
       "    <div>\n",
       "      <progress value='4041' class='' max='8000' style='width:300px; height:20px; vertical-align: middle;'></progress>\n",
       "      50.51% [4041/8000 2:28:27<2:25:27 Sampling 4 chains, 0 divergences]\n",
       "    </div>\n",
       "    "
      ],
      "text/plain": [
       "<IPython.core.display.HTML object>"
      ]
     },
     "metadata": {},
     "output_type": "display_data"
    }
   ],
   "source": [
    "# Model 6: Effect of depression and power and arousal on memory and binned valence\n",
    "\n",
    "BeckScores = pd.read_csv('/home1/salman.qasim/Salman_Project/FR_Emotion/Beck_Scores.csv')\n",
    "BeckScores.rename(columns={'Subject Code':'subj'}, inplace=True)\n",
    "BeckScores = BeckScores.drop(columns=['Unnamed: 0'])\n",
    "\n",
    "# pow_df_depr = pd.read_csv('/home1/salman.qasim/Salman_Project/FR_Emotion/LM_data_128_30_ELEC_RESOLVED.csv')\n",
    "pow_df_depr = pd.read_csv('/home1/salman.qasim/Salman_Project/FR_Emotion/final_NHB_power_data_revised.csv', memory_map=True)\n",
    "# pow_df_depr = pow_df_depr.drop(columns=['Unnamed: 0'])\n",
    "pow_df_depr = pow_df_depr.merge(BeckScores, on='subj')\n",
    "\n",
    "\n",
    "# rename the electrodes to properly do the elec random effects \n",
    "pow_df_depr.elec = pow_df_depr.apply(lambda x: f'{x.subj}_{x.elec}', axis=1)\n",
    "\n",
    "pow_df_depr['valence'] = pow_df_depr['valence'] - 0.5\n",
    "\n",
    "# Set categorical orders \n",
    "# cat_type = CategoricalDtype(categories=['pos', 'neutral', 'neg'], ordered=True)\n",
    "# pow_df_depr.CV = pow_df_depr.CV.astype(cat_type)\n",
    "cat_type = CategoricalDtype(categories=['Amy', 'Hipp'], ordered=True)\n",
    "pow_df_depr.region = pow_df_depr.region.astype(cat_type)\n",
    "# cat_type = CategoricalDtype(categories=['low', 'high'], ordered=True)\n",
    "# pow_df_depr.CBDI = pow_df_depr.CBDI.astype(cat_type)\n",
    "cat_type = CategoricalDtype(categories=['right', 'left'], ordered=True)\n",
    "pow_df_depr.hemi = pow_df_depr.hemi.astype(cat_type)\n",
    "\n",
    "for band in ['hfa', 'theta']: # theta \n",
    "            \n",
    "#     model_df = pow_df_depr[pow_df_depr.CBDI==depr]\n",
    "    model_df = pow_df_depr[pow_df_depr.band==band]\n",
    "\n",
    "    y = 'memory'\n",
    "    X = ['arousal', 'valence', 'region', 'hemi', 'power', 'BDI'] \n",
    "    \n",
    "    Intx = ['power:arousal', \n",
    "            'power:valence',\n",
    "            'power:hemi',\n",
    "            'power:region',\n",
    "            'power:BDI',\n",
    "            'power:BDI:arousal',\n",
    "            'power:BDI:valence']\n",
    "    \n",
    "    # This is a smaller subset of patients by far. As such, not a lot of room for useless interactions: \n",
    "    #             'power:arousal:valence', 'power:region:hemi'\n",
    "\n",
    "    rand_effect = ['subj', 'elec']\n",
    "    categorical = ['hemi', 'region']\n",
    "\n",
    "    # Drop nan data\n",
    "    model_df = model_df.dropna(subset=X)\n",
    "    label = (f\"{y}\" + \"_{}\"*len(X)).format(*X) + f'_{band}' + '_elec_rand_effect'+ 'continuousBDI' + '_nosoz'\n",
    "\n",
    "    run_model(model_df, y, X, Intx, rand_effect, rand_slopes=False, categorical=categorical,\n",
    "             chains=4, cores=4, tune=1000, draws=1000, label=label)\n",
    "\n",
    "            "
   ]
  },
  {
   "cell_type": "code",
   "execution_count": null,
   "id": "d17df028-ca7a-4b87-a59b-77d484e03e5e",
   "metadata": {},
   "outputs": [],
   "source": [
    "print('done')"
   ]
  },
  {
   "cell_type": "code",
   "execution_count": null,
   "id": "04055cba-ad51-4d32-8413-1ad0936b9553",
   "metadata": {
    "tags": []
   },
   "outputs": [],
   "source": [
    "# Model 6: Effect of depression and power and arousal on memory and linear valence\n",
    "\n",
    "# BeckScores = pd.read_csv('/home1/salman.qasim/Salman_Project/FR_Emotion/Beck_Scores.csv')\n",
    "# BeckScores.rename(columns={'Subject Code':'subj'}, inplace=True)\n",
    "# BeckScores = BeckScores.drop(columns=['Unnamed: 0'])\n",
    "# pow_df_depr = pd.read_csv('/home1/salman.qasim/Salman_Project/FR_Emotion/LM_data_128_30_noIED.csv')\n",
    "# pow_df_depr = pow_df_depr.drop(columns=['Unnamed: 0'])\n",
    "# pow_df_depr = pow_df_depr.merge(BeckScores, on='subj')\n",
    "\n",
    "# for band in ['gamma']:\n",
    "#     pow_df_depr = pow_df_depr[pow_df_depr.band==band]\n",
    "        \n",
    "#     # Set up squared valence \n",
    "#     pow_df_depr['valence'] = pow_df_depr['valence'] - pow_df_depr['valence'].mean()\n",
    "# #     pow_df_depr['valence_squared'] = pow_df_depr['valence']**2\n",
    "    \n",
    "#     # Bin the BDI scores (this is ok because of clinical classification). \n",
    "#     pow_df_depr['CBDI'] = pd.qcut(pow_df_depr['BDI'], q=3,\n",
    "#                                                         labels=['low', 'med', 'high'])\n",
    "#     cat_type = CategoricalDtype(categories=['Amy', 'Hipp'], ordered=True)\n",
    "#     pow_df_depr.region = pow_df_depr.region.astype(cat_type)\n",
    "    \n",
    "#     # Should I get rid of the neutral CBDI? Not in the original analysis.... \n",
    "#     pow_df_depr = pow_df_depr[pow_df_depr['CBDI']!='med']\n",
    "\n",
    "\n",
    "#     cat_type = CategoricalDtype(categories=['low', 'high'], ordered=True)\n",
    "#     pow_df_depr.CBDI = pow_df_depr.CBDI.astype(cat_type)\n",
    "\n",
    "\n",
    "#     y = 'memory'\n",
    "#     X = ['arousal', 'valence', 'region', 'power', 'CBDI'] \n",
    "#     Intx = ['power:arousal', \n",
    "#             'power:valence',\n",
    "#             'power:CBDI',\n",
    "#             'power:region',\n",
    "#             'power:CBDI:valence',\n",
    "#             'power:CBDI:arousal',\n",
    "#             'power:CBDI:region',\n",
    "#             'power:CBDI:region:arousal',\n",
    "#             'power:CBDI:region:valence']\n",
    "    \n",
    "# #             'power:hemi:region:arousal',\n",
    "# #             'power:hemi:region:CV'\n",
    "\n",
    "#     rand_effect = 'subj'\n",
    "#     categorical = ['CBDI', 'region']\n",
    "\n",
    "#     # Drop nan data\n",
    "#     pow_df_depr = pow_df_depr.dropna(subset=X)\n",
    "\n",
    "#     run_model(pow_df_depr, y, X, Intx, rand_effect, rand_slopes=False, categorical=categorical,\n",
    "#              chains=4, cores=4, tune=500, draws=1000)"
   ]
  },
  {
   "cell_type": "code",
   "execution_count": 13,
   "id": "33c12480-103e-4215-a2ae-cbf12ffe01e9",
   "metadata": {},
   "outputs": [],
   "source": [
    "# save out the HDI plot of all the fixed effects\n",
    "band='gamma'\n",
    "output_dir = '/home1/salman.qasim/Salman_Project/FR_Emotion/BayesModels'\n",
    "for region in ['Hipp', 'Amy']: \n",
    "    for depr in ['low', 'high']: \n",
    "        y = 'memory'\n",
    "        X = ['arousal', 'CV', 'power'] \n",
    "        label = (f\"{y}\" + \"_{}\"*len(X)).format(*X) + region + band + f'{depr}_BDI'\n",
    "        results = az.from_netcdf(f'{output_dir}/{label}_model')\n",
    "        axes = az.plot_forest(results,\n",
    "                               kind='ridgeplot',\n",
    "                               var_names=[f'^{x}' for x in X],\n",
    "                               filter_vars=\"regex\",\n",
    "                               colors='lightgray',\n",
    "                               combined=True,\n",
    "                               hdi_prob=0.95,\n",
    "                               figsize=(9, 7))\n",
    "        plt.vlines(0, plt.ylim()[0], plt.ylim()[1], color = 'black')\n",
    "        plt.xlim([-0.4, 0.4])\n",
    "        plt.savefig(join(output_dir, f'{label}_HDIplot.pdf'), dpi=300)\n",
    "        plt.close()"
   ]
  },
  {
   "cell_type": "code",
   "execution_count": null,
   "id": "341d9a35-a965-4006-9f4a-936c124bdd5f",
   "metadata": {},
   "outputs": [],
   "source": []
  }
 ],
 "metadata": {
  "kernelspec": {
   "display_name": "bambi_env",
   "language": "python",
   "name": "bambi_env"
  },
  "language_info": {
   "codemirror_mode": {
    "name": "ipython",
    "version": 3
   },
   "file_extension": ".py",
   "mimetype": "text/x-python",
   "name": "python",
   "nbconvert_exporter": "python",
   "pygments_lexer": "ipython3",
   "version": "3.10.4"
  }
 },
 "nbformat": 4,
 "nbformat_minor": 5
}
