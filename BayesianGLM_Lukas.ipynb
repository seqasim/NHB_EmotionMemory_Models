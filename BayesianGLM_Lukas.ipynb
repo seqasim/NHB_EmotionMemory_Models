{
 "cells": [
  {
   "cell_type": "markdown",
   "id": "89921b81-06ad-4757-8349-56998e1d31b1",
   "metadata": {},
   "source": [
    "This will be my notebook for conducting Bayesian mixed-effects logistic regression for power.\n",
    "\n",
    "I made separate notebooks for this bc it takes forever."
   ]
  },
  {
   "cell_type": "code",
   "execution_count": 2,
   "id": "f89f70c3-f2ac-49d9-93d0-6b592fea3dc6",
   "metadata": {},
   "outputs": [],
   "source": [
    "import arviz as az\n",
    "import bambi as bmb\n",
    "import argparse\n",
    "from os.path import join\n",
    "import pandas as pd\n",
    "from pandas.api.types import CategoricalDtype\n",
    "import seaborn as sns \n",
    "import numpy as np\n",
    "import matplotlib.pyplot as plt\n",
    "from matplotlib.backends.backend_pdf import PdfPages\n",
    "from Bayesian_model_utils import run_model, plot_res, print_latex_table, plot_predictions"
   ]
  },
  {
   "cell_type": "markdown",
   "id": "f6582292-5aaf-4048-827e-07abf2d6408a",
   "metadata": {},
   "source": [
    "Once I am running models I can do model comparison using: \n",
    "\n",
    "https://arviz-devs.github.io/arviz/api/generated/arviz.compare.html\n",
    "and \n",
    "https://arviz-devs.github.io/arviz/api/generated/arviz.plot_compare.html\n",
    "\n",
    "as in: https://bambinos.github.io/bambi/main/notebooks/model_comparison.html?highlight=waic\n"
   ]
  },
  {
   "cell_type": "code",
   "execution_count": 41,
   "id": "40bc447f-8391-4b03-8fab-da3de653deb7",
   "metadata": {},
   "outputs": [
    {
     "name": "stderr",
     "output_type": "stream",
     "text": [
      "Modeling the probability that recall==1\n",
      "Auto-assigning NUTS sampler...\n",
      "Initializing NUTS using advi+adapt_diag...\n"
     ]
    },
    {
     "data": {
      "text/html": [
       "\n",
       "<style>\n",
       "    /* Turns off some styling */\n",
       "    progress {\n",
       "        /* gets rid of default border in Firefox and Opera. */\n",
       "        border: none;\n",
       "        /* Needs to be in here for Safari polyfill so background images work as expected. */\n",
       "        background-size: auto;\n",
       "    }\n",
       "    .progress-bar-interrupted, .progress-bar-interrupted::-webkit-progress-bar {\n",
       "        background: #F44336;\n",
       "    }\n",
       "</style>\n"
      ],
      "text/plain": [
       "<IPython.core.display.HTML object>"
      ]
     },
     "metadata": {},
     "output_type": "display_data"
    },
    {
     "data": {
      "text/html": [
       "\n",
       "    <div>\n",
       "      <progress value='23693' class='' max='50000' style='width:300px; height:20px; vertical-align: middle;'></progress>\n",
       "      47.39% [23693/50000 00:13<00:15 Average Loss = 1,848]\n",
       "    </div>\n",
       "    "
      ],
      "text/plain": [
       "<IPython.core.display.HTML object>"
      ]
     },
     "metadata": {},
     "output_type": "display_data"
    },
    {
     "name": "stderr",
     "output_type": "stream",
     "text": [
      "Convergence achieved at 23900\n",
      "Interrupted at 23,899 [47%]: Average Loss = 3,022.2\n",
      "Multiprocess sampling (4 chains in 4 jobs)\n",
      "NUTS: [1|subj_offset, 1|subj_sigma, Valence_mean:Arousal_mean, Arousal_mean:Category, Valence_mean:Category, Category, Arousal_mean, Valence_mean]\n"
     ]
    },
    {
     "data": {
      "text/html": [
       "\n",
       "<style>\n",
       "    /* Turns off some styling */\n",
       "    progress {\n",
       "        /* gets rid of default border in Firefox and Opera. */\n",
       "        border: none;\n",
       "        /* Needs to be in here for Safari polyfill so background images work as expected. */\n",
       "        background-size: auto;\n",
       "    }\n",
       "    .progress-bar-interrupted, .progress-bar-interrupted::-webkit-progress-bar {\n",
       "        background: #F44336;\n",
       "    }\n",
       "</style>\n"
      ],
      "text/plain": [
       "<IPython.core.display.HTML object>"
      ]
     },
     "metadata": {},
     "output_type": "display_data"
    },
    {
     "data": {
      "text/html": [
       "\n",
       "    <div>\n",
       "      <progress value='8000' class='' max='8000' style='width:300px; height:20px; vertical-align: middle;'></progress>\n",
       "      100.00% [8000/8000 08:29<00:00 Sampling 4 chains, 0 divergences]\n",
       "    </div>\n",
       "    "
      ],
      "text/plain": [
       "<IPython.core.display.HTML object>"
      ]
     },
     "metadata": {},
     "output_type": "display_data"
    },
    {
     "name": "stderr",
     "output_type": "stream",
     "text": [
      "Sampling 4 chains for 1_000 tune and 1_000 draw iterations (4_000 + 4_000 draws total) took 510 seconds.\n",
      "The number of effective samples is smaller than 25% for some parameters.\n",
      "/home1/salman.qasim/Salman_Python_Scripts/SQ_Projects/Bayesian_model_utils.py:142: FutureWarning: In future versions `DataFrame.to_latex` is expected to utilise the base implementation of `Styler.to_latex` for formatting and rendering. The arguments signature may therefore change. It is recommended instead to use `DataFrame.style.to_latex` which also contains additional functionality.\n",
      "  print(results_df.reset_index().to_latex(index=False,\n"
     ]
    },
    {
     "name": "stdout",
     "output_type": "stream",
     "text": [
      "\\begin{tabular}{|c|c|c|c|c|c|c|c|c|c|c|c|c|c|c|}\n",
      "\\toprule\n",
      "                        index &   mean &    sd &  hdi\\_2.5\\% &  hdi\\_97.5\\% \\\\ \\hline\n",
      "\\midrule\n",
      "                 Valence\\_mean &  0.745 & 0.471 &    -0.159 &      1.666 \\\\ \\hline\n",
      "Valence\\_mean:Category[Person] & -0.378 & 0.153 &    -0.683 &     -0.089 \\\\ \\hline\n",
      " Valence\\_mean:Category[Scene] & -0.288 & 0.166 &    -0.605 &      0.047 \\\\ \\hline\n",
      "    Valence\\_mean:Arousal\\_mean & -0.105 & 0.112 &    -0.317 &      0.110 \\\\ \\hline\n",
      "                 Arousal\\_mean &  0.433 & 0.203 &     0.056 &      0.850 \\\\ \\hline\n",
      "Arousal\\_mean:Category[Person] & -0.330 & 0.225 &    -0.768 &      0.102 \\\\ \\hline\n",
      " Arousal\\_mean:Category[Scene] & -0.215 & 0.229 &    -0.658 &      0.230 \\\\ \\hline\n",
      "    Valence\\_mean:Arousal\\_mean & -0.105 & 0.112 &    -0.317 &      0.110 \\\\ \\hline\n",
      "             Category[Animal] & -1.820 & 0.927 &    -3.677 &     -0.041 \\\\ \\hline\n",
      "             Category[Person] & -0.812 & 0.572 &    -1.989 &      0.221 \\\\ \\hline\n",
      "              Category[Scene] & -1.274 & 0.611 &    -2.480 &     -0.100 \\\\ \\hline\n",
      "Valence\\_mean:Category[Person] & -0.378 & 0.153 &    -0.683 &     -0.089 \\\\ \\hline\n",
      " Valence\\_mean:Category[Scene] & -0.288 & 0.166 &    -0.605 &      0.047 \\\\ \\hline\n",
      "Arousal\\_mean:Category[Person] & -0.330 & 0.225 &    -0.768 &      0.102 \\\\ \\hline\n",
      " Arousal\\_mean:Category[Scene] & -0.215 & 0.229 &    -0.658 &      0.230 \\\\ \\hline\n",
      "\\bottomrule\n",
      "\\end{tabular}\n",
      "\n"
     ]
    }
   ],
   "source": [
    "# Model 1: Examine the effect of arousal and valence on recall: \n",
    "\n",
    "data_dir = \"/home1/salman.qasim/Salman_Project/FR_Emotion_Lukas/EmotionGrids/Results/scratch\"\n",
    "\n",
    "behav_df = pd.read_csv(f'{data_dir}/encoding_df')\n",
    "\n",
    "behav_df = behav_df[behav_df.Category!='Object']\n",
    "\n",
    "behav_df = behav_df[['recall', 'Valence_mean', 'Arousal_mean', 'subj', 'Category']]\n",
    "\n",
    "behav_df.Valence_mean = behav_df.Valence_mean - behav_df.Valence_mean.mean()\n",
    "\n",
    "cat_type = CategoricalDtype(categories=['Animal', 'Person', 'Scene'], ordered=True)\n",
    "behav_df.Category = behav_df.Category.astype(cat_type)\n",
    "\n",
    "\n",
    "# Specify the model\n",
    "y = 'recall'\n",
    "X = ['Valence_mean', 'Arousal_mean', 'Category'] \n",
    "Intx = ['Valence_mean:Category', \n",
    "        'Arousal_mean:Category',\n",
    "        'Valence_mean:Arousal_mean']\n",
    "\n",
    "label = (f\"{y}\" + \"_{}\"*len(X)).format(*X)\n",
    "\n",
    "#             'power:hemi:region:arousal',\n",
    "#             'power:hemi:region:CV'\n",
    "rand_effect = ['subj']\n",
    "categorical = ['Category']\n",
    "\n",
    "# Drop nan data\n",
    "behav_df = behav_df.dropna(subset=X)\n",
    "\n",
    "label = (f\"{y}\" + \"_{}\"*len(X)).format(*X) + '_Lukas'\n",
    "\n",
    "# Run the model \n",
    "run_model(behav_df, y, X, Intx, rand_effect, \n",
    "          chains=4, cores=4, tune=1000, draws=1000, categorical_baseline=False,\n",
    "          label = label, rand_slopes=False)"
   ]
  },
  {
   "cell_type": "code",
   "execution_count": 47,
   "id": "44842382-c0cc-4037-9cfa-0d127c178cc8",
   "metadata": {},
   "outputs": [
    {
     "name": "stderr",
     "output_type": "stream",
     "text": [
      "Modeling the probability that recall==1\n",
      "Auto-assigning NUTS sampler...\n",
      "Initializing NUTS using advi+adapt_diag...\n"
     ]
    },
    {
     "data": {
      "text/html": [
       "\n",
       "<style>\n",
       "    /* Turns off some styling */\n",
       "    progress {\n",
       "        /* gets rid of default border in Firefox and Opera. */\n",
       "        border: none;\n",
       "        /* Needs to be in here for Safari polyfill so background images work as expected. */\n",
       "        background-size: auto;\n",
       "    }\n",
       "    .progress-bar-interrupted, .progress-bar-interrupted::-webkit-progress-bar {\n",
       "        background: #F44336;\n",
       "    }\n",
       "</style>\n"
      ],
      "text/plain": [
       "<IPython.core.display.HTML object>"
      ]
     },
     "metadata": {},
     "output_type": "display_data"
    },
    {
     "data": {
      "text/html": [
       "\n",
       "    <div>\n",
       "      <progress value='19130' class='' max='50000' style='width:300px; height:20px; vertical-align: middle;'></progress>\n",
       "      38.26% [19130/50000 00:12<00:19 Average Loss = 2,134.9]\n",
       "    </div>\n",
       "    "
      ],
      "text/plain": [
       "<IPython.core.display.HTML object>"
      ]
     },
     "metadata": {},
     "output_type": "display_data"
    },
    {
     "name": "stderr",
     "output_type": "stream",
     "text": [
      "Convergence achieved at 19300\n",
      "Interrupted at 19,299 [38%]: Average Loss = 3,281.8\n",
      "Multiprocess sampling (4 chains in 4 jobs)\n",
      "NUTS: [1|subj_offset, 1|subj_sigma, Valence_mean:Arousal_mean, Arousal_mean, Valence_mean, Intercept]\n"
     ]
    },
    {
     "data": {
      "text/html": [
       "\n",
       "<style>\n",
       "    /* Turns off some styling */\n",
       "    progress {\n",
       "        /* gets rid of default border in Firefox and Opera. */\n",
       "        border: none;\n",
       "        /* Needs to be in here for Safari polyfill so background images work as expected. */\n",
       "        background-size: auto;\n",
       "    }\n",
       "    .progress-bar-interrupted, .progress-bar-interrupted::-webkit-progress-bar {\n",
       "        background: #F44336;\n",
       "    }\n",
       "</style>\n"
      ],
      "text/plain": [
       "<IPython.core.display.HTML object>"
      ]
     },
     "metadata": {},
     "output_type": "display_data"
    },
    {
     "data": {
      "text/html": [
       "\n",
       "    <div>\n",
       "      <progress value='8000' class='' max='8000' style='width:300px; height:20px; vertical-align: middle;'></progress>\n",
       "      100.00% [8000/8000 03:31<00:00 Sampling 4 chains, 0 divergences]\n",
       "    </div>\n",
       "    "
      ],
      "text/plain": [
       "<IPython.core.display.HTML object>"
      ]
     },
     "metadata": {},
     "output_type": "display_data"
    },
    {
     "name": "stderr",
     "output_type": "stream",
     "text": [
      "Sampling 4 chains for 1_000 tune and 1_000 draw iterations (4_000 + 4_000 draws total) took 211 seconds.\n",
      "The number of effective samples is smaller than 25% for some parameters.\n",
      "/home1/salman.qasim/Salman_Python_Scripts/SQ_Projects/Bayesian_model_utils.py:142: FutureWarning: In future versions `DataFrame.to_latex` is expected to utilise the base implementation of `Styler.to_latex` for formatting and rendering. The arguments signature may therefore change. It is recommended instead to use `DataFrame.style.to_latex` which also contains additional functionality.\n",
      "  print(results_df.reset_index().to_latex(index=False,\n"
     ]
    },
    {
     "name": "stdout",
     "output_type": "stream",
     "text": [
      "\\begin{tabular}{|c|c|c|c|}\n",
      "\\toprule\n",
      "                    index &   mean &    sd &  hdi\\_2.5\\% &  hdi\\_97.5\\% \\\\ \\hline\n",
      "\\midrule\n",
      "             Valence\\_mean &  0.320 & 0.342 &    -0.308 &      1.034 \\\\ \\hline\n",
      "Valence\\_mean:Arousal\\_mean & -0.072 & 0.091 &    -0.249 &      0.104 \\\\ \\hline\n",
      "             Arousal\\_mean &  0.249 & 0.059 &     0.138 &      0.364 \\\\ \\hline\n",
      "Valence\\_mean:Arousal\\_mean & -0.072 & 0.091 &    -0.249 &      0.104 \\\\ \\hline\n",
      "\\bottomrule\n",
      "\\end{tabular}\n",
      "\n"
     ]
    }
   ],
   "source": [
    "# Model 1: Examine the effect of arousal and valence on recall: \n",
    "\n",
    "data_dir = \"/home1/salman.qasim/Salman_Project/FR_Emotion_Lukas/EmotionGrids/Results/scratch\"\n",
    "\n",
    "behav_df = pd.read_csv(f'{data_dir}/encoding_df')\n",
    "\n",
    "# behav_df = behav_df[behav_df.Category!='Object']\n",
    "\n",
    "behav_df = behav_df[['recall', 'Valence_mean', 'Arousal_mean', 'subj']]\n",
    "\n",
    "behav_df.Valence_mean = behav_df.Valence_mean - behav_df.Valence_mean.mean()\n",
    "\n",
    "\n",
    "# Specify the model\n",
    "y = 'recall'\n",
    "X = ['Valence_mean', 'Arousal_mean'] \n",
    "Intx = ['Valence_mean:Arousal_mean']\n",
    "\n",
    "label = (f\"{y}\" + \"_{}\"*len(X)).format(*X)\n",
    "\n",
    "#             'power:hemi:region:arousal',\n",
    "#             'power:hemi:region:CV'\n",
    "rand_effect = ['subj']\n",
    "# categorical = ['Category']\n",
    "\n",
    "# Drop nan data\n",
    "behav_df = behav_df.dropna(subset=X)\n",
    "\n",
    "label = (f\"{y}\" + \"_{}\"*len(X)).format(*X) + '_Lukas'\n",
    "\n",
    "# Run the model \n",
    "run_model(df=behav_df, y=y, X=X, , Intx=Intx, rand_effect=rand_effect, \n",
    "          chains=4, cores=4, tune=1000, draws=1000, \n",
    "          label = label, rand_slopes=False)"
   ]
  },
  {
   "cell_type": "code",
   "execution_count": 52,
   "id": "0b1b1cd7-8494-4901-b3b2-0e6770217eef",
   "metadata": {},
   "outputs": [],
   "source": [
    "# # Model 1: Examine the effect of arousal and valence on recall: \n",
    "\n",
    "# data_dir = \"/home1/salman.qasim/Salman_Project/FR_Emotion_Lukas/EmotionGrids/Results/scratch\"\n",
    "\n",
    "# behav_df = pd.read_csv(f'{data_dir}/encoding_df')\n",
    "\n",
    "# # behav_df = behav_df[behav_df.Category!='Object']\n",
    "\n",
    "# behav_df = behav_df[['recall', 'Valence_mean', 'Arousal_mean', 'subj']]\n",
    "\n",
    "# behav_df.Valence_mean = behav_df.Valence_mean - behav_df.Valence_mean.mean()\n",
    "# behav_df['Valence_squared'] = behav_df.Valence_mean**2\n",
    "\n",
    "\n",
    "# # Specify the model\n",
    "# y = 'recall'\n",
    "# X = ['Valence_squared', 'Arousal_mean'] \n",
    "# Intx = ['Valence_squared:Arousal_mean']\n",
    "\n",
    "# label = (f\"{y}\" + \"_{}\"*len(X)).format(*X)\n",
    "\n",
    "# #             'power:hemi:region:arousal',\n",
    "# #             'power:hemi:region:CV'\n",
    "# rand_effect = ['subj']\n",
    "# # categorical = ['Category']\n",
    "\n",
    "# # Drop nan data\n",
    "# behav_df = behav_df.dropna(subset=X)\n",
    "\n",
    "# label = (f\"{y}\" + \"_{}\"*len(X)).format(*X) + '_Lukas'\n",
    "\n",
    "# # Run the model \n",
    "# run_model(df=behav_df, y=y, X=X, Intx=Intx, rand_effect=rand_effect, \n",
    "#           chains=4, cores=4, tune=1000, draws=1000, \n",
    "#           label = label, rand_slopes=False)"
   ]
  },
  {
   "cell_type": "code",
   "execution_count": 53,
   "id": "0beeb257-468e-4a07-826a-d74037826e70",
   "metadata": {},
   "outputs": [],
   "source": [
    "# # Model 1: Examine the effect of arousal and valence on recall: \n",
    "\n",
    "# data_dir = \"/home1/salman.qasim/Salman_Project/FR_Emotion_Lukas/EmotionGrids/Results/scratch\"\n",
    "\n",
    "# behav_df = pd.read_csv(f'{data_dir}/encoding_df')\n",
    "\n",
    "# behav_df = behav_df[behav_df.Category!='Object']\n",
    "\n",
    "# behav_df = behav_df[['recall', 'Valence_mean', 'Arousal_mean', 'subj', 'Category']]\n",
    "\n",
    "# behav_df.Valence_mean = behav_df.Valence_mean - behav_df.Valence_mean.mean()\n",
    "\n",
    "# cat_type = CategoricalDtype(categories=['Animal', 'Person', 'Scene'], ordered=True)\n",
    "# behav_df.Category = behav_df.Category.astype(cat_type)\n",
    "\n",
    "\n",
    "# # Specify the model\n",
    "# y = 'recall'\n",
    "# X = ['Category'] \n",
    "# # Intx = ['Valence_mean:Arousal_mean']\n",
    "\n",
    "# label = (f\"{y}\" + \"_{}\"*len(X)).format(*X)\n",
    "\n",
    "# #             'power:hemi:region:arousal',\n",
    "# #             'power:hemi:region:CV'\n",
    "# rand_effect = ['subj']\n",
    "# categorical = ['Category']\n",
    "\n",
    "# # Drop nan data\n",
    "# behav_df = behav_df.dropna(subset=X)\n",
    "\n",
    "# label = (f\"{y}\" + \"_{}\"*len(X)).format(*X) + '_Lukas'\n",
    "\n",
    "# # Run the model \n",
    "# run_model(df=behav_df, y=y, X=X, rand_effect=rand_effect, \n",
    "#           chains=4, cores=4, tune=1000, draws=1000, \n",
    "#           label = label, rand_slopes=False, Intx=None)"
   ]
  },
  {
   "cell_type": "code",
   "execution_count": 50,
   "id": "45f7d9f5-a2d7-4e60-9ce8-1fdba11159af",
   "metadata": {},
   "outputs": [
    {
     "name": "stdout",
     "output_type": "stream",
     "text": [
      "\\begin{tabular}{|c|c|}\n",
      "\\toprule\n",
      "          model &          loo \\\\ \\hline\n",
      "\\midrule\n",
      "        valence & -2087.768199 \\\\ \\hline\n",
      "valence\\_squared & -2087.788514 \\\\ \\hline\n",
      "\\bottomrule\n",
      "\\end{tabular}\n",
      "\n"
     ]
    },
    {
     "name": "stderr",
     "output_type": "stream",
     "text": [
      "/tmp/2832674.1.jupyter.q/ipykernel_111505/1591761843.py:14: FutureWarning: In future versions `DataFrame.to_latex` is expected to utilise the base implementation of `Styler.to_latex` for formatting and rendering. The arguments signature may therefore change. It is recommended instead to use `DataFrame.style.to_latex` which also contains additional functionality.\n",
      "  print(plot_df.to_latex(index=False,\n"
     ]
    }
   ],
   "source": [
    "# Model comparison: use PSI-LOO to determine which model to use. \n",
    "\n",
    "# Load each model\n",
    "valence = az.from_netcdf('/home1/salman.qasim/Salman_Project/FR_Emotion/BayesModels/recall_Valence_mean_Arousal_mean_Lukas_model')\n",
    "valence_squared  = az.from_netcdf(f'/home1/salman.qasim/Salman_Project/FR_Emotion/BayesModels/recall_Valence_squared_Arousal_mean_Lukas_model')\n",
    "\n",
    "models = {\"valence\": valence, \n",
    "          \"valence_squared\": valence_squared}\n",
    "\n",
    "df_compare = az.compare(models, ic='loo')\n",
    "plot_df = df_compare.reset_index().rename(columns={'index':'model'})[['model', 'loo']]\n",
    "\n",
    "c_string = '|c'*plot_df.shape[1] + '|'\n",
    "print(plot_df.to_latex(index=False, \n",
    "                                        column_format=c_string).replace(\"\\\\\\n\", \"\\\\ \\hline\\n\"))  \n"
   ]
  },
  {
   "cell_type": "code",
   "execution_count": 51,
   "id": "b3c15d88-bd89-4b5d-8143-8365af4d124c",
   "metadata": {},
   "outputs": [
    {
     "data": {
      "text/plain": [
       "<AxesSubplot:xlabel='Log'>"
      ]
     },
     "execution_count": 51,
     "metadata": {},
     "output_type": "execute_result"
    },
    {
     "data": {
      "image/png": "[encoded data removed]",
      "text/plain": [
       "<Figure size 432x144 with 1 Axes>"
      ]
     },
     "metadata": {
      "needs_background": "light"
     },
     "output_type": "display_data"
    }
   ],
   "source": [
    "az.plot_compare(df_compare, insample_dev=True)"
   ]
  },
  {
   "cell_type": "code",
   "execution_count": null,
   "id": "4e3c6072-f7e0-4091-9521-5df7203b7fdf",
   "metadata": {},
   "outputs": [],
   "source": []
  }
 ],
 "metadata": {
  "kernelspec": {
   "display_name": "bambi_env",
   "language": "python",
   "name": "bambi_env"
  },
  "language_info": {
   "codemirror_mode": {
    "name": "ipython",
    "version": 3
   },
   "file_extension": ".py",
   "mimetype": "text/x-python",
   "name": "python",
   "nbconvert_exporter": "python",
   "pygments_lexer": "ipython3",
   "version": "3.10.4"
  }
 },
 "nbformat": 4,
 "nbformat_minor": 5
}
